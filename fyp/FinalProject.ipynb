{
 "cells": [
  {
   "cell_type": "code",
   "execution_count": 1,
   "metadata": {},
   "outputs": [],
   "source": [
    "# import necessary libraries\n",
    "import json, urllib.request\n",
    "import csv, requests\n",
    "import branca, folium, pycountry\n",
    "import pandas as pd\n",
    "import numpy as np\n",
    "import matplotlib.pyplot as plt\n",
    "import pycountry_convert as pc\n",
    "from datetime import datetime\n",
    "from folium.features import Choropleth\n",
    "from IPython.display import display\n",
    "from sklearn.model_selection import train_test_split\n",
    "from sklearn.linear_model import LinearRegression\n",
    "\n",
    "%matplotlib inline"
   ]
  },
  {
   "cell_type": "markdown",
   "metadata": {},
   "source": [
    "Load the shape of world map, the source of data can be found below:-\n",
    "<br>Source of JSON file: https://github.com/python-visualization/folium/tree/master/examples/data\n",
    "\n",
    "Load the time series for COVID-19 cases, the source of data can be found below:-\n",
    "<br>Time series data set: https://github.com/CSSEGISandData/COVID-19/tree/master/csse_covid_19_data/csse_covid_19_time_series\n"
   ]
  },
  {
   "cell_type": "code",
   "execution_count": 2,
   "metadata": {},
   "outputs": [],
   "source": [
    "# JSON file to plot a world map\n",
    "json_url = 'https://raw.githubusercontent.com/python-visualization/folium/master/examples/data/world-countries.json'\n",
    "\n",
    "# Link to download datasets for confirmed cases, death cases and recovered cases.\n",
    "url = \"https://raw.githubusercontent.com/CSSEGISandData/COVID-19/master/csse_covid_19_data/csse_covid_19_time_series/\"\n",
    "\n",
    "\n",
    "with urllib.request.urlopen(json_url) as parse_url:\n",
    "    geo_json = json.loads(parse_url.read().decode())\n",
    "\n",
    "\n",
    "confirmed_cases = pd.read_csv(\"{}/{}\".format(url, 'time_series_covid19_confirmed_global.csv'), \n",
    "                              error_bad_lines=False)\n",
    "death_reported = pd.read_csv(\"{}/{}\".format(url, 'time_series_covid19_deaths_global.csv'), \n",
    "                              error_bad_lines=False)\n",
    "recovered_cases = pd.read_csv(\"{}/{}\".format(url, 'time_series_covid19_recovered_global.csv'), \n",
    "                              error_bad_lines=False)"
   ]
  },
  {
   "cell_type": "markdown",
   "metadata": {},
   "source": [
    "<br> Checking the 1st 4 columns ('Province/State', 'Country/Region', 'Lat', 'Long') and the last columns (i.e. the latest date posted) whether it is empty.\n",
    "<br> The output below shown all these 5 columns \"False\" as there are not empty cells."
   ]
  },
  {
   "cell_type": "code",
   "execution_count": 3,
   "metadata": {},
   "outputs": [
    {
     "data": {
      "text/plain": [
       "Province/State     True\n",
       "Country/Region    False\n",
       "Lat               False\n",
       "Long              False\n",
       "1/22/20           False\n",
       "                  ...  \n",
       "4/4/20            False\n",
       "4/5/20            False\n",
       "4/6/20            False\n",
       "4/7/20            False\n",
       "4/8/20            False\n",
       "Length: 82, dtype: bool"
      ]
     },
     "execution_count": 3,
     "metadata": {},
     "output_type": "execute_result"
    }
   ],
   "source": [
    "confirmed_cases.isnull().any()\n",
    "#death_reported.isnull().any()\n",
    "#recovered_cases.isnull().any()"
   ]
  },
  {
   "cell_type": "code",
   "execution_count": 4,
   "metadata": {},
   "outputs": [
    {
     "data": {
      "text/plain": [
       "Index(['Province/State', 'Country/Region', 'Lat', 'Long', '1/22/20', '1/23/20',\n",
       "       '1/24/20', '1/25/20', '1/26/20', '1/27/20', '1/28/20', '1/29/20',\n",
       "       '1/30/20', '1/31/20', '2/1/20', '2/2/20', '2/3/20', '2/4/20', '2/5/20',\n",
       "       '2/6/20', '2/7/20', '2/8/20', '2/9/20', '2/10/20', '2/11/20', '2/12/20',\n",
       "       '2/13/20', '2/14/20', '2/15/20', '2/16/20', '2/17/20', '2/18/20',\n",
       "       '2/19/20', '2/20/20', '2/21/20', '2/22/20', '2/23/20', '2/24/20',\n",
       "       '2/25/20', '2/26/20', '2/27/20', '2/28/20', '2/29/20', '3/1/20',\n",
       "       '3/2/20', '3/3/20', '3/4/20', '3/5/20', '3/6/20', '3/7/20', '3/8/20',\n",
       "       '3/9/20', '3/10/20', '3/11/20', '3/12/20', '3/13/20', '3/14/20',\n",
       "       '3/15/20', '3/16/20', '3/17/20', '3/18/20', '3/19/20', '3/20/20',\n",
       "       '3/21/20', '3/22/20', '3/23/20', '3/24/20', '3/25/20', '3/26/20',\n",
       "       '3/27/20', '3/28/20', '3/29/20', '3/30/20', '3/31/20', '4/1/20',\n",
       "       '4/2/20', '4/3/20', '4/4/20', '4/5/20', '4/6/20', '4/7/20', '4/8/20'],\n",
       "      dtype='object')"
      ]
     },
     "execution_count": 4,
     "metadata": {},
     "output_type": "execute_result"
    }
   ],
   "source": [
    "confirmed_cases.columns\n",
    "#death_reported.columns\n",
    "#recovered_cases.columns"
   ]
  },
  {
   "cell_type": "markdown",
   "metadata": {},
   "source": [
    "<br> Because we need only the latest updates of the total cases, slicing the data is necessary.\n",
    "<br> We need to perform data cleaning and left only the first  4 columns and last column of datasets.\n",
    "<br> Please see below."
   ]
  },
  {
   "cell_type": "code",
   "execution_count": 5,
   "metadata": {},
   "outputs": [
    {
     "data": {
      "text/plain": [
       "['Province/State', 'Country/Region', 'Lat', 'Long', '4/8/20']"
      ]
     },
     "execution_count": 5,
     "metadata": {},
     "output_type": "execute_result"
    }
   ],
   "source": [
    "features = [confirmed_cases.columns[i] for i in (0,1,2,3,-1)]\n",
    "features"
   ]
  },
  {
   "cell_type": "code",
   "execution_count": 6,
   "metadata": {},
   "outputs": [
    {
     "data": {
      "text/html": [
       "<div>\n",
       "<style scoped>\n",
       "    .dataframe tbody tr th:only-of-type {\n",
       "        vertical-align: middle;\n",
       "    }\n",
       "\n",
       "    .dataframe tbody tr th {\n",
       "        vertical-align: top;\n",
       "    }\n",
       "\n",
       "    .dataframe thead th {\n",
       "        text-align: right;\n",
       "    }\n",
       "</style>\n",
       "<table border=\"1\" class=\"dataframe\">\n",
       "  <thead>\n",
       "    <tr style=\"text-align: right;\">\n",
       "      <th></th>\n",
       "      <th>Province/State</th>\n",
       "      <th>Country/Region</th>\n",
       "      <th>Lat</th>\n",
       "      <th>Long</th>\n",
       "      <th>4/8/20</th>\n",
       "      <th>LogValue</th>\n",
       "    </tr>\n",
       "  </thead>\n",
       "  <tbody>\n",
       "    <tr>\n",
       "      <th>225</th>\n",
       "      <td>NaN</td>\n",
       "      <td>US</td>\n",
       "      <td>37.0902</td>\n",
       "      <td>-95.7129</td>\n",
       "      <td>429052</td>\n",
       "      <td>12.969333</td>\n",
       "    </tr>\n",
       "    <tr>\n",
       "      <th>201</th>\n",
       "      <td>NaN</td>\n",
       "      <td>Spain</td>\n",
       "      <td>40.0000</td>\n",
       "      <td>-4.0000</td>\n",
       "      <td>148220</td>\n",
       "      <td>11.906453</td>\n",
       "    </tr>\n",
       "    <tr>\n",
       "      <th>137</th>\n",
       "      <td>NaN</td>\n",
       "      <td>Italy</td>\n",
       "      <td>43.0000</td>\n",
       "      <td>12.0000</td>\n",
       "      <td>139422</td>\n",
       "      <td>11.845261</td>\n",
       "    </tr>\n",
       "    <tr>\n",
       "      <th>120</th>\n",
       "      <td>NaN</td>\n",
       "      <td>Germany</td>\n",
       "      <td>51.0000</td>\n",
       "      <td>9.0000</td>\n",
       "      <td>113296</td>\n",
       "      <td>11.637759</td>\n",
       "    </tr>\n",
       "    <tr>\n",
       "      <th>116</th>\n",
       "      <td>NaN</td>\n",
       "      <td>France</td>\n",
       "      <td>46.2276</td>\n",
       "      <td>2.2137</td>\n",
       "      <td>112950</td>\n",
       "      <td>11.634701</td>\n",
       "    </tr>\n",
       "    <tr>\n",
       "      <th>62</th>\n",
       "      <td>Hubei</td>\n",
       "      <td>China</td>\n",
       "      <td>30.9756</td>\n",
       "      <td>112.2707</td>\n",
       "      <td>67803</td>\n",
       "      <td>11.124362</td>\n",
       "    </tr>\n",
       "    <tr>\n",
       "      <th>133</th>\n",
       "      <td>NaN</td>\n",
       "      <td>Iran</td>\n",
       "      <td>32.0000</td>\n",
       "      <td>53.0000</td>\n",
       "      <td>64586</td>\n",
       "      <td>11.075753</td>\n",
       "    </tr>\n",
       "    <tr>\n",
       "      <th>223</th>\n",
       "      <td>NaN</td>\n",
       "      <td>United Kingdom</td>\n",
       "      <td>55.3781</td>\n",
       "      <td>-3.4360</td>\n",
       "      <td>60733</td>\n",
       "      <td>11.014242</td>\n",
       "    </tr>\n",
       "    <tr>\n",
       "      <th>213</th>\n",
       "      <td>NaN</td>\n",
       "      <td>Turkey</td>\n",
       "      <td>38.9637</td>\n",
       "      <td>35.2433</td>\n",
       "      <td>38226</td>\n",
       "      <td>10.551271</td>\n",
       "    </tr>\n",
       "    <tr>\n",
       "      <th>23</th>\n",
       "      <td>NaN</td>\n",
       "      <td>Belgium</td>\n",
       "      <td>50.8333</td>\n",
       "      <td>4.0000</td>\n",
       "      <td>23403</td>\n",
       "      <td>10.060619</td>\n",
       "    </tr>\n",
       "  </tbody>\n",
       "</table>\n",
       "</div>"
      ],
      "text/plain": [
       "    Province/State  Country/Region      Lat      Long  4/8/20   LogValue\n",
       "225            NaN              US  37.0902  -95.7129  429052  12.969333\n",
       "201            NaN           Spain  40.0000   -4.0000  148220  11.906453\n",
       "137            NaN           Italy  43.0000   12.0000  139422  11.845261\n",
       "120            NaN         Germany  51.0000    9.0000  113296  11.637759\n",
       "116            NaN          France  46.2276    2.2137  112950  11.634701\n",
       "62           Hubei           China  30.9756  112.2707   67803  11.124362\n",
       "133            NaN            Iran  32.0000   53.0000   64586  11.075753\n",
       "223            NaN  United Kingdom  55.3781   -3.4360   60733  11.014242\n",
       "213            NaN          Turkey  38.9637   35.2433   38226  10.551271\n",
       "23             NaN         Belgium  50.8333    4.0000   23403  10.060619"
      ]
     },
     "execution_count": 6,
     "metadata": {},
     "output_type": "execute_result"
    }
   ],
   "source": [
    "latest_confirmed_cases = confirmed_cases[confirmed_cases[features[-1]] != 0].copy()\n",
    "latest_confirmed_cases = latest_confirmed_cases[features]\n",
    "latest_confirmed_cases['LogValue'] = np.log(latest_confirmed_cases[features[-1]])\n",
    "latest_confirmed_cases.nlargest(10, [features[-1]])"
   ]
  },
  {
   "cell_type": "code",
   "execution_count": 7,
   "metadata": {},
   "outputs": [
    {
     "data": {
      "text/html": [
       "<div>\n",
       "<style scoped>\n",
       "    .dataframe tbody tr th:only-of-type {\n",
       "        vertical-align: middle;\n",
       "    }\n",
       "\n",
       "    .dataframe tbody tr th {\n",
       "        vertical-align: top;\n",
       "    }\n",
       "\n",
       "    .dataframe thead th {\n",
       "        text-align: right;\n",
       "    }\n",
       "</style>\n",
       "<table border=\"1\" class=\"dataframe\">\n",
       "  <thead>\n",
       "    <tr style=\"text-align: right;\">\n",
       "      <th></th>\n",
       "      <th>Lat</th>\n",
       "      <th>Long</th>\n",
       "      <th>4/8/20</th>\n",
       "      <th>LogValue</th>\n",
       "    </tr>\n",
       "  </thead>\n",
       "  <tbody>\n",
       "    <tr>\n",
       "      <th>count</th>\n",
       "      <td>261.000000</td>\n",
       "      <td>261.000000</td>\n",
       "      <td>261.000000</td>\n",
       "      <td>261.000000</td>\n",
       "    </tr>\n",
       "    <tr>\n",
       "      <th>mean</th>\n",
       "      <td>21.502764</td>\n",
       "      <td>22.237237</td>\n",
       "      <td>5789.670498</td>\n",
       "      <td>5.422398</td>\n",
       "    </tr>\n",
       "    <tr>\n",
       "      <th>std</th>\n",
       "      <td>24.803658</td>\n",
       "      <td>71.031114</td>\n",
       "      <td>31583.100626</td>\n",
       "      <td>2.527674</td>\n",
       "    </tr>\n",
       "    <tr>\n",
       "      <th>min</th>\n",
       "      <td>-51.796300</td>\n",
       "      <td>-135.000000</td>\n",
       "      <td>1.000000</td>\n",
       "      <td>0.000000</td>\n",
       "    </tr>\n",
       "    <tr>\n",
       "      <th>25%</th>\n",
       "      <td>7.540000</td>\n",
       "      <td>-23.041800</td>\n",
       "      <td>32.000000</td>\n",
       "      <td>3.465736</td>\n",
       "    </tr>\n",
       "    <tr>\n",
       "      <th>50%</th>\n",
       "      <td>23.685000</td>\n",
       "      <td>20.902977</td>\n",
       "      <td>251.000000</td>\n",
       "      <td>5.525453</td>\n",
       "    </tr>\n",
       "    <tr>\n",
       "      <th>75%</th>\n",
       "      <td>41.204400</td>\n",
       "      <td>81.000000</td>\n",
       "      <td>1202.000000</td>\n",
       "      <td>7.091742</td>\n",
       "    </tr>\n",
       "    <tr>\n",
       "      <th>max</th>\n",
       "      <td>71.706900</td>\n",
       "      <td>178.065000</td>\n",
       "      <td>429052.000000</td>\n",
       "      <td>12.969333</td>\n",
       "    </tr>\n",
       "  </tbody>\n",
       "</table>\n",
       "</div>"
      ],
      "text/plain": [
       "              Lat        Long         4/8/20    LogValue\n",
       "count  261.000000  261.000000     261.000000  261.000000\n",
       "mean    21.502764   22.237237    5789.670498    5.422398\n",
       "std     24.803658   71.031114   31583.100626    2.527674\n",
       "min    -51.796300 -135.000000       1.000000    0.000000\n",
       "25%      7.540000  -23.041800      32.000000    3.465736\n",
       "50%     23.685000   20.902977     251.000000    5.525453\n",
       "75%     41.204400   81.000000    1202.000000    7.091742\n",
       "max     71.706900  178.065000  429052.000000   12.969333"
      ]
     },
     "execution_count": 7,
     "metadata": {},
     "output_type": "execute_result"
    }
   ],
   "source": [
    "latest_confirmed_cases.describe()"
   ]
  },
  {
   "cell_type": "code",
   "execution_count": 8,
   "metadata": {},
   "outputs": [
    {
     "data": {
      "text/plain": [
       "[0.0, 3.0, 6.0, 7.0, 14.0]"
      ]
     },
     "execution_count": 8,
     "metadata": {},
     "output_type": "execute_result"
    }
   ],
   "source": [
    "# create a std distribution scales based on logarithmic values\n",
    "scales = list(round(latest_confirmed_cases.LogValue.quantile([0,0.25,0.5,0.75,1.0])))\n",
    "\n",
    "# I increase scale of the range by 1 to ensure that every time the maximum value is within the range.\n",
    "scales[-1] = scales [-1] + 1\n",
    "\n",
    "scales"
   ]
  },
  {
   "cell_type": "markdown",
   "metadata": {},
   "source": [
    "After creating the scales, I divided the Dataframe into 4 groups: <br>\n",
    "<ul style=\"list-style-type:circle;\">\n",
    "    <li>The range of min() value to 25th percentile (lower whisker)</li>\n",
    "    <li>The range of 25th percentile to median (lower half of interquartile range) </li>\n",
    "    <li>The range of median to 75th precentile (upper half of interquartile range) </li>\n",
    "    <li>The range of 75th percentile to max() (upper whisker) </li>\n",
    "</ul>"
   ]
  },
  {
   "cell_type": "code",
   "execution_count": 9,
   "metadata": {},
   "outputs": [],
   "source": [
    "### based on the scales created, four division is created.\n",
    "grouplist = {}\n",
    "\n",
    "for i in range(0,len(scales)-1):\n",
    "    grouplist[i] = latest_confirmed_cases[\n",
    "                    (latest_confirmed_cases.LogValue.values >= scales[i]) & \n",
    "                    (latest_confirmed_cases.LogValue.values < scales[i+1])\n",
    "                ]\n",
    "\n",
    "# prefix color code for each group     \n",
    "colorCode = ['#ffffb2','#fecc5c','#fd8d3c','#e31a1c']"
   ]
  },
  {
   "cell_type": "code",
   "execution_count": 10,
   "metadata": {
    "scrolled": false
   },
   "outputs": [
    {
     "data": {
      "text/html": [
       "<svg height=\"50\" width=\"500\"><line x1=\"0\" y1=\"0\" x2=\"0\" y2=\"20\" style=\"stroke:#ffffccff;stroke-width:3;\" /><line x1=\"1\" y1=\"0\" x2=\"1\" y2=\"20\" style=\"stroke:#ffffccff;stroke-width:3;\" /><line x1=\"2\" y1=\"0\" x2=\"2\" y2=\"20\" style=\"stroke:#ffffccff;stroke-width:3;\" /><line x1=\"3\" y1=\"0\" x2=\"3\" y2=\"20\" style=\"stroke:#ffffccff;stroke-width:3;\" /><line x1=\"4\" y1=\"0\" x2=\"4\" y2=\"20\" style=\"stroke:#ffffccff;stroke-width:3;\" /><line x1=\"5\" y1=\"0\" x2=\"5\" y2=\"20\" style=\"stroke:#ffffccff;stroke-width:3;\" /><line x1=\"6\" y1=\"0\" x2=\"6\" y2=\"20\" style=\"stroke:#ffffccff;stroke-width:3;\" /><line x1=\"7\" y1=\"0\" x2=\"7\" y2=\"20\" style=\"stroke:#ffffccff;stroke-width:3;\" /><line x1=\"8\" y1=\"0\" x2=\"8\" y2=\"20\" style=\"stroke:#ffffccff;stroke-width:3;\" /><line x1=\"9\" y1=\"0\" x2=\"9\" y2=\"20\" style=\"stroke:#ffffccff;stroke-width:3;\" /><line x1=\"10\" y1=\"0\" x2=\"10\" y2=\"20\" style=\"stroke:#ffffccff;stroke-width:3;\" /><line x1=\"11\" y1=\"0\" x2=\"11\" y2=\"20\" style=\"stroke:#ffffccff;stroke-width:3;\" /><line x1=\"12\" y1=\"0\" x2=\"12\" y2=\"20\" style=\"stroke:#ffffccff;stroke-width:3;\" /><line x1=\"13\" y1=\"0\" x2=\"13\" y2=\"20\" style=\"stroke:#ffffccff;stroke-width:3;\" /><line x1=\"14\" y1=\"0\" x2=\"14\" y2=\"20\" style=\"stroke:#ffffccff;stroke-width:3;\" /><line x1=\"15\" y1=\"0\" x2=\"15\" y2=\"20\" style=\"stroke:#ffffccff;stroke-width:3;\" /><line x1=\"16\" y1=\"0\" x2=\"16\" y2=\"20\" style=\"stroke:#ffffccff;stroke-width:3;\" /><line x1=\"17\" y1=\"0\" x2=\"17\" y2=\"20\" style=\"stroke:#ffffccff;stroke-width:3;\" /><line x1=\"18\" y1=\"0\" x2=\"18\" y2=\"20\" style=\"stroke:#ffffccff;stroke-width:3;\" /><line x1=\"19\" y1=\"0\" x2=\"19\" y2=\"20\" style=\"stroke:#ffffccff;stroke-width:3;\" /><line x1=\"20\" y1=\"0\" x2=\"20\" y2=\"20\" style=\"stroke:#ffffccff;stroke-width:3;\" /><line x1=\"21\" y1=\"0\" x2=\"21\" y2=\"20\" style=\"stroke:#ffffccff;stroke-width:3;\" /><line x1=\"22\" y1=\"0\" x2=\"22\" y2=\"20\" style=\"stroke:#ffffccff;stroke-width:3;\" /><line x1=\"23\" y1=\"0\" x2=\"23\" y2=\"20\" style=\"stroke:#ffffccff;stroke-width:3;\" /><line x1=\"24\" y1=\"0\" x2=\"24\" y2=\"20\" style=\"stroke:#ffffccff;stroke-width:3;\" /><line x1=\"25\" y1=\"0\" x2=\"25\" y2=\"20\" style=\"stroke:#ffffccff;stroke-width:3;\" /><line x1=\"26\" y1=\"0\" x2=\"26\" y2=\"20\" style=\"stroke:#ffffccff;stroke-width:3;\" /><line x1=\"27\" y1=\"0\" x2=\"27\" y2=\"20\" style=\"stroke:#ffffccff;stroke-width:3;\" /><line x1=\"28\" y1=\"0\" x2=\"28\" y2=\"20\" style=\"stroke:#ffffccff;stroke-width:3;\" /><line x1=\"29\" y1=\"0\" x2=\"29\" y2=\"20\" style=\"stroke:#ffffccff;stroke-width:3;\" /><line x1=\"30\" y1=\"0\" x2=\"30\" y2=\"20\" style=\"stroke:#ffffccff;stroke-width:3;\" /><line x1=\"31\" y1=\"0\" x2=\"31\" y2=\"20\" style=\"stroke:#ffffccff;stroke-width:3;\" /><line x1=\"32\" y1=\"0\" x2=\"32\" y2=\"20\" style=\"stroke:#ffffccff;stroke-width:3;\" /><line x1=\"33\" y1=\"0\" x2=\"33\" y2=\"20\" style=\"stroke:#ffffccff;stroke-width:3;\" /><line x1=\"34\" y1=\"0\" x2=\"34\" y2=\"20\" style=\"stroke:#ffffccff;stroke-width:3;\" /><line x1=\"35\" y1=\"0\" x2=\"35\" y2=\"20\" style=\"stroke:#ffffccff;stroke-width:3;\" /><line x1=\"36\" y1=\"0\" x2=\"36\" y2=\"20\" style=\"stroke:#ffffccff;stroke-width:3;\" /><line x1=\"37\" y1=\"0\" x2=\"37\" y2=\"20\" style=\"stroke:#ffffccff;stroke-width:3;\" /><line x1=\"38\" y1=\"0\" x2=\"38\" y2=\"20\" style=\"stroke:#ffffccff;stroke-width:3;\" /><line x1=\"39\" y1=\"0\" x2=\"39\" y2=\"20\" style=\"stroke:#ffffccff;stroke-width:3;\" /><line x1=\"40\" y1=\"0\" x2=\"40\" y2=\"20\" style=\"stroke:#ffffccff;stroke-width:3;\" /><line x1=\"41\" y1=\"0\" x2=\"41\" y2=\"20\" style=\"stroke:#ffffccff;stroke-width:3;\" /><line x1=\"42\" y1=\"0\" x2=\"42\" y2=\"20\" style=\"stroke:#ffffccff;stroke-width:3;\" /><line x1=\"43\" y1=\"0\" x2=\"43\" y2=\"20\" style=\"stroke:#ffffccff;stroke-width:3;\" /><line x1=\"44\" y1=\"0\" x2=\"44\" y2=\"20\" style=\"stroke:#ffffccff;stroke-width:3;\" /><line x1=\"45\" y1=\"0\" x2=\"45\" y2=\"20\" style=\"stroke:#ffffccff;stroke-width:3;\" /><line x1=\"46\" y1=\"0\" x2=\"46\" y2=\"20\" style=\"stroke:#ffffccff;stroke-width:3;\" /><line x1=\"47\" y1=\"0\" x2=\"47\" y2=\"20\" style=\"stroke:#ffffccff;stroke-width:3;\" /><line x1=\"48\" y1=\"0\" x2=\"48\" y2=\"20\" style=\"stroke:#ffffccff;stroke-width:3;\" /><line x1=\"49\" y1=\"0\" x2=\"49\" y2=\"20\" style=\"stroke:#ffffccff;stroke-width:3;\" /><line x1=\"50\" y1=\"0\" x2=\"50\" y2=\"20\" style=\"stroke:#ffffccff;stroke-width:3;\" /><line x1=\"51\" y1=\"0\" x2=\"51\" y2=\"20\" style=\"stroke:#ffffccff;stroke-width:3;\" /><line x1=\"52\" y1=\"0\" x2=\"52\" y2=\"20\" style=\"stroke:#ffffccff;stroke-width:3;\" /><line x1=\"53\" y1=\"0\" x2=\"53\" y2=\"20\" style=\"stroke:#ffffccff;stroke-width:3;\" /><line x1=\"54\" y1=\"0\" x2=\"54\" y2=\"20\" style=\"stroke:#ffffccff;stroke-width:3;\" /><line x1=\"55\" y1=\"0\" x2=\"55\" y2=\"20\" style=\"stroke:#ffffccff;stroke-width:3;\" /><line x1=\"56\" y1=\"0\" x2=\"56\" y2=\"20\" style=\"stroke:#ffffccff;stroke-width:3;\" /><line x1=\"57\" y1=\"0\" x2=\"57\" y2=\"20\" style=\"stroke:#ffffccff;stroke-width:3;\" /><line x1=\"58\" y1=\"0\" x2=\"58\" y2=\"20\" style=\"stroke:#ffffccff;stroke-width:3;\" /><line x1=\"59\" y1=\"0\" x2=\"59\" y2=\"20\" style=\"stroke:#ffffccff;stroke-width:3;\" /><line x1=\"60\" y1=\"0\" x2=\"60\" y2=\"20\" style=\"stroke:#ffffccff;stroke-width:3;\" /><line x1=\"61\" y1=\"0\" x2=\"61\" y2=\"20\" style=\"stroke:#ffffccff;stroke-width:3;\" /><line x1=\"62\" y1=\"0\" x2=\"62\" y2=\"20\" style=\"stroke:#ffffccff;stroke-width:3;\" /><line x1=\"63\" y1=\"0\" x2=\"63\" y2=\"20\" style=\"stroke:#ffffccff;stroke-width:3;\" /><line x1=\"64\" y1=\"0\" x2=\"64\" y2=\"20\" style=\"stroke:#ffffccff;stroke-width:3;\" /><line x1=\"65\" y1=\"0\" x2=\"65\" y2=\"20\" style=\"stroke:#ffffccff;stroke-width:3;\" /><line x1=\"66\" y1=\"0\" x2=\"66\" y2=\"20\" style=\"stroke:#ffffccff;stroke-width:3;\" /><line x1=\"67\" y1=\"0\" x2=\"67\" y2=\"20\" style=\"stroke:#ffffccff;stroke-width:3;\" /><line x1=\"68\" y1=\"0\" x2=\"68\" y2=\"20\" style=\"stroke:#ffffccff;stroke-width:3;\" /><line x1=\"69\" y1=\"0\" x2=\"69\" y2=\"20\" style=\"stroke:#ffffccff;stroke-width:3;\" /><line x1=\"70\" y1=\"0\" x2=\"70\" y2=\"20\" style=\"stroke:#ffffccff;stroke-width:3;\" /><line x1=\"71\" y1=\"0\" x2=\"71\" y2=\"20\" style=\"stroke:#ffffccff;stroke-width:3;\" /><line x1=\"72\" y1=\"0\" x2=\"72\" y2=\"20\" style=\"stroke:#ffffccff;stroke-width:3;\" /><line x1=\"73\" y1=\"0\" x2=\"73\" y2=\"20\" style=\"stroke:#ffffccff;stroke-width:3;\" /><line x1=\"74\" y1=\"0\" x2=\"74\" y2=\"20\" style=\"stroke:#ffffccff;stroke-width:3;\" /><line x1=\"75\" y1=\"0\" x2=\"75\" y2=\"20\" style=\"stroke:#ffffccff;stroke-width:3;\" /><line x1=\"76\" y1=\"0\" x2=\"76\" y2=\"20\" style=\"stroke:#ffffccff;stroke-width:3;\" /><line x1=\"77\" y1=\"0\" x2=\"77\" y2=\"20\" style=\"stroke:#ffffccff;stroke-width:3;\" /><line x1=\"78\" y1=\"0\" x2=\"78\" y2=\"20\" style=\"stroke:#ffffccff;stroke-width:3;\" /><line x1=\"79\" y1=\"0\" x2=\"79\" y2=\"20\" style=\"stroke:#ffffccff;stroke-width:3;\" /><line x1=\"80\" y1=\"0\" x2=\"80\" y2=\"20\" style=\"stroke:#ffffccff;stroke-width:3;\" /><line x1=\"81\" y1=\"0\" x2=\"81\" y2=\"20\" style=\"stroke:#ffffccff;stroke-width:3;\" /><line x1=\"82\" y1=\"0\" x2=\"82\" y2=\"20\" style=\"stroke:#ffffccff;stroke-width:3;\" /><line x1=\"83\" y1=\"0\" x2=\"83\" y2=\"20\" style=\"stroke:#ffffccff;stroke-width:3;\" /><line x1=\"84\" y1=\"0\" x2=\"84\" y2=\"20\" style=\"stroke:#ffffccff;stroke-width:3;\" /><line x1=\"85\" y1=\"0\" x2=\"85\" y2=\"20\" style=\"stroke:#ffffccff;stroke-width:3;\" /><line x1=\"86\" y1=\"0\" x2=\"86\" y2=\"20\" style=\"stroke:#ffffccff;stroke-width:3;\" /><line x1=\"87\" y1=\"0\" x2=\"87\" y2=\"20\" style=\"stroke:#ffffccff;stroke-width:3;\" /><line x1=\"88\" y1=\"0\" x2=\"88\" y2=\"20\" style=\"stroke:#ffffccff;stroke-width:3;\" /><line x1=\"89\" y1=\"0\" x2=\"89\" y2=\"20\" style=\"stroke:#ffffccff;stroke-width:3;\" /><line x1=\"90\" y1=\"0\" x2=\"90\" y2=\"20\" style=\"stroke:#ffffccff;stroke-width:3;\" /><line x1=\"91\" y1=\"0\" x2=\"91\" y2=\"20\" style=\"stroke:#ffffccff;stroke-width:3;\" /><line x1=\"92\" y1=\"0\" x2=\"92\" y2=\"20\" style=\"stroke:#ffffccff;stroke-width:3;\" /><line x1=\"93\" y1=\"0\" x2=\"93\" y2=\"20\" style=\"stroke:#ffffccff;stroke-width:3;\" /><line x1=\"94\" y1=\"0\" x2=\"94\" y2=\"20\" style=\"stroke:#ffffccff;stroke-width:3;\" /><line x1=\"95\" y1=\"0\" x2=\"95\" y2=\"20\" style=\"stroke:#ffffccff;stroke-width:3;\" /><line x1=\"96\" y1=\"0\" x2=\"96\" y2=\"20\" style=\"stroke:#ffffccff;stroke-width:3;\" /><line x1=\"97\" y1=\"0\" x2=\"97\" y2=\"20\" style=\"stroke:#ffffccff;stroke-width:3;\" /><line x1=\"98\" y1=\"0\" x2=\"98\" y2=\"20\" style=\"stroke:#ffffccff;stroke-width:3;\" /><line x1=\"99\" y1=\"0\" x2=\"99\" y2=\"20\" style=\"stroke:#ffffccff;stroke-width:3;\" /><line x1=\"100\" y1=\"0\" x2=\"100\" y2=\"20\" style=\"stroke:#ffffccff;stroke-width:3;\" /><line x1=\"101\" y1=\"0\" x2=\"101\" y2=\"20\" style=\"stroke:#ffffccff;stroke-width:3;\" /><line x1=\"102\" y1=\"0\" x2=\"102\" y2=\"20\" style=\"stroke:#ffffccff;stroke-width:3;\" /><line x1=\"103\" y1=\"0\" x2=\"103\" y2=\"20\" style=\"stroke:#ffffccff;stroke-width:3;\" /><line x1=\"104\" y1=\"0\" x2=\"104\" y2=\"20\" style=\"stroke:#ffffccff;stroke-width:3;\" /><line x1=\"105\" y1=\"0\" x2=\"105\" y2=\"20\" style=\"stroke:#ffffccff;stroke-width:3;\" /><line x1=\"106\" y1=\"0\" x2=\"106\" y2=\"20\" style=\"stroke:#ffffccff;stroke-width:3;\" /><line x1=\"107\" y1=\"0\" x2=\"107\" y2=\"20\" style=\"stroke:#fece6aff;stroke-width:3;\" /><line x1=\"108\" y1=\"0\" x2=\"108\" y2=\"20\" style=\"stroke:#fece6aff;stroke-width:3;\" /><line x1=\"109\" y1=\"0\" x2=\"109\" y2=\"20\" style=\"stroke:#fece6aff;stroke-width:3;\" /><line x1=\"110\" y1=\"0\" x2=\"110\" y2=\"20\" style=\"stroke:#fece6aff;stroke-width:3;\" /><line x1=\"111\" y1=\"0\" x2=\"111\" y2=\"20\" style=\"stroke:#fece6aff;stroke-width:3;\" /><line x1=\"112\" y1=\"0\" x2=\"112\" y2=\"20\" style=\"stroke:#fece6aff;stroke-width:3;\" /><line x1=\"113\" y1=\"0\" x2=\"113\" y2=\"20\" style=\"stroke:#fece6aff;stroke-width:3;\" /><line x1=\"114\" y1=\"0\" x2=\"114\" y2=\"20\" style=\"stroke:#fece6aff;stroke-width:3;\" /><line x1=\"115\" y1=\"0\" x2=\"115\" y2=\"20\" style=\"stroke:#fece6aff;stroke-width:3;\" /><line x1=\"116\" y1=\"0\" x2=\"116\" y2=\"20\" style=\"stroke:#fece6aff;stroke-width:3;\" /><line x1=\"117\" y1=\"0\" x2=\"117\" y2=\"20\" style=\"stroke:#fece6aff;stroke-width:3;\" /><line x1=\"118\" y1=\"0\" x2=\"118\" y2=\"20\" style=\"stroke:#fece6aff;stroke-width:3;\" /><line x1=\"119\" y1=\"0\" x2=\"119\" y2=\"20\" style=\"stroke:#fece6aff;stroke-width:3;\" /><line x1=\"120\" y1=\"0\" x2=\"120\" y2=\"20\" style=\"stroke:#fece6aff;stroke-width:3;\" /><line x1=\"121\" y1=\"0\" x2=\"121\" y2=\"20\" style=\"stroke:#fece6aff;stroke-width:3;\" /><line x1=\"122\" y1=\"0\" x2=\"122\" y2=\"20\" style=\"stroke:#fece6aff;stroke-width:3;\" /><line x1=\"123\" y1=\"0\" x2=\"123\" y2=\"20\" style=\"stroke:#fece6aff;stroke-width:3;\" /><line x1=\"124\" y1=\"0\" x2=\"124\" y2=\"20\" style=\"stroke:#fece6aff;stroke-width:3;\" /><line x1=\"125\" y1=\"0\" x2=\"125\" y2=\"20\" style=\"stroke:#fece6aff;stroke-width:3;\" /><line x1=\"126\" y1=\"0\" x2=\"126\" y2=\"20\" style=\"stroke:#fece6aff;stroke-width:3;\" /><line x1=\"127\" y1=\"0\" x2=\"127\" y2=\"20\" style=\"stroke:#fece6aff;stroke-width:3;\" /><line x1=\"128\" y1=\"0\" x2=\"128\" y2=\"20\" style=\"stroke:#fece6aff;stroke-width:3;\" /><line x1=\"129\" y1=\"0\" x2=\"129\" y2=\"20\" style=\"stroke:#fece6aff;stroke-width:3;\" /><line x1=\"130\" y1=\"0\" x2=\"130\" y2=\"20\" style=\"stroke:#fece6aff;stroke-width:3;\" /><line x1=\"131\" y1=\"0\" x2=\"131\" y2=\"20\" style=\"stroke:#fece6aff;stroke-width:3;\" /><line x1=\"132\" y1=\"0\" x2=\"132\" y2=\"20\" style=\"stroke:#fece6aff;stroke-width:3;\" /><line x1=\"133\" y1=\"0\" x2=\"133\" y2=\"20\" style=\"stroke:#fece6aff;stroke-width:3;\" /><line x1=\"134\" y1=\"0\" x2=\"134\" y2=\"20\" style=\"stroke:#fece6aff;stroke-width:3;\" /><line x1=\"135\" y1=\"0\" x2=\"135\" y2=\"20\" style=\"stroke:#fece6aff;stroke-width:3;\" /><line x1=\"136\" y1=\"0\" x2=\"136\" y2=\"20\" style=\"stroke:#fece6aff;stroke-width:3;\" /><line x1=\"137\" y1=\"0\" x2=\"137\" y2=\"20\" style=\"stroke:#fece6aff;stroke-width:3;\" /><line x1=\"138\" y1=\"0\" x2=\"138\" y2=\"20\" style=\"stroke:#fece6aff;stroke-width:3;\" /><line x1=\"139\" y1=\"0\" x2=\"139\" y2=\"20\" style=\"stroke:#fece6aff;stroke-width:3;\" /><line x1=\"140\" y1=\"0\" x2=\"140\" y2=\"20\" style=\"stroke:#fece6aff;stroke-width:3;\" /><line x1=\"141\" y1=\"0\" x2=\"141\" y2=\"20\" style=\"stroke:#fece6aff;stroke-width:3;\" /><line x1=\"142\" y1=\"0\" x2=\"142\" y2=\"20\" style=\"stroke:#fece6aff;stroke-width:3;\" /><line x1=\"143\" y1=\"0\" x2=\"143\" y2=\"20\" style=\"stroke:#fece6aff;stroke-width:3;\" /><line x1=\"144\" y1=\"0\" x2=\"144\" y2=\"20\" style=\"stroke:#fece6aff;stroke-width:3;\" /><line x1=\"145\" y1=\"0\" x2=\"145\" y2=\"20\" style=\"stroke:#fece6aff;stroke-width:3;\" /><line x1=\"146\" y1=\"0\" x2=\"146\" y2=\"20\" style=\"stroke:#fece6aff;stroke-width:3;\" /><line x1=\"147\" y1=\"0\" x2=\"147\" y2=\"20\" style=\"stroke:#fece6aff;stroke-width:3;\" /><line x1=\"148\" y1=\"0\" x2=\"148\" y2=\"20\" style=\"stroke:#fece6aff;stroke-width:3;\" /><line x1=\"149\" y1=\"0\" x2=\"149\" y2=\"20\" style=\"stroke:#fece6aff;stroke-width:3;\" /><line x1=\"150\" y1=\"0\" x2=\"150\" y2=\"20\" style=\"stroke:#fece6aff;stroke-width:3;\" /><line x1=\"151\" y1=\"0\" x2=\"151\" y2=\"20\" style=\"stroke:#fece6aff;stroke-width:3;\" /><line x1=\"152\" y1=\"0\" x2=\"152\" y2=\"20\" style=\"stroke:#fece6aff;stroke-width:3;\" /><line x1=\"153\" y1=\"0\" x2=\"153\" y2=\"20\" style=\"stroke:#fece6aff;stroke-width:3;\" /><line x1=\"154\" y1=\"0\" x2=\"154\" y2=\"20\" style=\"stroke:#fece6aff;stroke-width:3;\" /><line x1=\"155\" y1=\"0\" x2=\"155\" y2=\"20\" style=\"stroke:#fece6aff;stroke-width:3;\" /><line x1=\"156\" y1=\"0\" x2=\"156\" y2=\"20\" style=\"stroke:#fece6aff;stroke-width:3;\" /><line x1=\"157\" y1=\"0\" x2=\"157\" y2=\"20\" style=\"stroke:#fece6aff;stroke-width:3;\" /><line x1=\"158\" y1=\"0\" x2=\"158\" y2=\"20\" style=\"stroke:#fece6aff;stroke-width:3;\" /><line x1=\"159\" y1=\"0\" x2=\"159\" y2=\"20\" style=\"stroke:#fece6aff;stroke-width:3;\" /><line x1=\"160\" y1=\"0\" x2=\"160\" y2=\"20\" style=\"stroke:#fece6aff;stroke-width:3;\" /><line x1=\"161\" y1=\"0\" x2=\"161\" y2=\"20\" style=\"stroke:#fece6aff;stroke-width:3;\" /><line x1=\"162\" y1=\"0\" x2=\"162\" y2=\"20\" style=\"stroke:#fece6aff;stroke-width:3;\" /><line x1=\"163\" y1=\"0\" x2=\"163\" y2=\"20\" style=\"stroke:#fece6aff;stroke-width:3;\" /><line x1=\"164\" y1=\"0\" x2=\"164\" y2=\"20\" style=\"stroke:#fece6aff;stroke-width:3;\" /><line x1=\"165\" y1=\"0\" x2=\"165\" y2=\"20\" style=\"stroke:#fece6aff;stroke-width:3;\" /><line x1=\"166\" y1=\"0\" x2=\"166\" y2=\"20\" style=\"stroke:#fece6aff;stroke-width:3;\" /><line x1=\"167\" y1=\"0\" x2=\"167\" y2=\"20\" style=\"stroke:#fece6aff;stroke-width:3;\" /><line x1=\"168\" y1=\"0\" x2=\"168\" y2=\"20\" style=\"stroke:#fece6aff;stroke-width:3;\" /><line x1=\"169\" y1=\"0\" x2=\"169\" y2=\"20\" style=\"stroke:#fece6aff;stroke-width:3;\" /><line x1=\"170\" y1=\"0\" x2=\"170\" y2=\"20\" style=\"stroke:#fece6aff;stroke-width:3;\" /><line x1=\"171\" y1=\"0\" x2=\"171\" y2=\"20\" style=\"stroke:#fece6aff;stroke-width:3;\" /><line x1=\"172\" y1=\"0\" x2=\"172\" y2=\"20\" style=\"stroke:#fece6aff;stroke-width:3;\" /><line x1=\"173\" y1=\"0\" x2=\"173\" y2=\"20\" style=\"stroke:#fece6aff;stroke-width:3;\" /><line x1=\"174\" y1=\"0\" x2=\"174\" y2=\"20\" style=\"stroke:#fece6aff;stroke-width:3;\" /><line x1=\"175\" y1=\"0\" x2=\"175\" y2=\"20\" style=\"stroke:#fece6aff;stroke-width:3;\" /><line x1=\"176\" y1=\"0\" x2=\"176\" y2=\"20\" style=\"stroke:#fece6aff;stroke-width:3;\" /><line x1=\"177\" y1=\"0\" x2=\"177\" y2=\"20\" style=\"stroke:#fece6aff;stroke-width:3;\" /><line x1=\"178\" y1=\"0\" x2=\"178\" y2=\"20\" style=\"stroke:#fece6aff;stroke-width:3;\" /><line x1=\"179\" y1=\"0\" x2=\"179\" y2=\"20\" style=\"stroke:#fece6aff;stroke-width:3;\" /><line x1=\"180\" y1=\"0\" x2=\"180\" y2=\"20\" style=\"stroke:#fece6aff;stroke-width:3;\" /><line x1=\"181\" y1=\"0\" x2=\"181\" y2=\"20\" style=\"stroke:#fece6aff;stroke-width:3;\" /><line x1=\"182\" y1=\"0\" x2=\"182\" y2=\"20\" style=\"stroke:#fece6aff;stroke-width:3;\" /><line x1=\"183\" y1=\"0\" x2=\"183\" y2=\"20\" style=\"stroke:#fece6aff;stroke-width:3;\" /><line x1=\"184\" y1=\"0\" x2=\"184\" y2=\"20\" style=\"stroke:#fece6aff;stroke-width:3;\" /><line x1=\"185\" y1=\"0\" x2=\"185\" y2=\"20\" style=\"stroke:#fece6aff;stroke-width:3;\" /><line x1=\"186\" y1=\"0\" x2=\"186\" y2=\"20\" style=\"stroke:#fece6aff;stroke-width:3;\" /><line x1=\"187\" y1=\"0\" x2=\"187\" y2=\"20\" style=\"stroke:#fece6aff;stroke-width:3;\" /><line x1=\"188\" y1=\"0\" x2=\"188\" y2=\"20\" style=\"stroke:#fece6aff;stroke-width:3;\" /><line x1=\"189\" y1=\"0\" x2=\"189\" y2=\"20\" style=\"stroke:#fece6aff;stroke-width:3;\" /><line x1=\"190\" y1=\"0\" x2=\"190\" y2=\"20\" style=\"stroke:#fece6aff;stroke-width:3;\" /><line x1=\"191\" y1=\"0\" x2=\"191\" y2=\"20\" style=\"stroke:#fece6aff;stroke-width:3;\" /><line x1=\"192\" y1=\"0\" x2=\"192\" y2=\"20\" style=\"stroke:#fece6aff;stroke-width:3;\" /><line x1=\"193\" y1=\"0\" x2=\"193\" y2=\"20\" style=\"stroke:#fece6aff;stroke-width:3;\" /><line x1=\"194\" y1=\"0\" x2=\"194\" y2=\"20\" style=\"stroke:#fece6aff;stroke-width:3;\" /><line x1=\"195\" y1=\"0\" x2=\"195\" y2=\"20\" style=\"stroke:#fece6aff;stroke-width:3;\" /><line x1=\"196\" y1=\"0\" x2=\"196\" y2=\"20\" style=\"stroke:#fece6aff;stroke-width:3;\" /><line x1=\"197\" y1=\"0\" x2=\"197\" y2=\"20\" style=\"stroke:#fece6aff;stroke-width:3;\" /><line x1=\"198\" y1=\"0\" x2=\"198\" y2=\"20\" style=\"stroke:#fece6aff;stroke-width:3;\" /><line x1=\"199\" y1=\"0\" x2=\"199\" y2=\"20\" style=\"stroke:#fece6aff;stroke-width:3;\" /><line x1=\"200\" y1=\"0\" x2=\"200\" y2=\"20\" style=\"stroke:#fece6aff;stroke-width:3;\" /><line x1=\"201\" y1=\"0\" x2=\"201\" y2=\"20\" style=\"stroke:#fece6aff;stroke-width:3;\" /><line x1=\"202\" y1=\"0\" x2=\"202\" y2=\"20\" style=\"stroke:#fece6aff;stroke-width:3;\" /><line x1=\"203\" y1=\"0\" x2=\"203\" y2=\"20\" style=\"stroke:#fece6aff;stroke-width:3;\" /><line x1=\"204\" y1=\"0\" x2=\"204\" y2=\"20\" style=\"stroke:#fece6aff;stroke-width:3;\" /><line x1=\"205\" y1=\"0\" x2=\"205\" y2=\"20\" style=\"stroke:#fece6aff;stroke-width:3;\" /><line x1=\"206\" y1=\"0\" x2=\"206\" y2=\"20\" style=\"stroke:#fece6aff;stroke-width:3;\" /><line x1=\"207\" y1=\"0\" x2=\"207\" y2=\"20\" style=\"stroke:#fece6aff;stroke-width:3;\" /><line x1=\"208\" y1=\"0\" x2=\"208\" y2=\"20\" style=\"stroke:#fece6aff;stroke-width:3;\" /><line x1=\"209\" y1=\"0\" x2=\"209\" y2=\"20\" style=\"stroke:#fece6aff;stroke-width:3;\" /><line x1=\"210\" y1=\"0\" x2=\"210\" y2=\"20\" style=\"stroke:#fece6aff;stroke-width:3;\" /><line x1=\"211\" y1=\"0\" x2=\"211\" y2=\"20\" style=\"stroke:#fece6aff;stroke-width:3;\" /><line x1=\"212\" y1=\"0\" x2=\"212\" y2=\"20\" style=\"stroke:#fece6aff;stroke-width:3;\" /><line x1=\"213\" y1=\"0\" x2=\"213\" y2=\"20\" style=\"stroke:#fece6aff;stroke-width:3;\" /><line x1=\"214\" y1=\"0\" x2=\"214\" y2=\"20\" style=\"stroke:#fe943fff;stroke-width:3;\" /><line x1=\"215\" y1=\"0\" x2=\"215\" y2=\"20\" style=\"stroke:#fe943fff;stroke-width:3;\" /><line x1=\"216\" y1=\"0\" x2=\"216\" y2=\"20\" style=\"stroke:#fe943fff;stroke-width:3;\" /><line x1=\"217\" y1=\"0\" x2=\"217\" y2=\"20\" style=\"stroke:#fe943fff;stroke-width:3;\" /><line x1=\"218\" y1=\"0\" x2=\"218\" y2=\"20\" style=\"stroke:#fe943fff;stroke-width:3;\" /><line x1=\"219\" y1=\"0\" x2=\"219\" y2=\"20\" style=\"stroke:#fe943fff;stroke-width:3;\" /><line x1=\"220\" y1=\"0\" x2=\"220\" y2=\"20\" style=\"stroke:#fe943fff;stroke-width:3;\" /><line x1=\"221\" y1=\"0\" x2=\"221\" y2=\"20\" style=\"stroke:#fe943fff;stroke-width:3;\" /><line x1=\"222\" y1=\"0\" x2=\"222\" y2=\"20\" style=\"stroke:#fe943fff;stroke-width:3;\" /><line x1=\"223\" y1=\"0\" x2=\"223\" y2=\"20\" style=\"stroke:#fe943fff;stroke-width:3;\" /><line x1=\"224\" y1=\"0\" x2=\"224\" y2=\"20\" style=\"stroke:#fe943fff;stroke-width:3;\" /><line x1=\"225\" y1=\"0\" x2=\"225\" y2=\"20\" style=\"stroke:#fe943fff;stroke-width:3;\" /><line x1=\"226\" y1=\"0\" x2=\"226\" y2=\"20\" style=\"stroke:#fe943fff;stroke-width:3;\" /><line x1=\"227\" y1=\"0\" x2=\"227\" y2=\"20\" style=\"stroke:#fe943fff;stroke-width:3;\" /><line x1=\"228\" y1=\"0\" x2=\"228\" y2=\"20\" style=\"stroke:#fe943fff;stroke-width:3;\" /><line x1=\"229\" y1=\"0\" x2=\"229\" y2=\"20\" style=\"stroke:#fe943fff;stroke-width:3;\" /><line x1=\"230\" y1=\"0\" x2=\"230\" y2=\"20\" style=\"stroke:#fe943fff;stroke-width:3;\" /><line x1=\"231\" y1=\"0\" x2=\"231\" y2=\"20\" style=\"stroke:#fe943fff;stroke-width:3;\" /><line x1=\"232\" y1=\"0\" x2=\"232\" y2=\"20\" style=\"stroke:#fe943fff;stroke-width:3;\" /><line x1=\"233\" y1=\"0\" x2=\"233\" y2=\"20\" style=\"stroke:#fe943fff;stroke-width:3;\" /><line x1=\"234\" y1=\"0\" x2=\"234\" y2=\"20\" style=\"stroke:#fe943fff;stroke-width:3;\" /><line x1=\"235\" y1=\"0\" x2=\"235\" y2=\"20\" style=\"stroke:#fe943fff;stroke-width:3;\" /><line x1=\"236\" y1=\"0\" x2=\"236\" y2=\"20\" style=\"stroke:#fe943fff;stroke-width:3;\" /><line x1=\"237\" y1=\"0\" x2=\"237\" y2=\"20\" style=\"stroke:#fe943fff;stroke-width:3;\" /><line x1=\"238\" y1=\"0\" x2=\"238\" y2=\"20\" style=\"stroke:#fe943fff;stroke-width:3;\" /><line x1=\"239\" y1=\"0\" x2=\"239\" y2=\"20\" style=\"stroke:#fe943fff;stroke-width:3;\" /><line x1=\"240\" y1=\"0\" x2=\"240\" y2=\"20\" style=\"stroke:#fe943fff;stroke-width:3;\" /><line x1=\"241\" y1=\"0\" x2=\"241\" y2=\"20\" style=\"stroke:#fe943fff;stroke-width:3;\" /><line x1=\"242\" y1=\"0\" x2=\"242\" y2=\"20\" style=\"stroke:#fe943fff;stroke-width:3;\" /><line x1=\"243\" y1=\"0\" x2=\"243\" y2=\"20\" style=\"stroke:#fe943fff;stroke-width:3;\" /><line x1=\"244\" y1=\"0\" x2=\"244\" y2=\"20\" style=\"stroke:#fe943fff;stroke-width:3;\" /><line x1=\"245\" y1=\"0\" x2=\"245\" y2=\"20\" style=\"stroke:#fe943fff;stroke-width:3;\" /><line x1=\"246\" y1=\"0\" x2=\"246\" y2=\"20\" style=\"stroke:#fe943fff;stroke-width:3;\" /><line x1=\"247\" y1=\"0\" x2=\"247\" y2=\"20\" style=\"stroke:#fe943fff;stroke-width:3;\" /><line x1=\"248\" y1=\"0\" x2=\"248\" y2=\"20\" style=\"stroke:#fe943fff;stroke-width:3;\" /><line x1=\"249\" y1=\"0\" x2=\"249\" y2=\"20\" style=\"stroke:#fe943fff;stroke-width:3;\" /><line x1=\"250\" y1=\"0\" x2=\"250\" y2=\"20\" style=\"stroke:#800026ff;stroke-width:3;\" /><line x1=\"251\" y1=\"0\" x2=\"251\" y2=\"20\" style=\"stroke:#800026ff;stroke-width:3;\" /><line x1=\"252\" y1=\"0\" x2=\"252\" y2=\"20\" style=\"stroke:#800026ff;stroke-width:3;\" /><line x1=\"253\" y1=\"0\" x2=\"253\" y2=\"20\" style=\"stroke:#800026ff;stroke-width:3;\" /><line x1=\"254\" y1=\"0\" x2=\"254\" y2=\"20\" style=\"stroke:#800026ff;stroke-width:3;\" /><line x1=\"255\" y1=\"0\" x2=\"255\" y2=\"20\" style=\"stroke:#800026ff;stroke-width:3;\" /><line x1=\"256\" y1=\"0\" x2=\"256\" y2=\"20\" style=\"stroke:#800026ff;stroke-width:3;\" /><line x1=\"257\" y1=\"0\" x2=\"257\" y2=\"20\" style=\"stroke:#800026ff;stroke-width:3;\" /><line x1=\"258\" y1=\"0\" x2=\"258\" y2=\"20\" style=\"stroke:#800026ff;stroke-width:3;\" /><line x1=\"259\" y1=\"0\" x2=\"259\" y2=\"20\" style=\"stroke:#800026ff;stroke-width:3;\" /><line x1=\"260\" y1=\"0\" x2=\"260\" y2=\"20\" style=\"stroke:#800026ff;stroke-width:3;\" /><line x1=\"261\" y1=\"0\" x2=\"261\" y2=\"20\" style=\"stroke:#800026ff;stroke-width:3;\" /><line x1=\"262\" y1=\"0\" x2=\"262\" y2=\"20\" style=\"stroke:#800026ff;stroke-width:3;\" /><line x1=\"263\" y1=\"0\" x2=\"263\" y2=\"20\" style=\"stroke:#800026ff;stroke-width:3;\" /><line x1=\"264\" y1=\"0\" x2=\"264\" y2=\"20\" style=\"stroke:#800026ff;stroke-width:3;\" /><line x1=\"265\" y1=\"0\" x2=\"265\" y2=\"20\" style=\"stroke:#800026ff;stroke-width:3;\" /><line x1=\"266\" y1=\"0\" x2=\"266\" y2=\"20\" style=\"stroke:#800026ff;stroke-width:3;\" /><line x1=\"267\" y1=\"0\" x2=\"267\" y2=\"20\" style=\"stroke:#800026ff;stroke-width:3;\" /><line x1=\"268\" y1=\"0\" x2=\"268\" y2=\"20\" style=\"stroke:#800026ff;stroke-width:3;\" /><line x1=\"269\" y1=\"0\" x2=\"269\" y2=\"20\" style=\"stroke:#800026ff;stroke-width:3;\" /><line x1=\"270\" y1=\"0\" x2=\"270\" y2=\"20\" style=\"stroke:#800026ff;stroke-width:3;\" /><line x1=\"271\" y1=\"0\" x2=\"271\" y2=\"20\" style=\"stroke:#800026ff;stroke-width:3;\" /><line x1=\"272\" y1=\"0\" x2=\"272\" y2=\"20\" style=\"stroke:#800026ff;stroke-width:3;\" /><line x1=\"273\" y1=\"0\" x2=\"273\" y2=\"20\" style=\"stroke:#800026ff;stroke-width:3;\" /><line x1=\"274\" y1=\"0\" x2=\"274\" y2=\"20\" style=\"stroke:#800026ff;stroke-width:3;\" /><line x1=\"275\" y1=\"0\" x2=\"275\" y2=\"20\" style=\"stroke:#800026ff;stroke-width:3;\" /><line x1=\"276\" y1=\"0\" x2=\"276\" y2=\"20\" style=\"stroke:#800026ff;stroke-width:3;\" /><line x1=\"277\" y1=\"0\" x2=\"277\" y2=\"20\" style=\"stroke:#800026ff;stroke-width:3;\" /><line x1=\"278\" y1=\"0\" x2=\"278\" y2=\"20\" style=\"stroke:#800026ff;stroke-width:3;\" /><line x1=\"279\" y1=\"0\" x2=\"279\" y2=\"20\" style=\"stroke:#800026ff;stroke-width:3;\" /><line x1=\"280\" y1=\"0\" x2=\"280\" y2=\"20\" style=\"stroke:#800026ff;stroke-width:3;\" /><line x1=\"281\" y1=\"0\" x2=\"281\" y2=\"20\" style=\"stroke:#800026ff;stroke-width:3;\" /><line x1=\"282\" y1=\"0\" x2=\"282\" y2=\"20\" style=\"stroke:#800026ff;stroke-width:3;\" /><line x1=\"283\" y1=\"0\" x2=\"283\" y2=\"20\" style=\"stroke:#800026ff;stroke-width:3;\" /><line x1=\"284\" y1=\"0\" x2=\"284\" y2=\"20\" style=\"stroke:#800026ff;stroke-width:3;\" /><line x1=\"285\" y1=\"0\" x2=\"285\" y2=\"20\" style=\"stroke:#800026ff;stroke-width:3;\" /><line x1=\"286\" y1=\"0\" x2=\"286\" y2=\"20\" style=\"stroke:#800026ff;stroke-width:3;\" /><line x1=\"287\" y1=\"0\" x2=\"287\" y2=\"20\" style=\"stroke:#800026ff;stroke-width:3;\" /><line x1=\"288\" y1=\"0\" x2=\"288\" y2=\"20\" style=\"stroke:#800026ff;stroke-width:3;\" /><line x1=\"289\" y1=\"0\" x2=\"289\" y2=\"20\" style=\"stroke:#800026ff;stroke-width:3;\" /><line x1=\"290\" y1=\"0\" x2=\"290\" y2=\"20\" style=\"stroke:#800026ff;stroke-width:3;\" /><line x1=\"291\" y1=\"0\" x2=\"291\" y2=\"20\" style=\"stroke:#800026ff;stroke-width:3;\" /><line x1=\"292\" y1=\"0\" x2=\"292\" y2=\"20\" style=\"stroke:#800026ff;stroke-width:3;\" /><line x1=\"293\" y1=\"0\" x2=\"293\" y2=\"20\" style=\"stroke:#800026ff;stroke-width:3;\" /><line x1=\"294\" y1=\"0\" x2=\"294\" y2=\"20\" style=\"stroke:#800026ff;stroke-width:3;\" /><line x1=\"295\" y1=\"0\" x2=\"295\" y2=\"20\" style=\"stroke:#800026ff;stroke-width:3;\" /><line x1=\"296\" y1=\"0\" x2=\"296\" y2=\"20\" style=\"stroke:#800026ff;stroke-width:3;\" /><line x1=\"297\" y1=\"0\" x2=\"297\" y2=\"20\" style=\"stroke:#800026ff;stroke-width:3;\" /><line x1=\"298\" y1=\"0\" x2=\"298\" y2=\"20\" style=\"stroke:#800026ff;stroke-width:3;\" /><line x1=\"299\" y1=\"0\" x2=\"299\" y2=\"20\" style=\"stroke:#800026ff;stroke-width:3;\" /><line x1=\"300\" y1=\"0\" x2=\"300\" y2=\"20\" style=\"stroke:#800026ff;stroke-width:3;\" /><line x1=\"301\" y1=\"0\" x2=\"301\" y2=\"20\" style=\"stroke:#800026ff;stroke-width:3;\" /><line x1=\"302\" y1=\"0\" x2=\"302\" y2=\"20\" style=\"stroke:#800026ff;stroke-width:3;\" /><line x1=\"303\" y1=\"0\" x2=\"303\" y2=\"20\" style=\"stroke:#800026ff;stroke-width:3;\" /><line x1=\"304\" y1=\"0\" x2=\"304\" y2=\"20\" style=\"stroke:#800026ff;stroke-width:3;\" /><line x1=\"305\" y1=\"0\" x2=\"305\" y2=\"20\" style=\"stroke:#800026ff;stroke-width:3;\" /><line x1=\"306\" y1=\"0\" x2=\"306\" y2=\"20\" style=\"stroke:#800026ff;stroke-width:3;\" /><line x1=\"307\" y1=\"0\" x2=\"307\" y2=\"20\" style=\"stroke:#800026ff;stroke-width:3;\" /><line x1=\"308\" y1=\"0\" x2=\"308\" y2=\"20\" style=\"stroke:#800026ff;stroke-width:3;\" /><line x1=\"309\" y1=\"0\" x2=\"309\" y2=\"20\" style=\"stroke:#800026ff;stroke-width:3;\" /><line x1=\"310\" y1=\"0\" x2=\"310\" y2=\"20\" style=\"stroke:#800026ff;stroke-width:3;\" /><line x1=\"311\" y1=\"0\" x2=\"311\" y2=\"20\" style=\"stroke:#800026ff;stroke-width:3;\" /><line x1=\"312\" y1=\"0\" x2=\"312\" y2=\"20\" style=\"stroke:#800026ff;stroke-width:3;\" /><line x1=\"313\" y1=\"0\" x2=\"313\" y2=\"20\" style=\"stroke:#800026ff;stroke-width:3;\" /><line x1=\"314\" y1=\"0\" x2=\"314\" y2=\"20\" style=\"stroke:#800026ff;stroke-width:3;\" /><line x1=\"315\" y1=\"0\" x2=\"315\" y2=\"20\" style=\"stroke:#800026ff;stroke-width:3;\" /><line x1=\"316\" y1=\"0\" x2=\"316\" y2=\"20\" style=\"stroke:#800026ff;stroke-width:3;\" /><line x1=\"317\" y1=\"0\" x2=\"317\" y2=\"20\" style=\"stroke:#800026ff;stroke-width:3;\" /><line x1=\"318\" y1=\"0\" x2=\"318\" y2=\"20\" style=\"stroke:#800026ff;stroke-width:3;\" /><line x1=\"319\" y1=\"0\" x2=\"319\" y2=\"20\" style=\"stroke:#800026ff;stroke-width:3;\" /><line x1=\"320\" y1=\"0\" x2=\"320\" y2=\"20\" style=\"stroke:#800026ff;stroke-width:3;\" /><line x1=\"321\" y1=\"0\" x2=\"321\" y2=\"20\" style=\"stroke:#800026ff;stroke-width:3;\" /><line x1=\"322\" y1=\"0\" x2=\"322\" y2=\"20\" style=\"stroke:#800026ff;stroke-width:3;\" /><line x1=\"323\" y1=\"0\" x2=\"323\" y2=\"20\" style=\"stroke:#800026ff;stroke-width:3;\" /><line x1=\"324\" y1=\"0\" x2=\"324\" y2=\"20\" style=\"stroke:#800026ff;stroke-width:3;\" /><line x1=\"325\" y1=\"0\" x2=\"325\" y2=\"20\" style=\"stroke:#800026ff;stroke-width:3;\" /><line x1=\"326\" y1=\"0\" x2=\"326\" y2=\"20\" style=\"stroke:#800026ff;stroke-width:3;\" /><line x1=\"327\" y1=\"0\" x2=\"327\" y2=\"20\" style=\"stroke:#800026ff;stroke-width:3;\" /><line x1=\"328\" y1=\"0\" x2=\"328\" y2=\"20\" style=\"stroke:#800026ff;stroke-width:3;\" /><line x1=\"329\" y1=\"0\" x2=\"329\" y2=\"20\" style=\"stroke:#800026ff;stroke-width:3;\" /><line x1=\"330\" y1=\"0\" x2=\"330\" y2=\"20\" style=\"stroke:#800026ff;stroke-width:3;\" /><line x1=\"331\" y1=\"0\" x2=\"331\" y2=\"20\" style=\"stroke:#800026ff;stroke-width:3;\" /><line x1=\"332\" y1=\"0\" x2=\"332\" y2=\"20\" style=\"stroke:#800026ff;stroke-width:3;\" /><line x1=\"333\" y1=\"0\" x2=\"333\" y2=\"20\" style=\"stroke:#800026ff;stroke-width:3;\" /><line x1=\"334\" y1=\"0\" x2=\"334\" y2=\"20\" style=\"stroke:#800026ff;stroke-width:3;\" /><line x1=\"335\" y1=\"0\" x2=\"335\" y2=\"20\" style=\"stroke:#800026ff;stroke-width:3;\" /><line x1=\"336\" y1=\"0\" x2=\"336\" y2=\"20\" style=\"stroke:#800026ff;stroke-width:3;\" /><line x1=\"337\" y1=\"0\" x2=\"337\" y2=\"20\" style=\"stroke:#800026ff;stroke-width:3;\" /><line x1=\"338\" y1=\"0\" x2=\"338\" y2=\"20\" style=\"stroke:#800026ff;stroke-width:3;\" /><line x1=\"339\" y1=\"0\" x2=\"339\" y2=\"20\" style=\"stroke:#800026ff;stroke-width:3;\" /><line x1=\"340\" y1=\"0\" x2=\"340\" y2=\"20\" style=\"stroke:#800026ff;stroke-width:3;\" /><line x1=\"341\" y1=\"0\" x2=\"341\" y2=\"20\" style=\"stroke:#800026ff;stroke-width:3;\" /><line x1=\"342\" y1=\"0\" x2=\"342\" y2=\"20\" style=\"stroke:#800026ff;stroke-width:3;\" /><line x1=\"343\" y1=\"0\" x2=\"343\" y2=\"20\" style=\"stroke:#800026ff;stroke-width:3;\" /><line x1=\"344\" y1=\"0\" x2=\"344\" y2=\"20\" style=\"stroke:#800026ff;stroke-width:3;\" /><line x1=\"345\" y1=\"0\" x2=\"345\" y2=\"20\" style=\"stroke:#800026ff;stroke-width:3;\" /><line x1=\"346\" y1=\"0\" x2=\"346\" y2=\"20\" style=\"stroke:#800026ff;stroke-width:3;\" /><line x1=\"347\" y1=\"0\" x2=\"347\" y2=\"20\" style=\"stroke:#800026ff;stroke-width:3;\" /><line x1=\"348\" y1=\"0\" x2=\"348\" y2=\"20\" style=\"stroke:#800026ff;stroke-width:3;\" /><line x1=\"349\" y1=\"0\" x2=\"349\" y2=\"20\" style=\"stroke:#800026ff;stroke-width:3;\" /><line x1=\"350\" y1=\"0\" x2=\"350\" y2=\"20\" style=\"stroke:#800026ff;stroke-width:3;\" /><line x1=\"351\" y1=\"0\" x2=\"351\" y2=\"20\" style=\"stroke:#800026ff;stroke-width:3;\" /><line x1=\"352\" y1=\"0\" x2=\"352\" y2=\"20\" style=\"stroke:#800026ff;stroke-width:3;\" /><line x1=\"353\" y1=\"0\" x2=\"353\" y2=\"20\" style=\"stroke:#800026ff;stroke-width:3;\" /><line x1=\"354\" y1=\"0\" x2=\"354\" y2=\"20\" style=\"stroke:#800026ff;stroke-width:3;\" /><line x1=\"355\" y1=\"0\" x2=\"355\" y2=\"20\" style=\"stroke:#800026ff;stroke-width:3;\" /><line x1=\"356\" y1=\"0\" x2=\"356\" y2=\"20\" style=\"stroke:#800026ff;stroke-width:3;\" /><line x1=\"357\" y1=\"0\" x2=\"357\" y2=\"20\" style=\"stroke:#800026ff;stroke-width:3;\" /><line x1=\"358\" y1=\"0\" x2=\"358\" y2=\"20\" style=\"stroke:#800026ff;stroke-width:3;\" /><line x1=\"359\" y1=\"0\" x2=\"359\" y2=\"20\" style=\"stroke:#800026ff;stroke-width:3;\" /><line x1=\"360\" y1=\"0\" x2=\"360\" y2=\"20\" style=\"stroke:#800026ff;stroke-width:3;\" /><line x1=\"361\" y1=\"0\" x2=\"361\" y2=\"20\" style=\"stroke:#800026ff;stroke-width:3;\" /><line x1=\"362\" y1=\"0\" x2=\"362\" y2=\"20\" style=\"stroke:#800026ff;stroke-width:3;\" /><line x1=\"363\" y1=\"0\" x2=\"363\" y2=\"20\" style=\"stroke:#800026ff;stroke-width:3;\" /><line x1=\"364\" y1=\"0\" x2=\"364\" y2=\"20\" style=\"stroke:#800026ff;stroke-width:3;\" /><line x1=\"365\" y1=\"0\" x2=\"365\" y2=\"20\" style=\"stroke:#800026ff;stroke-width:3;\" /><line x1=\"366\" y1=\"0\" x2=\"366\" y2=\"20\" style=\"stroke:#800026ff;stroke-width:3;\" /><line x1=\"367\" y1=\"0\" x2=\"367\" y2=\"20\" style=\"stroke:#800026ff;stroke-width:3;\" /><line x1=\"368\" y1=\"0\" x2=\"368\" y2=\"20\" style=\"stroke:#800026ff;stroke-width:3;\" /><line x1=\"369\" y1=\"0\" x2=\"369\" y2=\"20\" style=\"stroke:#800026ff;stroke-width:3;\" /><line x1=\"370\" y1=\"0\" x2=\"370\" y2=\"20\" style=\"stroke:#800026ff;stroke-width:3;\" /><line x1=\"371\" y1=\"0\" x2=\"371\" y2=\"20\" style=\"stroke:#800026ff;stroke-width:3;\" /><line x1=\"372\" y1=\"0\" x2=\"372\" y2=\"20\" style=\"stroke:#800026ff;stroke-width:3;\" /><line x1=\"373\" y1=\"0\" x2=\"373\" y2=\"20\" style=\"stroke:#800026ff;stroke-width:3;\" /><line x1=\"374\" y1=\"0\" x2=\"374\" y2=\"20\" style=\"stroke:#800026ff;stroke-width:3;\" /><line x1=\"375\" y1=\"0\" x2=\"375\" y2=\"20\" style=\"stroke:#800026ff;stroke-width:3;\" /><line x1=\"376\" y1=\"0\" x2=\"376\" y2=\"20\" style=\"stroke:#800026ff;stroke-width:3;\" /><line x1=\"377\" y1=\"0\" x2=\"377\" y2=\"20\" style=\"stroke:#800026ff;stroke-width:3;\" /><line x1=\"378\" y1=\"0\" x2=\"378\" y2=\"20\" style=\"stroke:#800026ff;stroke-width:3;\" /><line x1=\"379\" y1=\"0\" x2=\"379\" y2=\"20\" style=\"stroke:#800026ff;stroke-width:3;\" /><line x1=\"380\" y1=\"0\" x2=\"380\" y2=\"20\" style=\"stroke:#800026ff;stroke-width:3;\" /><line x1=\"381\" y1=\"0\" x2=\"381\" y2=\"20\" style=\"stroke:#800026ff;stroke-width:3;\" /><line x1=\"382\" y1=\"0\" x2=\"382\" y2=\"20\" style=\"stroke:#800026ff;stroke-width:3;\" /><line x1=\"383\" y1=\"0\" x2=\"383\" y2=\"20\" style=\"stroke:#800026ff;stroke-width:3;\" /><line x1=\"384\" y1=\"0\" x2=\"384\" y2=\"20\" style=\"stroke:#800026ff;stroke-width:3;\" /><line x1=\"385\" y1=\"0\" x2=\"385\" y2=\"20\" style=\"stroke:#800026ff;stroke-width:3;\" /><line x1=\"386\" y1=\"0\" x2=\"386\" y2=\"20\" style=\"stroke:#800026ff;stroke-width:3;\" /><line x1=\"387\" y1=\"0\" x2=\"387\" y2=\"20\" style=\"stroke:#800026ff;stroke-width:3;\" /><line x1=\"388\" y1=\"0\" x2=\"388\" y2=\"20\" style=\"stroke:#800026ff;stroke-width:3;\" /><line x1=\"389\" y1=\"0\" x2=\"389\" y2=\"20\" style=\"stroke:#800026ff;stroke-width:3;\" /><line x1=\"390\" y1=\"0\" x2=\"390\" y2=\"20\" style=\"stroke:#800026ff;stroke-width:3;\" /><line x1=\"391\" y1=\"0\" x2=\"391\" y2=\"20\" style=\"stroke:#800026ff;stroke-width:3;\" /><line x1=\"392\" y1=\"0\" x2=\"392\" y2=\"20\" style=\"stroke:#800026ff;stroke-width:3;\" /><line x1=\"393\" y1=\"0\" x2=\"393\" y2=\"20\" style=\"stroke:#800026ff;stroke-width:3;\" /><line x1=\"394\" y1=\"0\" x2=\"394\" y2=\"20\" style=\"stroke:#800026ff;stroke-width:3;\" /><line x1=\"395\" y1=\"0\" x2=\"395\" y2=\"20\" style=\"stroke:#800026ff;stroke-width:3;\" /><line x1=\"396\" y1=\"0\" x2=\"396\" y2=\"20\" style=\"stroke:#800026ff;stroke-width:3;\" /><line x1=\"397\" y1=\"0\" x2=\"397\" y2=\"20\" style=\"stroke:#800026ff;stroke-width:3;\" /><line x1=\"398\" y1=\"0\" x2=\"398\" y2=\"20\" style=\"stroke:#800026ff;stroke-width:3;\" /><line x1=\"399\" y1=\"0\" x2=\"399\" y2=\"20\" style=\"stroke:#800026ff;stroke-width:3;\" /><line x1=\"400\" y1=\"0\" x2=\"400\" y2=\"20\" style=\"stroke:#800026ff;stroke-width:3;\" /><line x1=\"401\" y1=\"0\" x2=\"401\" y2=\"20\" style=\"stroke:#800026ff;stroke-width:3;\" /><line x1=\"402\" y1=\"0\" x2=\"402\" y2=\"20\" style=\"stroke:#800026ff;stroke-width:3;\" /><line x1=\"403\" y1=\"0\" x2=\"403\" y2=\"20\" style=\"stroke:#800026ff;stroke-width:3;\" /><line x1=\"404\" y1=\"0\" x2=\"404\" y2=\"20\" style=\"stroke:#800026ff;stroke-width:3;\" /><line x1=\"405\" y1=\"0\" x2=\"405\" y2=\"20\" style=\"stroke:#800026ff;stroke-width:3;\" /><line x1=\"406\" y1=\"0\" x2=\"406\" y2=\"20\" style=\"stroke:#800026ff;stroke-width:3;\" /><line x1=\"407\" y1=\"0\" x2=\"407\" y2=\"20\" style=\"stroke:#800026ff;stroke-width:3;\" /><line x1=\"408\" y1=\"0\" x2=\"408\" y2=\"20\" style=\"stroke:#800026ff;stroke-width:3;\" /><line x1=\"409\" y1=\"0\" x2=\"409\" y2=\"20\" style=\"stroke:#800026ff;stroke-width:3;\" /><line x1=\"410\" y1=\"0\" x2=\"410\" y2=\"20\" style=\"stroke:#800026ff;stroke-width:3;\" /><line x1=\"411\" y1=\"0\" x2=\"411\" y2=\"20\" style=\"stroke:#800026ff;stroke-width:3;\" /><line x1=\"412\" y1=\"0\" x2=\"412\" y2=\"20\" style=\"stroke:#800026ff;stroke-width:3;\" /><line x1=\"413\" y1=\"0\" x2=\"413\" y2=\"20\" style=\"stroke:#800026ff;stroke-width:3;\" /><line x1=\"414\" y1=\"0\" x2=\"414\" y2=\"20\" style=\"stroke:#800026ff;stroke-width:3;\" /><line x1=\"415\" y1=\"0\" x2=\"415\" y2=\"20\" style=\"stroke:#800026ff;stroke-width:3;\" /><line x1=\"416\" y1=\"0\" x2=\"416\" y2=\"20\" style=\"stroke:#800026ff;stroke-width:3;\" /><line x1=\"417\" y1=\"0\" x2=\"417\" y2=\"20\" style=\"stroke:#800026ff;stroke-width:3;\" /><line x1=\"418\" y1=\"0\" x2=\"418\" y2=\"20\" style=\"stroke:#800026ff;stroke-width:3;\" /><line x1=\"419\" y1=\"0\" x2=\"419\" y2=\"20\" style=\"stroke:#800026ff;stroke-width:3;\" /><line x1=\"420\" y1=\"0\" x2=\"420\" y2=\"20\" style=\"stroke:#800026ff;stroke-width:3;\" /><line x1=\"421\" y1=\"0\" x2=\"421\" y2=\"20\" style=\"stroke:#800026ff;stroke-width:3;\" /><line x1=\"422\" y1=\"0\" x2=\"422\" y2=\"20\" style=\"stroke:#800026ff;stroke-width:3;\" /><line x1=\"423\" y1=\"0\" x2=\"423\" y2=\"20\" style=\"stroke:#800026ff;stroke-width:3;\" /><line x1=\"424\" y1=\"0\" x2=\"424\" y2=\"20\" style=\"stroke:#800026ff;stroke-width:3;\" /><line x1=\"425\" y1=\"0\" x2=\"425\" y2=\"20\" style=\"stroke:#800026ff;stroke-width:3;\" /><line x1=\"426\" y1=\"0\" x2=\"426\" y2=\"20\" style=\"stroke:#800026ff;stroke-width:3;\" /><line x1=\"427\" y1=\"0\" x2=\"427\" y2=\"20\" style=\"stroke:#800026ff;stroke-width:3;\" /><line x1=\"428\" y1=\"0\" x2=\"428\" y2=\"20\" style=\"stroke:#800026ff;stroke-width:3;\" /><line x1=\"429\" y1=\"0\" x2=\"429\" y2=\"20\" style=\"stroke:#800026ff;stroke-width:3;\" /><line x1=\"430\" y1=\"0\" x2=\"430\" y2=\"20\" style=\"stroke:#800026ff;stroke-width:3;\" /><line x1=\"431\" y1=\"0\" x2=\"431\" y2=\"20\" style=\"stroke:#800026ff;stroke-width:3;\" /><line x1=\"432\" y1=\"0\" x2=\"432\" y2=\"20\" style=\"stroke:#800026ff;stroke-width:3;\" /><line x1=\"433\" y1=\"0\" x2=\"433\" y2=\"20\" style=\"stroke:#800026ff;stroke-width:3;\" /><line x1=\"434\" y1=\"0\" x2=\"434\" y2=\"20\" style=\"stroke:#800026ff;stroke-width:3;\" /><line x1=\"435\" y1=\"0\" x2=\"435\" y2=\"20\" style=\"stroke:#800026ff;stroke-width:3;\" /><line x1=\"436\" y1=\"0\" x2=\"436\" y2=\"20\" style=\"stroke:#800026ff;stroke-width:3;\" /><line x1=\"437\" y1=\"0\" x2=\"437\" y2=\"20\" style=\"stroke:#800026ff;stroke-width:3;\" /><line x1=\"438\" y1=\"0\" x2=\"438\" y2=\"20\" style=\"stroke:#800026ff;stroke-width:3;\" /><line x1=\"439\" y1=\"0\" x2=\"439\" y2=\"20\" style=\"stroke:#800026ff;stroke-width:3;\" /><line x1=\"440\" y1=\"0\" x2=\"440\" y2=\"20\" style=\"stroke:#800026ff;stroke-width:3;\" /><line x1=\"441\" y1=\"0\" x2=\"441\" y2=\"20\" style=\"stroke:#800026ff;stroke-width:3;\" /><line x1=\"442\" y1=\"0\" x2=\"442\" y2=\"20\" style=\"stroke:#800026ff;stroke-width:3;\" /><line x1=\"443\" y1=\"0\" x2=\"443\" y2=\"20\" style=\"stroke:#800026ff;stroke-width:3;\" /><line x1=\"444\" y1=\"0\" x2=\"444\" y2=\"20\" style=\"stroke:#800026ff;stroke-width:3;\" /><line x1=\"445\" y1=\"0\" x2=\"445\" y2=\"20\" style=\"stroke:#800026ff;stroke-width:3;\" /><line x1=\"446\" y1=\"0\" x2=\"446\" y2=\"20\" style=\"stroke:#800026ff;stroke-width:3;\" /><line x1=\"447\" y1=\"0\" x2=\"447\" y2=\"20\" style=\"stroke:#800026ff;stroke-width:3;\" /><line x1=\"448\" y1=\"0\" x2=\"448\" y2=\"20\" style=\"stroke:#800026ff;stroke-width:3;\" /><line x1=\"449\" y1=\"0\" x2=\"449\" y2=\"20\" style=\"stroke:#800026ff;stroke-width:3;\" /><line x1=\"450\" y1=\"0\" x2=\"450\" y2=\"20\" style=\"stroke:#800026ff;stroke-width:3;\" /><line x1=\"451\" y1=\"0\" x2=\"451\" y2=\"20\" style=\"stroke:#800026ff;stroke-width:3;\" /><line x1=\"452\" y1=\"0\" x2=\"452\" y2=\"20\" style=\"stroke:#800026ff;stroke-width:3;\" /><line x1=\"453\" y1=\"0\" x2=\"453\" y2=\"20\" style=\"stroke:#800026ff;stroke-width:3;\" /><line x1=\"454\" y1=\"0\" x2=\"454\" y2=\"20\" style=\"stroke:#800026ff;stroke-width:3;\" /><line x1=\"455\" y1=\"0\" x2=\"455\" y2=\"20\" style=\"stroke:#800026ff;stroke-width:3;\" /><line x1=\"456\" y1=\"0\" x2=\"456\" y2=\"20\" style=\"stroke:#800026ff;stroke-width:3;\" /><line x1=\"457\" y1=\"0\" x2=\"457\" y2=\"20\" style=\"stroke:#800026ff;stroke-width:3;\" /><line x1=\"458\" y1=\"0\" x2=\"458\" y2=\"20\" style=\"stroke:#800026ff;stroke-width:3;\" /><line x1=\"459\" y1=\"0\" x2=\"459\" y2=\"20\" style=\"stroke:#800026ff;stroke-width:3;\" /><line x1=\"460\" y1=\"0\" x2=\"460\" y2=\"20\" style=\"stroke:#800026ff;stroke-width:3;\" /><line x1=\"461\" y1=\"0\" x2=\"461\" y2=\"20\" style=\"stroke:#800026ff;stroke-width:3;\" /><line x1=\"462\" y1=\"0\" x2=\"462\" y2=\"20\" style=\"stroke:#800026ff;stroke-width:3;\" /><line x1=\"463\" y1=\"0\" x2=\"463\" y2=\"20\" style=\"stroke:#800026ff;stroke-width:3;\" /><line x1=\"464\" y1=\"0\" x2=\"464\" y2=\"20\" style=\"stroke:#800026ff;stroke-width:3;\" /><line x1=\"465\" y1=\"0\" x2=\"465\" y2=\"20\" style=\"stroke:#800026ff;stroke-width:3;\" /><line x1=\"466\" y1=\"0\" x2=\"466\" y2=\"20\" style=\"stroke:#800026ff;stroke-width:3;\" /><line x1=\"467\" y1=\"0\" x2=\"467\" y2=\"20\" style=\"stroke:#800026ff;stroke-width:3;\" /><line x1=\"468\" y1=\"0\" x2=\"468\" y2=\"20\" style=\"stroke:#800026ff;stroke-width:3;\" /><line x1=\"469\" y1=\"0\" x2=\"469\" y2=\"20\" style=\"stroke:#800026ff;stroke-width:3;\" /><line x1=\"470\" y1=\"0\" x2=\"470\" y2=\"20\" style=\"stroke:#800026ff;stroke-width:3;\" /><line x1=\"471\" y1=\"0\" x2=\"471\" y2=\"20\" style=\"stroke:#800026ff;stroke-width:3;\" /><line x1=\"472\" y1=\"0\" x2=\"472\" y2=\"20\" style=\"stroke:#800026ff;stroke-width:3;\" /><line x1=\"473\" y1=\"0\" x2=\"473\" y2=\"20\" style=\"stroke:#800026ff;stroke-width:3;\" /><line x1=\"474\" y1=\"0\" x2=\"474\" y2=\"20\" style=\"stroke:#800026ff;stroke-width:3;\" /><line x1=\"475\" y1=\"0\" x2=\"475\" y2=\"20\" style=\"stroke:#800026ff;stroke-width:3;\" /><line x1=\"476\" y1=\"0\" x2=\"476\" y2=\"20\" style=\"stroke:#800026ff;stroke-width:3;\" /><line x1=\"477\" y1=\"0\" x2=\"477\" y2=\"20\" style=\"stroke:#800026ff;stroke-width:3;\" /><line x1=\"478\" y1=\"0\" x2=\"478\" y2=\"20\" style=\"stroke:#800026ff;stroke-width:3;\" /><line x1=\"479\" y1=\"0\" x2=\"479\" y2=\"20\" style=\"stroke:#800026ff;stroke-width:3;\" /><line x1=\"480\" y1=\"0\" x2=\"480\" y2=\"20\" style=\"stroke:#800026ff;stroke-width:3;\" /><line x1=\"481\" y1=\"0\" x2=\"481\" y2=\"20\" style=\"stroke:#800026ff;stroke-width:3;\" /><line x1=\"482\" y1=\"0\" x2=\"482\" y2=\"20\" style=\"stroke:#800026ff;stroke-width:3;\" /><line x1=\"483\" y1=\"0\" x2=\"483\" y2=\"20\" style=\"stroke:#800026ff;stroke-width:3;\" /><line x1=\"484\" y1=\"0\" x2=\"484\" y2=\"20\" style=\"stroke:#800026ff;stroke-width:3;\" /><line x1=\"485\" y1=\"0\" x2=\"485\" y2=\"20\" style=\"stroke:#800026ff;stroke-width:3;\" /><line x1=\"486\" y1=\"0\" x2=\"486\" y2=\"20\" style=\"stroke:#800026ff;stroke-width:3;\" /><line x1=\"487\" y1=\"0\" x2=\"487\" y2=\"20\" style=\"stroke:#800026ff;stroke-width:3;\" /><line x1=\"488\" y1=\"0\" x2=\"488\" y2=\"20\" style=\"stroke:#800026ff;stroke-width:3;\" /><line x1=\"489\" y1=\"0\" x2=\"489\" y2=\"20\" style=\"stroke:#800026ff;stroke-width:3;\" /><line x1=\"490\" y1=\"0\" x2=\"490\" y2=\"20\" style=\"stroke:#800026ff;stroke-width:3;\" /><line x1=\"491\" y1=\"0\" x2=\"491\" y2=\"20\" style=\"stroke:#800026ff;stroke-width:3;\" /><line x1=\"492\" y1=\"0\" x2=\"492\" y2=\"20\" style=\"stroke:#800026ff;stroke-width:3;\" /><line x1=\"493\" y1=\"0\" x2=\"493\" y2=\"20\" style=\"stroke:#800026ff;stroke-width:3;\" /><line x1=\"494\" y1=\"0\" x2=\"494\" y2=\"20\" style=\"stroke:#800026ff;stroke-width:3;\" /><line x1=\"495\" y1=\"0\" x2=\"495\" y2=\"20\" style=\"stroke:#800026ff;stroke-width:3;\" /><line x1=\"496\" y1=\"0\" x2=\"496\" y2=\"20\" style=\"stroke:#800026ff;stroke-width:3;\" /><line x1=\"497\" y1=\"0\" x2=\"497\" y2=\"20\" style=\"stroke:#800026ff;stroke-width:3;\" /><line x1=\"498\" y1=\"0\" x2=\"498\" y2=\"20\" style=\"stroke:#800026ff;stroke-width:3;\" /><line x1=\"499\" y1=\"0\" x2=\"499\" y2=\"20\" style=\"stroke:#800026ff;stroke-width:3;\" /><text x=\"0\" y=\"35\">0.0</text><text x=\"500\" y=\"35\" style=\"text-anchor:end;\">14.0</text></svg>"
      ],
      "text/plain": [
       "<branca.colormap.StepColormap at 0x7fb936d41250>"
      ]
     },
     "execution_count": 10,
     "metadata": {},
     "output_type": "execute_result"
    }
   ],
   "source": [
    "# creating the logarithmic scale bar as a legend to be added in folium map\n",
    "scale_legend = branca.colormap.linear.YlOrRd_09.scale(0, latest_confirmed_cases[features[-1]].max())\n",
    "scale_legend = scale_legend.to_step(index=scales, method='log')\n",
    "scale_legend.caption = \"Logarithmical scale for COVID-19 confirmed cases\"\n",
    "scale_legend"
   ]
  },
  {
   "cell_type": "code",
   "execution_count": 11,
   "metadata": {
    "scrolled": false
   },
   "outputs": [],
   "source": [
    "def addBubbleToMap(df, colorCode):\n",
    "    \n",
    "    for i in range(0, len(df)):\n",
    "        \n",
    "        if str(df.iloc[i]['Province/State']) == 'nan':\n",
    "            state = 'N/A'\n",
    "        else:\n",
    "            state = df.iloc[i]['Province/State']\n",
    "\n",
    "        html = \"\"\"\n",
    "                    <b>Country/Region</b>: {}<br> \n",
    "                    <b>Province/State</b>: {}<br>\n",
    "                    <b>Total Cases</b>   : {}<br>\n",
    "            \"\"\".format(df.iloc[i]['Country/Region'], state, df.iloc[i][features[-1]])\n",
    "        \n",
    "        folium.CircleMarker(\n",
    "            location=(df.Lat.iloc[i], df.Long.iloc[i]),\n",
    "                popup=folium.Popup(max_width=200,\n",
    "                               min_width=10,\n",
    "                               html=html\n",
    "                              ),\n",
    "                color=colorCode,\n",
    "                fill=True,\n",
    "                fill_color=colorCode,\n",
    "                radius=float(df.LogValue.iloc[i]*1.8),\n",
    "                ).add_to(m)\n"
   ]
  },
  {
   "cell_type": "code",
   "execution_count": 12,
   "metadata": {},
   "outputs": [],
   "source": [
    "# Plotting a interactive map for covid19 confirmed cases\n",
    "m = folium.Map(location=[15,0], tiles='cartodbdark_matter', zoom_start=1.5)\n",
    "\n",
    "title_html = \"\"\"\n",
    "                <h3 align=\"center\" style=\"font-size:10px\">\n",
    "                    <b>Interactive Maps for Coronavirus COVID-19 Confirmed Cases around the World. (Data as at: {})</b>\n",
    "                </h3>\n",
    "            \"\"\".format(features[-1])\n",
    "\n",
    "m.get_root().html.add_child(folium.Element(title_html))\n",
    "\n",
    "Choropleth(\n",
    "    geo_data=geo_json,\n",
    "    name='choropleth',\n",
    "    key_on='feature.propreties.name',\n",
    "    fill_color='green',\n",
    "    nan_fill_color='blue',\n",
    "    fill_opacity=0.7,\n",
    "    line_opacity=0.2,\n",
    ").add_to(m)\n",
    "\n",
    "\n",
    "scale_legend.add_to(m)\n",
    "\n",
    "for i in range(0, len(grouplist)):\n",
    "    addBubbleToMap(grouplist[i], colorCode[i])\n",
    "\n",
    "m.save('covid19_confirmed_cases_on_map.html')\n",
    "#display(m)"
   ]
  },
  {
   "cell_type": "code",
   "execution_count": 13,
   "metadata": {},
   "outputs": [
    {
     "data": {
      "text/plain": [
       "array(['Australia', 'Canada', 'China', 'Denmark', 'France', 'Netherlands',\n",
       "       'United Kingdom'], dtype=object)"
      ]
     },
     "execution_count": 13,
     "metadata": {},
     "output_type": "execute_result"
    }
   ],
   "source": [
    "duplicated_countries = death_reported[death_reported['Country/Region'].duplicated(keep =False)]['Country/Region'].unique()\n",
    "duplicated_countries"
   ]
  },
  {
   "cell_type": "code",
   "execution_count": 14,
   "metadata": {},
   "outputs": [
    {
     "data": {
      "text/html": [
       "<div>\n",
       "<style scoped>\n",
       "    .dataframe tbody tr th:only-of-type {\n",
       "        vertical-align: middle;\n",
       "    }\n",
       "\n",
       "    .dataframe tbody tr th {\n",
       "        vertical-align: top;\n",
       "    }\n",
       "\n",
       "    .dataframe thead th {\n",
       "        text-align: right;\n",
       "    }\n",
       "</style>\n",
       "<table border=\"1\" class=\"dataframe\">\n",
       "  <thead>\n",
       "    <tr style=\"text-align: right;\">\n",
       "      <th></th>\n",
       "      <th>Province/State</th>\n",
       "      <th>Country/Region</th>\n",
       "      <th>Lat</th>\n",
       "      <th>Long</th>\n",
       "      <th>1/22/20</th>\n",
       "      <th>1/23/20</th>\n",
       "      <th>1/24/20</th>\n",
       "      <th>1/25/20</th>\n",
       "      <th>1/26/20</th>\n",
       "      <th>1/27/20</th>\n",
       "      <th>...</th>\n",
       "      <th>3/30/20</th>\n",
       "      <th>3/31/20</th>\n",
       "      <th>4/1/20</th>\n",
       "      <th>4/2/20</th>\n",
       "      <th>4/3/20</th>\n",
       "      <th>4/4/20</th>\n",
       "      <th>4/5/20</th>\n",
       "      <th>4/6/20</th>\n",
       "      <th>4/7/20</th>\n",
       "      <th>4/8/20</th>\n",
       "    </tr>\n",
       "  </thead>\n",
       "  <tbody>\n",
       "    <tr>\n",
       "      <th>49</th>\n",
       "      <td>Anhui</td>\n",
       "      <td>China</td>\n",
       "      <td>31.8257</td>\n",
       "      <td>117.2264</td>\n",
       "      <td>1</td>\n",
       "      <td>9</td>\n",
       "      <td>15</td>\n",
       "      <td>39</td>\n",
       "      <td>60</td>\n",
       "      <td>70</td>\n",
       "      <td>...</td>\n",
       "      <td>990</td>\n",
       "      <td>990</td>\n",
       "      <td>990</td>\n",
       "      <td>990</td>\n",
       "      <td>990</td>\n",
       "      <td>990</td>\n",
       "      <td>990</td>\n",
       "      <td>990</td>\n",
       "      <td>990</td>\n",
       "      <td>990</td>\n",
       "    </tr>\n",
       "    <tr>\n",
       "      <th>50</th>\n",
       "      <td>Beijing</td>\n",
       "      <td>China</td>\n",
       "      <td>40.1824</td>\n",
       "      <td>116.4142</td>\n",
       "      <td>14</td>\n",
       "      <td>22</td>\n",
       "      <td>36</td>\n",
       "      <td>41</td>\n",
       "      <td>68</td>\n",
       "      <td>80</td>\n",
       "      <td>...</td>\n",
       "      <td>577</td>\n",
       "      <td>580</td>\n",
       "      <td>580</td>\n",
       "      <td>582</td>\n",
       "      <td>584</td>\n",
       "      <td>585</td>\n",
       "      <td>586</td>\n",
       "      <td>587</td>\n",
       "      <td>587</td>\n",
       "      <td>588</td>\n",
       "    </tr>\n",
       "    <tr>\n",
       "      <th>51</th>\n",
       "      <td>Chongqing</td>\n",
       "      <td>China</td>\n",
       "      <td>30.0572</td>\n",
       "      <td>107.8740</td>\n",
       "      <td>6</td>\n",
       "      <td>9</td>\n",
       "      <td>27</td>\n",
       "      <td>57</td>\n",
       "      <td>75</td>\n",
       "      <td>110</td>\n",
       "      <td>...</td>\n",
       "      <td>579</td>\n",
       "      <td>579</td>\n",
       "      <td>579</td>\n",
       "      <td>579</td>\n",
       "      <td>579</td>\n",
       "      <td>579</td>\n",
       "      <td>579</td>\n",
       "      <td>579</td>\n",
       "      <td>579</td>\n",
       "      <td>579</td>\n",
       "    </tr>\n",
       "    <tr>\n",
       "      <th>52</th>\n",
       "      <td>Fujian</td>\n",
       "      <td>China</td>\n",
       "      <td>26.0789</td>\n",
       "      <td>117.9874</td>\n",
       "      <td>1</td>\n",
       "      <td>5</td>\n",
       "      <td>10</td>\n",
       "      <td>18</td>\n",
       "      <td>35</td>\n",
       "      <td>59</td>\n",
       "      <td>...</td>\n",
       "      <td>340</td>\n",
       "      <td>343</td>\n",
       "      <td>345</td>\n",
       "      <td>345</td>\n",
       "      <td>349</td>\n",
       "      <td>350</td>\n",
       "      <td>350</td>\n",
       "      <td>350</td>\n",
       "      <td>351</td>\n",
       "      <td>351</td>\n",
       "    </tr>\n",
       "    <tr>\n",
       "      <th>53</th>\n",
       "      <td>Gansu</td>\n",
       "      <td>China</td>\n",
       "      <td>37.8099</td>\n",
       "      <td>101.0583</td>\n",
       "      <td>0</td>\n",
       "      <td>2</td>\n",
       "      <td>2</td>\n",
       "      <td>4</td>\n",
       "      <td>7</td>\n",
       "      <td>14</td>\n",
       "      <td>...</td>\n",
       "      <td>138</td>\n",
       "      <td>138</td>\n",
       "      <td>138</td>\n",
       "      <td>138</td>\n",
       "      <td>138</td>\n",
       "      <td>138</td>\n",
       "      <td>138</td>\n",
       "      <td>139</td>\n",
       "      <td>139</td>\n",
       "      <td>139</td>\n",
       "    </tr>\n",
       "  </tbody>\n",
       "</table>\n",
       "<p>5 rows × 82 columns</p>\n",
       "</div>"
      ],
      "text/plain": [
       "   Province/State Country/Region      Lat      Long  1/22/20  1/23/20  \\\n",
       "49          Anhui          China  31.8257  117.2264        1        9   \n",
       "50        Beijing          China  40.1824  116.4142       14       22   \n",
       "51      Chongqing          China  30.0572  107.8740        6        9   \n",
       "52         Fujian          China  26.0789  117.9874        1        5   \n",
       "53          Gansu          China  37.8099  101.0583        0        2   \n",
       "\n",
       "    1/24/20  1/25/20  1/26/20  1/27/20  ...  3/30/20  3/31/20  4/1/20  4/2/20  \\\n",
       "49       15       39       60       70  ...      990      990     990     990   \n",
       "50       36       41       68       80  ...      577      580     580     582   \n",
       "51       27       57       75      110  ...      579      579     579     579   \n",
       "52       10       18       35       59  ...      340      343     345     345   \n",
       "53        2        4        7       14  ...      138      138     138     138   \n",
       "\n",
       "    4/3/20  4/4/20  4/5/20  4/6/20  4/7/20  4/8/20  \n",
       "49     990     990     990     990     990     990  \n",
       "50     584     585     586     587     587     588  \n",
       "51     579     579     579     579     579     579  \n",
       "52     349     350     350     350     351     351  \n",
       "53     138     138     138     139     139     139  \n",
       "\n",
       "[5 rows x 82 columns]"
      ]
     },
     "execution_count": 14,
     "metadata": {},
     "output_type": "execute_result"
    }
   ],
   "source": [
    "confirmed_cases[confirmed_cases['Country/Region'] == duplicated_countries[2]].head()"
   ]
  },
  {
   "cell_type": "code",
   "execution_count": 15,
   "metadata": {},
   "outputs": [],
   "source": [
    "def rearrangeDataFrame(df, countries):\n",
    "    for country in countries:\n",
    "        # summations of selected rows to become one \n",
    "        sum_df = df[df['Country/Region'] == str(country)].sum()\n",
    "        sum_df['Province/State'] = country\n",
    "    \n",
    "        # append the row to the main dataFrame\n",
    "        df = df[df['Country/Region'] != country].append(sum_df, ignore_index = True) # append to last rows\n",
    "    \n",
    "    # Combine Province and Region.  Because the following data needs to use Country as representative.\n",
    "    df['Country'] = df['Province/State']                                                                     \n",
    "    df['Country'] = df.Country.fillna(df[df['Province/State'].isna()]['Country/Region'])\n",
    "    \n",
    "    # Move country columns to 1st column\n",
    "    cols = list(df.columns)\n",
    "    cols = [cols[-1]] + [cols[-2]]\n",
    "    \n",
    "    return df[cols]"
   ]
  },
  {
   "cell_type": "markdown",
   "metadata": {},
   "source": [
    "Theses four coutnries: **'Denmark'**, **'France'**, **'Netherlands'** and **'United Kingdom'** countains outside-country-territories.\n",
    "<br> Since these territories each has separated coordinates far away from its country.  Hence, it is better to treat it as a separate region and not combining them with their respective countries."
   ]
  },
  {
   "cell_type": "code",
   "execution_count": 16,
   "metadata": {},
   "outputs": [
    {
     "data": {
      "text/html": [
       "<div>\n",
       "<style scoped>\n",
       "    .dataframe tbody tr th:only-of-type {\n",
       "        vertical-align: middle;\n",
       "    }\n",
       "\n",
       "    .dataframe tbody tr th {\n",
       "        vertical-align: top;\n",
       "    }\n",
       "\n",
       "    .dataframe thead th {\n",
       "        text-align: right;\n",
       "    }\n",
       "</style>\n",
       "<table border=\"1\" class=\"dataframe\">\n",
       "  <thead>\n",
       "    <tr style=\"text-align: right;\">\n",
       "      <th></th>\n",
       "      <th>Country</th>\n",
       "      <th>4/8/20</th>\n",
       "    </tr>\n",
       "  </thead>\n",
       "  <tbody>\n",
       "    <tr>\n",
       "      <th>207</th>\n",
       "      <td>Australia</td>\n",
       "      <td>6010</td>\n",
       "    </tr>\n",
       "  </tbody>\n",
       "</table>\n",
       "</div>"
      ],
      "text/plain": [
       "       Country  4/8/20\n",
       "207  Australia    6010"
      ]
     },
     "execution_count": 16,
     "metadata": {},
     "output_type": "execute_result"
    }
   ],
   "source": [
    "new_confirmed_cases = rearrangeDataFrame(confirmed_cases.copy(), duplicated_countries[0:3])\n",
    "new_death_reported = rearrangeDataFrame(death_reported.copy(), duplicated_countries[0:3])\n",
    "new_recovered_cases = rearrangeDataFrame(recovered_cases.copy(), duplicated_countries[0:3])\n",
    "\n",
    "new_confirmed_cases[new_confirmed_cases.Country.str.contains('Australia')]"
   ]
  },
  {
   "cell_type": "code",
   "execution_count": 17,
   "metadata": {},
   "outputs": [
    {
     "name": "stdout",
     "output_type": "stream",
     "text": [
      "Total rows in confirmed cases: 210\n",
      "Total rows in death cases:     210\n",
      "Total rows in recovered cases: 210\n"
     ]
    }
   ],
   "source": [
    "# Check if number of row of countries is the same\n",
    "print(\"Total rows in confirmed cases: {}\".format(new_confirmed_cases.shape[0]))\n",
    "print(\"Total rows in death cases:     {}\".format(new_death_reported.shape[0]))\n",
    "print(\"Total rows in recovered cases: {}\".format(new_recovered_cases.shape[0]))"
   ]
  },
  {
   "cell_type": "code",
   "execution_count": 18,
   "metadata": {},
   "outputs": [
    {
     "data": {
      "text/html": [
       "<div>\n",
       "<style scoped>\n",
       "    .dataframe tbody tr th:only-of-type {\n",
       "        vertical-align: middle;\n",
       "    }\n",
       "\n",
       "    .dataframe tbody tr th {\n",
       "        vertical-align: top;\n",
       "    }\n",
       "\n",
       "    .dataframe thead th {\n",
       "        text-align: right;\n",
       "    }\n",
       "</style>\n",
       "<table border=\"1\" class=\"dataframe\">\n",
       "  <thead>\n",
       "    <tr style=\"text-align: right;\">\n",
       "      <th></th>\n",
       "      <th>Country</th>\n",
       "      <th>4/8/20</th>\n",
       "    </tr>\n",
       "  </thead>\n",
       "  <tbody>\n",
       "    <tr>\n",
       "      <th>173</th>\n",
       "      <td>US</td>\n",
       "      <td>429052</td>\n",
       "    </tr>\n",
       "    <tr>\n",
       "      <th>149</th>\n",
       "      <td>Spain</td>\n",
       "      <td>148220</td>\n",
       "    </tr>\n",
       "    <tr>\n",
       "      <th>85</th>\n",
       "      <td>Italy</td>\n",
       "      <td>139422</td>\n",
       "    </tr>\n",
       "    <tr>\n",
       "      <th>68</th>\n",
       "      <td>Germany</td>\n",
       "      <td>113296</td>\n",
       "    </tr>\n",
       "    <tr>\n",
       "      <th>64</th>\n",
       "      <td>France</td>\n",
       "      <td>112950</td>\n",
       "    </tr>\n",
       "    <tr>\n",
       "      <th>209</th>\n",
       "      <td>China</td>\n",
       "      <td>82809</td>\n",
       "    </tr>\n",
       "    <tr>\n",
       "      <th>81</th>\n",
       "      <td>Iran</td>\n",
       "      <td>64586</td>\n",
       "    </tr>\n",
       "    <tr>\n",
       "      <th>171</th>\n",
       "      <td>United Kingdom</td>\n",
       "      <td>60733</td>\n",
       "    </tr>\n",
       "    <tr>\n",
       "      <th>161</th>\n",
       "      <td>Turkey</td>\n",
       "      <td>38226</td>\n",
       "    </tr>\n",
       "    <tr>\n",
       "      <th>15</th>\n",
       "      <td>Belgium</td>\n",
       "      <td>23403</td>\n",
       "    </tr>\n",
       "  </tbody>\n",
       "</table>\n",
       "</div>"
      ],
      "text/plain": [
       "            Country  4/8/20\n",
       "173              US  429052\n",
       "149           Spain  148220\n",
       "85            Italy  139422\n",
       "68          Germany  113296\n",
       "64           France  112950\n",
       "209           China   82809\n",
       "81             Iran   64586\n",
       "171  United Kingdom   60733\n",
       "161          Turkey   38226\n",
       "15          Belgium   23403"
      ]
     },
     "execution_count": 18,
     "metadata": {},
     "output_type": "execute_result"
    }
   ],
   "source": [
    "# create a lit of countries\n",
    "countries = [x for x in new_confirmed_cases.Country]\n",
    "\n",
    "# create a list of columns\n",
    "cols = list(new_confirmed_cases.columns)\n",
    "    \n",
    "new_confirmed_cases.nlargest(10, features[-1])\n",
    "#new_death_reported.nlargest(10, features[-1])\n",
    "#new_recovered_cases.nlargest(10, features[-1])"
   ]
  },
  {
   "cell_type": "code",
   "execution_count": 19,
   "metadata": {
    "scrolled": false
   },
   "outputs": [
    {
     "data": {
      "image/png": "[encoded data removed]",
      "text/plain": [
       "<Figure size 720x720 with 1 Axes>"
      ]
     },
     "metadata": {
      "needs_background": "light"
     },
     "output_type": "display_data"
    }
   ],
   "source": [
    "# Plotting scatter graph in comparison with death cases and confirmed cases\n",
    "fig = plt.figure()\n",
    "ax = fig.add_subplot(111)\n",
    "\n",
    "col = cols[-1]\n",
    "\n",
    "# Initialize styles\n",
    "style = dict(size=10, color='gray')\n",
    "\n",
    "# set x-axis and y-axis\n",
    "x_lim = int(new_confirmed_cases[cols[-1]].max() + 1e3)\n",
    "y_lim = int(new_death_reported[cols[-1]].max() + 1e3)\n",
    "plt.axis([0,x_lim,0,y_lim])\n",
    "\n",
    "# range to plot fill area\n",
    "xrange = [10*x for x in range(0, x_lim)]\n",
    "yrange = [y for y in range(0, x_lim)]\n",
    "xrange2 = [100*x for x in range(0, x_lim)]\n",
    "\n",
    "# resize graph\n",
    "plt.gcf().set_size_inches(10,10, forward=False)\n",
    "\n",
    "# label the figure\n",
    "plt.title('COVID-19: Number of Deaths compared to Number of cases')\n",
    "    \n",
    "# Label the axes\n",
    "plt.xlabel('Accumulated Cases Per Day')\n",
    "plt.ylabel('Accumulated Deaths Per Day')\n",
    "\n",
    "# plot fill area\n",
    "area1 = plt.fill_between(xrange, y_lim, color=\"crimson\", alpha=0.05) # plot crimson area where death/case ratio is > 10%\n",
    "area2 = plt.fill_between(xrange, yrange, color=\"white\", alpha=1) # plot area where death/case ratio is < 10%\n",
    "area3 = plt.fill_between(xrange2, yrange, color=\"skyblue\", alpha=0.25) # plot skyblue area where death/case ratio is < 1%\n",
    "\n",
    "plt.legend([area1,area2,area3],\n",
    "           [\"death/case ratio > 10%\", \"death/case ratio between 1% and 10%\", \"death/case ratio < 1%\"],\n",
    "           loc='best', bbox_to_anchor=(1, 1)\n",
    "          )\n",
    "\n",
    "for country in countries:\n",
    "    x = new_confirmed_cases[col][new_confirmed_cases.Country == country].values[0]\n",
    "    y = new_death_reported[col][new_death_reported.Country == country].values[0]\n",
    "    \n",
    "    ax.scatter(x, y, label=country)\n",
    "    if (x > 1e3) and (y > 200):\n",
    "        ax.annotate(country, \n",
    "                    xy = (float(x),float(y)),\n",
    "                    textcoords = \"offset points\", # how to position the text\n",
    "                    xytext = (0,10), # distance from text to points (x,y)\n",
    "                    ha = 'center',\n",
    "                    **style\n",
    "                   )\n",
    "\n",
    "ax.text((x_lim/2), 1, \n",
    "    \"Date: {}\".format(col), \n",
    "    horizontalalignment= 'left', \n",
    "    verticalalignment='bottom',\n",
    "    fontsize = 40,\n",
    "    fontweight = 'bold',\n",
    "    family=\"serif\",\n",
    "    alpha = 0.1\n",
    ")\n",
    "\n",
    "plt.savefig('ScatterPlot.png')\n",
    "plt.show()"
   ]
  },
  {
   "cell_type": "markdown",
   "metadata": {},
   "source": [
    "<br> Load hospital beds indicator from OECD DATA\n",
    "<br> Citation: OECD (2020), Hospital beds (indicator). doi: 10.1787/0191328e-en (Accessed on 03 April 2020)\n",
    "<br>Source of data for hospital beds for OECD DATA: https://data.oecd.org/healtheqt/hospital-beds.htm"
   ]
  },
  {
   "cell_type": "code",
   "execution_count": 20,
   "metadata": {},
   "outputs": [
    {
     "data": {
      "text/plain": [
       "'https://stats.oecd.org/sdmx-json/data/DP_LIVE/.HOSPITALBED.../OECD?contentType=csv&detail=code&separator=comma&csv-lang=en'"
      ]
     },
     "execution_count": 20,
     "metadata": {},
     "output_type": "execute_result"
    }
   ],
   "source": [
    "#Main Pull\n",
    "payload = {'contentType': 'csv','detail': 'code', 'separator': 'comma', 'csv-lang':'en'}\n",
    "r = requests.get('https://stats.oecd.org/sdmx-json/data/DP_LIVE/.HOSPITALBED.../OECD', params=payload)\n",
    "r.url"
   ]
  },
  {
   "cell_type": "code",
   "execution_count": 21,
   "metadata": {},
   "outputs": [
    {
     "data": {
      "text/plain": [
       "'ï»¿\"LOCATION\",\"INDICATOR\",\"SUBJECT\",\"MEASURE\",\"FREQUENCY\",\"TIME\",\"Value\",\"Flag Codes\"'"
      ]
     },
     "execution_count": 21,
     "metadata": {},
     "output_type": "execute_result"
    }
   ],
   "source": [
    "r.text.splitlines()[0]"
   ]
  },
  {
   "cell_type": "markdown",
   "metadata": {},
   "source": [
    "Note that there is an alien wording on the front of **\"LOCATION\"**.  The columns will be modified later."
   ]
  },
  {
   "cell_type": "code",
   "execution_count": 22,
   "metadata": {},
   "outputs": [],
   "source": [
    "#writing the main pull\n",
    "output_reader = csv.reader(r.text.splitlines())\n",
    "with open('pdb_data_no_dups.csv', 'w') as csvfile:\n",
    "    csv_writer = csv.writer(csvfile)\n",
    "    for row in output_reader:\n",
    "        csv_writer.writerow(row)"
   ]
  },
  {
   "cell_type": "code",
   "execution_count": 23,
   "metadata": {},
   "outputs": [
    {
     "data": {
      "text/html": [
       "<div>\n",
       "<style scoped>\n",
       "    .dataframe tbody tr th:only-of-type {\n",
       "        vertical-align: middle;\n",
       "    }\n",
       "\n",
       "    .dataframe tbody tr th {\n",
       "        vertical-align: top;\n",
       "    }\n",
       "\n",
       "    .dataframe thead th {\n",
       "        text-align: right;\n",
       "    }\n",
       "</style>\n",
       "<table border=\"1\" class=\"dataframe\">\n",
       "  <thead>\n",
       "    <tr style=\"text-align: right;\">\n",
       "      <th></th>\n",
       "      <th>LOCATION</th>\n",
       "      <th>INDICATOR</th>\n",
       "      <th>SUBJECT</th>\n",
       "      <th>MEASURE</th>\n",
       "      <th>FREQUENCY</th>\n",
       "      <th>TIME</th>\n",
       "      <th>Value</th>\n",
       "      <th>Flag Codes</th>\n",
       "    </tr>\n",
       "  </thead>\n",
       "  <tbody>\n",
       "    <tr>\n",
       "      <th>0</th>\n",
       "      <td>AUS</td>\n",
       "      <td>HOSPITALBED</td>\n",
       "      <td>TOT</td>\n",
       "      <td>1000HAB</td>\n",
       "      <td>A</td>\n",
       "      <td>1960</td>\n",
       "      <td>9.65</td>\n",
       "      <td>NaN</td>\n",
       "    </tr>\n",
       "    <tr>\n",
       "      <th>1</th>\n",
       "      <td>AUS</td>\n",
       "      <td>HOSPITALBED</td>\n",
       "      <td>TOT</td>\n",
       "      <td>1000HAB</td>\n",
       "      <td>A</td>\n",
       "      <td>1961</td>\n",
       "      <td>9.48</td>\n",
       "      <td>NaN</td>\n",
       "    </tr>\n",
       "    <tr>\n",
       "      <th>2</th>\n",
       "      <td>AUS</td>\n",
       "      <td>HOSPITALBED</td>\n",
       "      <td>TOT</td>\n",
       "      <td>1000HAB</td>\n",
       "      <td>A</td>\n",
       "      <td>1962</td>\n",
       "      <td>9.38</td>\n",
       "      <td>NaN</td>\n",
       "    </tr>\n",
       "    <tr>\n",
       "      <th>3</th>\n",
       "      <td>AUS</td>\n",
       "      <td>HOSPITALBED</td>\n",
       "      <td>TOT</td>\n",
       "      <td>1000HAB</td>\n",
       "      <td>A</td>\n",
       "      <td>1963</td>\n",
       "      <td>9.36</td>\n",
       "      <td>NaN</td>\n",
       "    </tr>\n",
       "    <tr>\n",
       "      <th>4</th>\n",
       "      <td>AUS</td>\n",
       "      <td>HOSPITALBED</td>\n",
       "      <td>TOT</td>\n",
       "      <td>1000HAB</td>\n",
       "      <td>A</td>\n",
       "      <td>1964</td>\n",
       "      <td>9.23</td>\n",
       "      <td>NaN</td>\n",
       "    </tr>\n",
       "  </tbody>\n",
       "</table>\n",
       "</div>"
      ],
      "text/plain": [
       "  LOCATION    INDICATOR SUBJECT  MEASURE FREQUENCY  TIME  Value Flag Codes\n",
       "0      AUS  HOSPITALBED     TOT  1000HAB         A  1960   9.65        NaN\n",
       "1      AUS  HOSPITALBED     TOT  1000HAB         A  1961   9.48        NaN\n",
       "2      AUS  HOSPITALBED     TOT  1000HAB         A  1962   9.38        NaN\n",
       "3      AUS  HOSPITALBED     TOT  1000HAB         A  1963   9.36        NaN\n",
       "4      AUS  HOSPITALBED     TOT  1000HAB         A  1964   9.23        NaN"
      ]
     },
     "execution_count": 23,
     "metadata": {},
     "output_type": "execute_result"
    }
   ],
   "source": [
    "# reading the csv file that just pulled and \n",
    "beds = pd.read_csv(\"pdb_data_no_dups.csv\")\n",
    "beds.columns = ['LOCATION','INDICATOR','SUBJECT','MEASURE','FREQUENCY','TIME','Value','Flag Codes']\n",
    "\n",
    "#the latest year recorded for bed indicator\n",
    "# beds.TIME.max()\n",
    "\n",
    "beds.head()"
   ]
  },
  {
   "cell_type": "code",
   "execution_count": 24,
   "metadata": {},
   "outputs": [
    {
     "name": "stdout",
     "output_type": "stream",
     "text": [
      "Total rows in confirmed cases: 210\n",
      "Total rows in death cases:     210\n",
      "Total rows in recovered cases: 210\n"
     ]
    }
   ],
   "source": [
    "# reconfirm the datas\n",
    "print(\"Total rows in confirmed cases: {}\".format(new_confirmed_cases.shape[0]))\n",
    "print(\"Total rows in death cases:     {}\".format(new_death_reported.shape[0]))\n",
    "print(\"Total rows in recovered cases: {}\".format(new_recovered_cases.shape[0]))"
   ]
  },
  {
   "cell_type": "code",
   "execution_count": 25,
   "metadata": {},
   "outputs": [
    {
     "data": {
      "text/html": [
       "<div>\n",
       "<style scoped>\n",
       "    .dataframe tbody tr th:only-of-type {\n",
       "        vertical-align: middle;\n",
       "    }\n",
       "\n",
       "    .dataframe tbody tr th {\n",
       "        vertical-align: top;\n",
       "    }\n",
       "\n",
       "    .dataframe thead th {\n",
       "        text-align: right;\n",
       "    }\n",
       "</style>\n",
       "<table border=\"1\" class=\"dataframe\">\n",
       "  <thead>\n",
       "    <tr style=\"text-align: right;\">\n",
       "      <th></th>\n",
       "      <th>Country</th>\n",
       "      <th>4/8/20</th>\n",
       "    </tr>\n",
       "  </thead>\n",
       "  <tbody>\n",
       "    <tr>\n",
       "      <th>209</th>\n",
       "      <td>China</td>\n",
       "      <td>82809</td>\n",
       "    </tr>\n",
       "  </tbody>\n",
       "</table>\n",
       "</div>"
      ],
      "text/plain": [
       "    Country  4/8/20\n",
       "209   China   82809"
      ]
     },
     "execution_count": 25,
     "metadata": {},
     "output_type": "execute_result"
    }
   ],
   "source": [
    "new_confirmed_cases[new_confirmed_cases.Country.str.contains('China')]"
   ]
  },
  {
   "cell_type": "code",
   "execution_count": 26,
   "metadata": {},
   "outputs": [
    {
     "name": "stdout",
     "output_type": "stream",
     "text": [
      " Columns before rename: Index(['Country', '4/8/20_x', '4/8/20_y', '4/8/20'], dtype='object')\n",
      " Columns after rename: Index(['Country', 'confirmed', 'deaths', 'recovered'], dtype='object')\n"
     ]
    }
   ],
   "source": [
    "# merging confirmed cases table, death cases table and recovered cases table\n",
    "merge_cases = new_confirmed_cases[['Country', cols[-1]]].merge(new_death_reported[['Country', cols[-1]]], on='Country', how='inner')\n",
    "merge_cases = merge_cases.merge(new_recovered_cases[['Country', cols[-1]]], on='Country', how='inner')\n",
    "print(\" Columns before rename: {}\".format(merge_cases.columns))\n",
    "\n",
    "# rename columns to become meaningful field\n",
    "merge_cases.columns = ['Country','confirmed','deaths','recovered']\n",
    "print(\" Columns after rename: {}\".format(merge_cases.columns))"
   ]
  },
  {
   "cell_type": "code",
   "execution_count": 27,
   "metadata": {},
   "outputs": [
    {
     "data": {
      "text/html": [
       "<div>\n",
       "<style scoped>\n",
       "    .dataframe tbody tr th:only-of-type {\n",
       "        vertical-align: middle;\n",
       "    }\n",
       "\n",
       "    .dataframe tbody tr th {\n",
       "        vertical-align: top;\n",
       "    }\n",
       "\n",
       "    .dataframe thead th {\n",
       "        text-align: right;\n",
       "    }\n",
       "</style>\n",
       "<table border=\"1\" class=\"dataframe\">\n",
       "  <thead>\n",
       "    <tr style=\"text-align: right;\">\n",
       "      <th></th>\n",
       "      <th>Country</th>\n",
       "      <th>confirmed</th>\n",
       "      <th>deaths</th>\n",
       "      <th>recovered</th>\n",
       "      <th>active</th>\n",
       "      <th>recovery_rate</th>\n",
       "    </tr>\n",
       "  </thead>\n",
       "  <tbody>\n",
       "    <tr>\n",
       "      <th>0</th>\n",
       "      <td>Afghanistan</td>\n",
       "      <td>444</td>\n",
       "      <td>14</td>\n",
       "      <td>29</td>\n",
       "      <td>401</td>\n",
       "      <td>6.531532</td>\n",
       "    </tr>\n",
       "    <tr>\n",
       "      <th>1</th>\n",
       "      <td>Albania</td>\n",
       "      <td>400</td>\n",
       "      <td>22</td>\n",
       "      <td>154</td>\n",
       "      <td>224</td>\n",
       "      <td>38.500000</td>\n",
       "    </tr>\n",
       "    <tr>\n",
       "      <th>2</th>\n",
       "      <td>Algeria</td>\n",
       "      <td>1572</td>\n",
       "      <td>205</td>\n",
       "      <td>237</td>\n",
       "      <td>1130</td>\n",
       "      <td>15.076336</td>\n",
       "    </tr>\n",
       "    <tr>\n",
       "      <th>3</th>\n",
       "      <td>Andorra</td>\n",
       "      <td>564</td>\n",
       "      <td>23</td>\n",
       "      <td>52</td>\n",
       "      <td>489</td>\n",
       "      <td>9.219858</td>\n",
       "    </tr>\n",
       "    <tr>\n",
       "      <th>4</th>\n",
       "      <td>Angola</td>\n",
       "      <td>19</td>\n",
       "      <td>2</td>\n",
       "      <td>2</td>\n",
       "      <td>15</td>\n",
       "      <td>10.526316</td>\n",
       "    </tr>\n",
       "  </tbody>\n",
       "</table>\n",
       "</div>"
      ],
      "text/plain": [
       "       Country  confirmed  deaths  recovered  active  recovery_rate\n",
       "0  Afghanistan        444      14         29     401       6.531532\n",
       "1      Albania        400      22        154     224      38.500000\n",
       "2      Algeria       1572     205        237    1130      15.076336\n",
       "3      Andorra        564      23         52     489       9.219858\n",
       "4       Angola         19       2          2      15      10.526316"
      ]
     },
     "execution_count": 27,
     "metadata": {},
     "output_type": "execute_result"
    }
   ],
   "source": [
    "# recovery rate\n",
    "merge_cases['active'] = merge_cases.confirmed - merge_cases.deaths - merge_cases.recovered\n",
    "merge_cases['recovery_rate'] = merge_cases.recovered / merge_cases.confirmed * 100\n",
    "merge_cases.head()"
   ]
  },
  {
   "cell_type": "markdown",
   "metadata": {},
   "source": [
    "Total countries become lesser by 1 after **2010**.  \n",
    "<br> This implies that one country has stopped updated its data from **2011** onwards"
   ]
  },
  {
   "cell_type": "code",
   "execution_count": 28,
   "metadata": {},
   "outputs": [],
   "source": [
    "# Assign all the country code into a list\n",
    "locations = list(beds.LOCATION.unique())\n",
    "\n",
    "# Assign the subjects of bed usage into a list\n",
    "subjects = list(beds.SUBJECT.unique())\n",
    "\n",
    "beds = beds[beds.TIME >= 2010]  # We can change the year here to verify if the country code has been reduced\n",
    "number_of_countries_recorded_in_bed_datasets = len(beds.LOCATION.unique())\n",
    "#number_of_countries_recorded_in_bed_datasets"
   ]
  },
  {
   "cell_type": "code",
   "execution_count": 29,
   "metadata": {},
   "outputs": [],
   "source": [
    "def filterForLatestNumOfBed(df, locations=locations, subjects=subjects):\n",
    "    for location in locations:\n",
    "        #print(country)\n",
    "        for subject in subjects:\n",
    "            #print(subject)\n",
    "            new_df = df[df.LOCATION.str.contains(location) & df.SUBJECT.str.contains(subject)]\n",
    "            index = list(new_df[new_df.TIME != new_df.TIME.max()].index)\n",
    "            df = df.drop(index)\n",
    "            #print(index)\n",
    "        \n",
    "    return df"
   ]
  },
  {
   "cell_type": "code",
   "execution_count": 30,
   "metadata": {},
   "outputs": [
    {
     "data": {
      "text/plain": [
       "<bound method Series.sort_index of LOCATION\n",
       "AUS     4.26\n",
       "AUT    13.43\n",
       "BEL    11.98\n",
       "BRA     2.30\n",
       "CAN     4.79\n",
       "CHE     9.02\n",
       "CHL     4.20\n",
       "CHN     4.34\n",
       "COL     1.71\n",
       "CRI     1.13\n",
       "CZE    11.68\n",
       "DEU    15.30\n",
       "DNK     5.39\n",
       "ESP     5.76\n",
       "EST     8.67\n",
       "FIN     6.47\n",
       "FRA     9.91\n",
       "GBR     5.03\n",
       "GRC     8.55\n",
       "HUN    12.16\n",
       "IDN     1.04\n",
       "IND     0.53\n",
       "IRL     6.07\n",
       "ISL     5.65\n",
       "ISR     5.58\n",
       "ITA     5.89\n",
       "JPN    23.46\n",
       "KOR    20.72\n",
       "LTU    13.02\n",
       "LUX     8.95\n",
       "LVA    10.12\n",
       "MEX     2.79\n",
       "NLD     7.15\n",
       "NOR     7.87\n",
       "NZL     5.50\n",
       "POL    12.12\n",
       "PRT     7.28\n",
       "RUS     8.05\n",
       "SVK    11.54\n",
       "SVN     9.36\n",
       "SWE     4.69\n",
       "TUR     5.64\n",
       "USA     5.42\n",
       "ZAF     2.32\n",
       "Name: Value, dtype: float64>"
      ]
     },
     "execution_count": 30,
     "metadata": {},
     "output_type": "execute_result"
    }
   ],
   "source": [
    "beds_2010_later = filterForLatestNumOfBed(beds[beds.TIME >= 2010].copy())\n",
    "\n",
    "# Total beds per 1000 inhabitants by country code\n",
    "beds_data = beds_2010_later.Value.groupby(beds.LOCATION).sum().sort_index\n",
    "beds_data"
   ]
  },
  {
   "cell_type": "code",
   "execution_count": 31,
   "metadata": {},
   "outputs": [
    {
     "data": {
      "text/plain": [
       "['Australia',\n",
       " 'Austria',\n",
       " 'Belgium',\n",
       " 'Canada',\n",
       " 'Czechia',\n",
       " 'Denmark',\n",
       " 'Finland',\n",
       " 'France',\n",
       " 'Germany',\n",
       " 'Greece',\n",
       " 'Hungary',\n",
       " 'Iceland',\n",
       " 'Ireland',\n",
       " 'Italy',\n",
       " 'Japan',\n",
       " 'Korea, Republic of',\n",
       " 'Luxembourg',\n",
       " 'Mexico',\n",
       " 'Netherlands',\n",
       " 'New Zealand',\n",
       " 'Norway',\n",
       " 'Poland',\n",
       " 'Portugal',\n",
       " 'Slovakia',\n",
       " 'Spain',\n",
       " 'Sweden',\n",
       " 'Switzerland',\n",
       " 'Turkey',\n",
       " 'United Kingdom',\n",
       " 'United States',\n",
       " 'Brazil',\n",
       " 'Chile',\n",
       " 'China',\n",
       " 'Estonia',\n",
       " 'India',\n",
       " 'Indonesia',\n",
       " 'Israel',\n",
       " 'Russian Federation',\n",
       " 'Slovenia',\n",
       " 'South Africa',\n",
       " 'Colombia',\n",
       " 'Latvia',\n",
       " 'Lithuania',\n",
       " 'Costa Rica']"
      ]
     },
     "execution_count": 31,
     "metadata": {},
     "output_type": "execute_result"
    }
   ],
   "source": [
    "countries_with_recorded_beds = [pycountry.countries.get(alpha_3=loc).name for loc in locations]\n",
    "countries_with_recorded_beds"
   ]
  },
  {
   "cell_type": "markdown",
   "metadata": {},
   "source": [
    "Unfortunately, in merge_cases table there's two country which is using different name from bed datas, which is:\n",
    "\n",
    "<ul style=\"list-style-type:number;\">\n",
    "    <li>'US' --> United States</li>\n",
    "    <li>'Russia' --> Russian Federation </li>\n",
    "</ul>\n",
    "\n",
    "Plse uncomment this to see that the list of country in merge_cases for comparison"
   ]
  },
  {
   "cell_type": "code",
   "execution_count": 32,
   "metadata": {},
   "outputs": [],
   "source": [
    "#merge_cases.Country.unique() "
   ]
  },
  {
   "cell_type": "code",
   "execution_count": 33,
   "metadata": {},
   "outputs": [],
   "source": [
    "df= merge_cases.copy()\n",
    "\n",
    "# Change the naming for Russian Federation and United States to access merge_cases\n",
    "for x in range(0, len(countries_with_recorded_beds)):\n",
    "    if countries_with_recorded_beds[x] == 'Russian Federation':\n",
    "        countries_with_recorded_beds[x] = 'Russia'\n",
    "    elif countries_with_recorded_beds[x] == 'United States':\n",
    "        countries_with_recorded_beds[x] = 'US'\n",
    "    else:\n",
    "        continue\n",
    "\n",
    "# Identifying the indices to slice out the unecessary data.\n",
    "# From here we will only focus on the countries which has records for number of beds        \n",
    "indices = [df[df.Country == country].index[0] for country in df.Country if country in countries_with_recorded_beds]\n",
    "cases_with_recorded_beds = df.iloc[indices]"
   ]
  },
  {
   "cell_type": "code",
   "execution_count": 34,
   "metadata": {},
   "outputs": [
    {
     "name": "stdout",
     "output_type": "stream",
     "text": [
      "# of Countries with recorded beds data in OCED: 44\n",
      "# of Countries after sliced out from COVID-19 data: 43\n"
     ]
    }
   ],
   "source": [
    "# It shows that we have almost all the countries in our list except for one: Replic of Korea\n",
    "print(\"# of Countries with recorded beds data in OCED: {}\".format(number_of_countries_recorded_in_bed_datasets))\n",
    "print(\"# of Countries after sliced out from COVID-19 data: {}\".format(cases_with_recorded_beds.shape[0]))"
   ]
  },
  {
   "cell_type": "code",
   "execution_count": 35,
   "metadata": {},
   "outputs": [
    {
     "name": "stderr",
     "output_type": "stream",
     "text": [
      "/home/jyong/anaconda3/lib/python3.7/site-packages/ipykernel_launcher.py:11: SettingWithCopyWarning: \n",
      "A value is trying to be set on a copy of a slice from a DataFrame.\n",
      "Try using .loc[row_indexer,col_indexer] = value instead\n",
      "\n",
      "See the caveats in the documentation: https://pandas.pydata.org/pandas-docs/stable/user_guide/indexing.html#returning-a-view-versus-a-copy\n",
      "  # This is added back by InteractiveShellApp.init_path()\n",
      "/home/jyong/anaconda3/lib/python3.7/site-packages/ipykernel_launcher.py:14: SettingWithCopyWarning: \n",
      "A value is trying to be set on a copy of a slice from a DataFrame.\n",
      "Try using .loc[row_indexer,col_indexer] = value instead\n",
      "\n",
      "See the caveats in the documentation: https://pandas.pydata.org/pandas-docs/stable/user_guide/indexing.html#returning-a-view-versus-a-copy\n",
      "  \n"
     ]
    },
    {
     "data": {
      "text/html": [
       "<div>\n",
       "<style scoped>\n",
       "    .dataframe tbody tr th:only-of-type {\n",
       "        vertical-align: middle;\n",
       "    }\n",
       "\n",
       "    .dataframe tbody tr th {\n",
       "        vertical-align: top;\n",
       "    }\n",
       "\n",
       "    .dataframe thead th {\n",
       "        text-align: right;\n",
       "    }\n",
       "</style>\n",
       "<table border=\"1\" class=\"dataframe\">\n",
       "  <thead>\n",
       "    <tr style=\"text-align: right;\">\n",
       "      <th></th>\n",
       "      <th>Country</th>\n",
       "      <th>confirmed</th>\n",
       "      <th>deaths</th>\n",
       "      <th>recovered</th>\n",
       "      <th>active</th>\n",
       "      <th>recovery_rate</th>\n",
       "      <th>Location</th>\n",
       "      <th>beds</th>\n",
       "    </tr>\n",
       "  </thead>\n",
       "  <tbody>\n",
       "    <tr>\n",
       "      <th>173</th>\n",
       "      <td>US</td>\n",
       "      <td>429052</td>\n",
       "      <td>14695</td>\n",
       "      <td>23559</td>\n",
       "      <td>390798</td>\n",
       "      <td>5.490943</td>\n",
       "      <td>USA</td>\n",
       "      <td>39.55</td>\n",
       "    </tr>\n",
       "    <tr>\n",
       "      <th>149</th>\n",
       "      <td>Spain</td>\n",
       "      <td>148220</td>\n",
       "      <td>14792</td>\n",
       "      <td>48021</td>\n",
       "      <td>85407</td>\n",
       "      <td>32.398462</td>\n",
       "      <td>ESP</td>\n",
       "      <td>46.21</td>\n",
       "    </tr>\n",
       "    <tr>\n",
       "      <th>85</th>\n",
       "      <td>Italy</td>\n",
       "      <td>139422</td>\n",
       "      <td>17669</td>\n",
       "      <td>26491</td>\n",
       "      <td>95262</td>\n",
       "      <td>19.000588</td>\n",
       "      <td>ITA</td>\n",
       "      <td>49.49</td>\n",
       "    </tr>\n",
       "    <tr>\n",
       "      <th>68</th>\n",
       "      <td>Germany</td>\n",
       "      <td>113296</td>\n",
       "      <td>2349</td>\n",
       "      <td>46300</td>\n",
       "      <td>64647</td>\n",
       "      <td>40.866403</td>\n",
       "      <td>DEU</td>\n",
       "      <td>124.91</td>\n",
       "    </tr>\n",
       "    <tr>\n",
       "      <th>64</th>\n",
       "      <td>France</td>\n",
       "      <td>112950</td>\n",
       "      <td>10869</td>\n",
       "      <td>21254</td>\n",
       "      <td>80827</td>\n",
       "      <td>18.817176</td>\n",
       "      <td>FRA</td>\n",
       "      <td>83.06</td>\n",
       "    </tr>\n",
       "    <tr>\n",
       "      <th>209</th>\n",
       "      <td>China</td>\n",
       "      <td>82809</td>\n",
       "      <td>3337</td>\n",
       "      <td>77567</td>\n",
       "      <td>1905</td>\n",
       "      <td>93.669770</td>\n",
       "      <td>CHN</td>\n",
       "      <td>27.32</td>\n",
       "    </tr>\n",
       "    <tr>\n",
       "      <th>171</th>\n",
       "      <td>United Kingdom</td>\n",
       "      <td>60733</td>\n",
       "      <td>7097</td>\n",
       "      <td>135</td>\n",
       "      <td>53501</td>\n",
       "      <td>0.222284</td>\n",
       "      <td>GBR</td>\n",
       "      <td>27.64</td>\n",
       "    </tr>\n",
       "    <tr>\n",
       "      <th>161</th>\n",
       "      <td>Turkey</td>\n",
       "      <td>38226</td>\n",
       "      <td>812</td>\n",
       "      <td>1846</td>\n",
       "      <td>35568</td>\n",
       "      <td>4.829174</td>\n",
       "      <td>TUR</td>\n",
       "      <td>43.40</td>\n",
       "    </tr>\n",
       "    <tr>\n",
       "      <th>15</th>\n",
       "      <td>Belgium</td>\n",
       "      <td>23403</td>\n",
       "      <td>2240</td>\n",
       "      <td>4681</td>\n",
       "      <td>16482</td>\n",
       "      <td>20.001709</td>\n",
       "      <td>BEL</td>\n",
       "      <td>112.41</td>\n",
       "    </tr>\n",
       "    <tr>\n",
       "      <th>154</th>\n",
       "      <td>Switzerland</td>\n",
       "      <td>23280</td>\n",
       "      <td>895</td>\n",
       "      <td>9800</td>\n",
       "      <td>12585</td>\n",
       "      <td>42.096220</td>\n",
       "      <td>CHE</td>\n",
       "      <td>74.32</td>\n",
       "    </tr>\n",
       "  </tbody>\n",
       "</table>\n",
       "</div>"
      ],
      "text/plain": [
       "            Country  confirmed  deaths  recovered  active  recovery_rate  \\\n",
       "173              US     429052   14695      23559  390798       5.490943   \n",
       "149           Spain     148220   14792      48021   85407      32.398462   \n",
       "85            Italy     139422   17669      26491   95262      19.000588   \n",
       "68          Germany     113296    2349      46300   64647      40.866403   \n",
       "64           France     112950   10869      21254   80827      18.817176   \n",
       "209           China      82809    3337      77567    1905      93.669770   \n",
       "171  United Kingdom      60733    7097        135   53501       0.222284   \n",
       "161          Turkey      38226     812       1846   35568       4.829174   \n",
       "15          Belgium      23403    2240       4681   16482      20.001709   \n",
       "154     Switzerland      23280     895       9800   12585      42.096220   \n",
       "\n",
       "    Location    beds  \n",
       "173      USA   39.55  \n",
       "149      ESP   46.21  \n",
       "85       ITA   49.49  \n",
       "68       DEU  124.91  \n",
       "64       FRA   83.06  \n",
       "209      CHN   27.32  \n",
       "171      GBR   27.64  \n",
       "161      TUR   43.40  \n",
       "15       BEL  112.41  \n",
       "154      CHE   74.32  "
      ]
     },
     "execution_count": 35,
     "metadata": {},
     "output_type": "execute_result"
    }
   ],
   "source": [
    "# identify all the unique countires with recorded beds\n",
    "countries_with_recorded_beds = list(cases_with_recorded_beds.Country.unique())\n",
    "location_code = []\n",
    "\n",
    "for country in countries_with_recorded_beds:\n",
    "    if country == 'US':\n",
    "        country = 'United States'\n",
    "    location_code.append(pc.country_name_to_country_alpha3(country, cn_name_format=\"default\"))\n",
    "\n",
    "# Add columns with the country code created    \n",
    "cases_with_recorded_beds['Location'] = location_code\n",
    "\n",
    "# Add in bed datas\n",
    "cases_with_recorded_beds['beds'] = [float(beds[beds.LOCATION.str.contains(loc)].Value.sum()) for loc in location_code]\n",
    "cases_with_recorded_beds = cases_with_recorded_beds.sort_values(by= \"confirmed\", ascending = False) \n",
    "\n",
    "# Identify top 10 cases\n",
    "top_10_cases = cases_with_recorded_beds.head(10)\n",
    "top_10_location = list(top_10_cases.Location.unique())\n",
    "cases_with_recorded_beds.nlargest(10, 'confirmed')"
   ]
  },
  {
   "cell_type": "code",
   "execution_count": 50,
   "metadata": {},
   "outputs": [
    {
     "data": {
      "image/png": "[encoded data removed]",
      "text/plain": [
       "<Figure size 720x720 with 1 Axes>"
      ]
     },
     "metadata": {
      "needs_background": "light"
     },
     "output_type": "display_data"
    }
   ],
   "source": [
    "fig = plt.figure()\n",
    "\n",
    "# Initialize styles\n",
    "style = dict(size='medium', color='black')\n",
    "\n",
    "# set x-axis and y-axis\n",
    "x_lim = int(cases_with_recorded_beds.beds.max() + 2)\n",
    "y_lim = int(100)\n",
    "plt.axis([0,x_lim,0,y_lim])\n",
    "\n",
    "# resize graph\n",
    "plt.gcf().set_size_inches(10,10, forward=False)\n",
    "\n",
    "# label the figure\n",
    "plt.title('COVID-19: Coronavirus Recovery Rate & Hospital Beds per Capita')\n",
    "    \n",
    "# Label the axes\n",
    "plt.xlabel('Hospital Beds (per 1,000 inhabitant) per Capita')\n",
    "plt.ylabel('Recovery rate (%)')\n",
    "\n",
    "plt.grid(True,axis='both')\n",
    "\n",
    "# Plotting multiple bubbles\n",
    "for location in location_code:\n",
    "    isLocation = cases_with_recorded_beds.Location.str.contains(location)\n",
    "    x = cases_with_recorded_beds[isLocation].beds.values[0]\n",
    "    y = cases_with_recorded_beds[isLocation].recovery_rate.values[0]\n",
    "    size = cases_with_recorded_beds[isLocation].active.values[0]\n",
    "    \n",
    "    # Highlight the number of beds that is less than active cases\n",
    "    if x*1000 < size:\n",
    "        plt.scatter(x, y, s=size*0.05, alpha=0.4, linewidths=1.5, edgecolor ='black')\n",
    "    else:\n",
    "        plt.scatter(x, y, s=size*0.05, alpha=0.25)\n",
    "\n",
    "# Label country code on bubbles\n",
    "for row in range(0, cases_with_recorded_beds.shape[0]):\n",
    "    plt.annotate(cases_with_recorded_beds.Location.iloc[row], \n",
    "                xy = (cases_with_recorded_beds.beds.iloc[row],cases_with_recorded_beds.recovery_rate.iloc[row]),\n",
    "                textcoords = \"offset points\", # how to position the text\n",
    "                xytext = (0,10), # distance from text to points (x,y)\n",
    "                horizontalalignment= 'center', \n",
    "                verticalalignment='center',\n",
    "                **style\n",
    "                )\n",
    "\n",
    "# Display text of data as dated.\n",
    "plt.text(x_lim*0.45, y_lim-1, \n",
    "    \"Date: {}\".format(col), \n",
    "    horizontalalignment= 'left', \n",
    "    verticalalignment='top',\n",
    "    fontsize = 40,\n",
    "    fontweight = 'bold',\n",
    "    family=\"serif\",\n",
    "    alpha = 0.1\n",
    ")\n",
    "\n",
    "# Create legend for bubble plot\n",
    "for area in [4e2, 4e3, 4e4, 2e5]:\n",
    "    plt.scatter([], \n",
    "                [], \n",
    "                c ='k', alpha=0.25, \n",
    "                s=area*0.05, \n",
    "                label=\"> {} cases\".format(int(area))\n",
    "               )\n",
    "\n",
    "plt.legend(scatterpoints=1, frameon=False, labelspacing=9, loc=\"best\", title=\"Sizes of active cases\", bbox_to_anchor=(1.3, 1))\n",
    "\n",
    "plt.savefig('BubblePlot.png')\n",
    "plt.show()"
   ]
  },
  {
   "cell_type": "code",
   "execution_count": 37,
   "metadata": {},
   "outputs": [],
   "source": [
    "cols = confirmed_cases.columns"
   ]
  },
  {
   "cell_type": "code",
   "execution_count": 38,
   "metadata": {},
   "outputs": [],
   "source": [
    "# slicing the data and retain the daily record\n",
    "confirmed_cases_over_time = confirmed_cases.loc[:,cols[4]:cols[-1]]\n",
    "death_reported_over_time = death_reported.loc[:,cols[4]:cols[-1]]\n",
    "recoveries_over_time = recovered_cases.loc[:,cols[4]:cols[-1]]\n",
    "days = confirmed_cases_over_time.keys()"
   ]
  },
  {
   "cell_type": "code",
   "execution_count": 39,
   "metadata": {},
   "outputs": [],
   "source": [
    "# obtain the total cases for daily basis\n",
    "sum_of_confirmed_over_time = confirmed_cases_over_time.sum()\n",
    "sum_of_deaths_over_time = death_reported_over_time.sum()\n",
    "sum_of_recoveries_over_time = recoveries_over_time.sum()\n",
    "days_since_1_22 = np.array([i for i in range(len(days))]).reshape(-1, 1)"
   ]
  },
  {
   "cell_type": "code",
   "execution_count": 40,
   "metadata": {},
   "outputs": [
    {
     "data": {
      "image/png": "[encoded data removed]",
      "text/plain": [
       "<Figure size 864x720 with 1 Axes>"
      ]
     },
     "metadata": {
      "needs_background": "light"
     },
     "output_type": "display_data"
    }
   ],
   "source": [
    "plt.figure(figsize=(12,10))\n",
    "plt.plot(sum_of_confirmed_over_time, marker='o')\n",
    "plt.plot(sum_of_deaths_over_time, marker='o', color='r')\n",
    "plt.plot(sum_of_recoveries_over_time, marker='o', color='g')\n",
    "plt.title('World Coronavirus Cases over Time')\n",
    "plt.legend(['confirmed','deaths', 'recovered'])\n",
    "plt.xticks(rotation=75)\n",
    "plt.xlim(0,days[-1])\n",
    "\n",
    "# Label the axes\n",
    "plt.xlabel('Days since 22 Jan 2020')\n",
    "plt.ylabel('Number of reported cases')\n",
    "\n",
    "plt.savefig('WorldCoronavirusCasesOverTime.png')\n",
    "plt.show()"
   ]
  },
  {
   "cell_type": "markdown",
   "metadata": {},
   "source": [
    "The linear regression formula are expected as:\n",
    "\\begin{align*}\n",
    "y = a + b * x\n",
    "\\end{align*}\n",
    "where:\n",
    "<ul style=\"list-style-type:number;\">\n",
    "    <li><b>a</b> is the value of <b>constant</b></li>\n",
    "    <li><b>b</b> is the value of <b>days</b></li>\n",
    "</ul>\n",
    "\n"
   ]
  },
  {
   "cell_type": "markdown",
   "metadata": {},
   "source": [
    "By converting the exponential function into a linear function, we will get:\n",
    "\\begin{align*}\n",
    "log(x(t)) = log(x_0) + log(b)*t\n",
    "\\end{align*}\n",
    "where:\n",
    "\\begin{align*}\n",
    "x_0 = e^a\n",
    "\\end{align*}\n",
    "<br>the **linear regression's a** is the **log of initial value**\n",
    "<br>the **linear regression's b** is the **log of growth factor**"
   ]
  },
  {
   "cell_type": "markdown",
   "metadata": {},
   "source": [
    "By applying inverse log to the equation, we will have the actual formula for the coronavirus pandemic\n",
    "\\begin{align*}\n",
    "x(t) = e^a *b^t\n",
    "\\end{align*}"
   ]
  },
  {
   "cell_type": "code",
   "execution_count": 49,
   "metadata": {},
   "outputs": [],
   "source": [
    "def linearRegressionModel(x_data, y_data):\n",
    "    X_train, X_test, y_train, y_test = train_test_split(x_data, y_data, random_state = 0)\n",
    "    X_train = pd.DataFrame(X_train)\n",
    "    X_test = pd.DataFrame(X_test)\n",
    "    \n",
    "    #implement linear regression\n",
    "    model = LinearRegression()\n",
    "    reg = model.fit(X_train,y_train)    \n",
    "    \n",
    "    #make predictions and find the rmse\n",
    "    preds = model.predict(X_test)\n",
    "    #print(preds)\n",
    "    rms=np.sqrt(np.mean(np.power((np.array(y_test)-np.array(preds)),2)))\n",
    "    \n",
    "    \n",
    "    return reg, rms, preds"
   ]
  },
  {
   "cell_type": "code",
   "execution_count": 42,
   "metadata": {},
   "outputs": [],
   "source": [
    "confirmed_reg, confirmed_rms, confirmed_preds = linearRegressionModel(days_since_1_22, np.log(sum_of_confirmed_over_time))\n",
    "deaths_reg, deaths_rms, deaths_preds = linearRegressionModel(days_since_1_22, np.log(sum_of_deaths_over_time))\n",
    "recovery_reg, recovery_rms, recovery_preds = linearRegressionModel(days_since_1_22, np.log(sum_of_recoveries_over_time))"
   ]
  },
  {
   "cell_type": "code",
   "execution_count": 43,
   "metadata": {},
   "outputs": [
    {
     "name": "stdout",
     "output_type": "stream",
     "text": [
      "RMS determined for confirmed cases: 0.6590924307563436\n",
      "RMS determined for death reported: 0.5698045326068973\n",
      "RMS determined for recovery cases: 1.0645497056887319\n"
     ]
    }
   ],
   "source": [
    "print(\"RMS determined for confirmed cases: {}\".format(confirmed_rms))\n",
    "print(\"RMS determined for death reported: {}\".format(deaths_rms))\n",
    "print(\"RMS determined for recovery cases: {}\".format(recovery_rms)) # this is invalid for recovery cases"
   ]
  },
  {
   "cell_type": "code",
   "execution_count": 44,
   "metadata": {},
   "outputs": [],
   "source": [
    "extra_day_for_predictions = 14\n",
    "future_forecast = np.array([i for i in range(len(days_since_1_22)+extra_day_for_predictions)]).reshape(-1, 1)"
   ]
  },
  {
   "cell_type": "code",
   "execution_count": 45,
   "metadata": {},
   "outputs": [
    {
     "data": {
      "image/png": "[encoded data removed]",
      "text/plain": [
       "<Figure size 1296x432 with 2 Axes>"
      ]
     },
     "metadata": {
      "needs_background": "light"
     },
     "output_type": "display_data"
    }
   ],
   "source": [
    "fig, axs = plt.subplots(1, 2)\n",
    "plt.gcf().set_size_inches(18,6, forward=False)\n",
    "axs[0].plot(future_forecast, np.exp(confirmed_reg.coef_)**future_forecast * np.exp(confirmed_reg.intercept_), color =\"red\")\n",
    "axs[0].scatter(days_since_1_22, sum_of_confirmed_over_time)\n",
    "axs[0].axis([0,future_forecast[-1],0,30e5])\n",
    "axs[0].set_title('Confirmed cases predictions')\n",
    "# Label the axes\n",
    "axs[0].set_xlabel('Days since 22 Jan 2020')\n",
    "axs[0].set_ylabel('Number of reported cases')\n",
    "axs[0].legend(['predictions', 'actual cases'])\n",
    "\n",
    "#plot another graph for closer look\n",
    "axs[1].plot(future_forecast, np.exp(confirmed_reg.coef_)**future_forecast * np.exp(confirmed_reg.intercept_), color =\"red\")\n",
    "axs[1].scatter(days_since_1_22, sum_of_confirmed_over_time)\n",
    "axs[1].axis([future_forecast[-44],future_forecast[-1],1e5,30e5])\n",
    "axs[1].set_title('Confirmed cases predictions (closer look)')\n",
    "# Label the axes\n",
    "axs[1].set_xlabel('Days since 22 Jan 2020')\n",
    "axs[1].set_ylabel('Number of reported cases')\n",
    "axs[1].legend(['predictions', 'actual cases'])\n",
    "\n",
    "plt.savefig('LinearRegressionPredictionPlot.png')\n",
    "plt.show()"
   ]
  }
 ],
 "metadata": {
  "kernelspec": {
   "display_name": "Python 3",
   "language": "python",
   "name": "python3"
  },
  "language_info": {
   "codemirror_mode": {
    "name": "ipython",
    "version": 3
   },
   "file_extension": ".py",
   "mimetype": "text/x-python",
   "name": "python",
   "nbconvert_exporter": "python",
   "pygments_lexer": "ipython3",
   "version": "3.7.6"
  }
 },
 "nbformat": 4,
 "nbformat_minor": 4
}
