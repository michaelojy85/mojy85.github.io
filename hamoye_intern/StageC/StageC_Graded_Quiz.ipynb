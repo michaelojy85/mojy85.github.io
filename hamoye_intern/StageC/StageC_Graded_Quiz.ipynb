{
  "nbformat": 4,
  "nbformat_minor": 0,
  "metadata": {
    "colab": {
      "name": "StageC_Graded_Quiz.ipynb",
      "provenance": [],
      "collapsed_sections": [],
      "authorship_tag": "ABX9TyNRrOpz3elOkZC1sBXfBABm",
      "include_colab_link": true
    },
    "kernelspec": {
      "name": "python3",
      "display_name": "Python 3"
    }
  },
  "cells": [
    {
      "cell_type": "markdown",
      "metadata": {
        "id": "view-in-github",
        "colab_type": "text"
      },
      "source": [
        "<a href=\"https://colab.research.google.com/github/michaelojy85/mojy85.github.io/blob/master/StageC_Graded_Quiz.ipynb\" target=\"_parent\"><img src=\"https://colab.research.google.com/assets/colab-badge.svg\" alt=\"Open In Colab\"/></a>"
      ]
    },
    {
      "cell_type": "code",
      "metadata": {
        "id": "Y8xN3ep8vXpK",
        "colab_type": "code",
        "colab": {
          "base_uri": "https://localhost:8080/",
          "height": 72
        },
        "outputId": "0e585fd6-2f93-472c-f92e-79c10ee1bb2b"
      },
      "source": [
        "#Import libraries\n",
        "import pandas as pd\n",
        "import numpy as np\n",
        "import seaborn as sns\n",
        "import matplotlib.pyplot as plt"
      ],
      "execution_count": 1,
      "outputs": [
        {
          "output_type": "stream",
          "text": [
            "/usr/local/lib/python3.6/dist-packages/statsmodels/tools/_testing.py:19: FutureWarning: pandas.util.testing is deprecated. Use the functions in the public API at pandas.testing instead.\n",
            "  import pandas.util.testing as tm\n"
          ],
          "name": "stderr"
        }
      ]
    },
    {
      "cell_type": "code",
      "metadata": {
        "id": "D0b-wOYwv00G",
        "colab_type": "code",
        "colab": {
          "base_uri": "https://localhost:8080/",
          "height": 202
        },
        "outputId": "8866cf45-1cba-441a-ac01-98b4882258dc"
      },
      "source": [
        "df = pd.read_csv('https://archive.ics.uci.edu/ml/machine-learning-databases/00471/Data_for_UCI_named.csv')\n",
        "df.head()"
      ],
      "execution_count": 2,
      "outputs": [
        {
          "output_type": "execute_result",
          "data": {
            "text/html": [
              "<div>\n",
              "<style scoped>\n",
              "    .dataframe tbody tr th:only-of-type {\n",
              "        vertical-align: middle;\n",
              "    }\n",
              "\n",
              "    .dataframe tbody tr th {\n",
              "        vertical-align: top;\n",
              "    }\n",
              "\n",
              "    .dataframe thead th {\n",
              "        text-align: right;\n",
              "    }\n",
              "</style>\n",
              "<table border=\"1\" class=\"dataframe\">\n",
              "  <thead>\n",
              "    <tr style=\"text-align: right;\">\n",
              "      <th></th>\n",
              "      <th>tau1</th>\n",
              "      <th>tau2</th>\n",
              "      <th>tau3</th>\n",
              "      <th>tau4</th>\n",
              "      <th>p1</th>\n",
              "      <th>p2</th>\n",
              "      <th>p3</th>\n",
              "      <th>p4</th>\n",
              "      <th>g1</th>\n",
              "      <th>g2</th>\n",
              "      <th>g3</th>\n",
              "      <th>g4</th>\n",
              "      <th>stab</th>\n",
              "      <th>stabf</th>\n",
              "    </tr>\n",
              "  </thead>\n",
              "  <tbody>\n",
              "    <tr>\n",
              "      <th>0</th>\n",
              "      <td>2.959060</td>\n",
              "      <td>3.079885</td>\n",
              "      <td>8.381025</td>\n",
              "      <td>9.780754</td>\n",
              "      <td>3.763085</td>\n",
              "      <td>-0.782604</td>\n",
              "      <td>-1.257395</td>\n",
              "      <td>-1.723086</td>\n",
              "      <td>0.650456</td>\n",
              "      <td>0.859578</td>\n",
              "      <td>0.887445</td>\n",
              "      <td>0.958034</td>\n",
              "      <td>0.055347</td>\n",
              "      <td>unstable</td>\n",
              "    </tr>\n",
              "    <tr>\n",
              "      <th>1</th>\n",
              "      <td>9.304097</td>\n",
              "      <td>4.902524</td>\n",
              "      <td>3.047541</td>\n",
              "      <td>1.369357</td>\n",
              "      <td>5.067812</td>\n",
              "      <td>-1.940058</td>\n",
              "      <td>-1.872742</td>\n",
              "      <td>-1.255012</td>\n",
              "      <td>0.413441</td>\n",
              "      <td>0.862414</td>\n",
              "      <td>0.562139</td>\n",
              "      <td>0.781760</td>\n",
              "      <td>-0.005957</td>\n",
              "      <td>stable</td>\n",
              "    </tr>\n",
              "    <tr>\n",
              "      <th>2</th>\n",
              "      <td>8.971707</td>\n",
              "      <td>8.848428</td>\n",
              "      <td>3.046479</td>\n",
              "      <td>1.214518</td>\n",
              "      <td>3.405158</td>\n",
              "      <td>-1.207456</td>\n",
              "      <td>-1.277210</td>\n",
              "      <td>-0.920492</td>\n",
              "      <td>0.163041</td>\n",
              "      <td>0.766689</td>\n",
              "      <td>0.839444</td>\n",
              "      <td>0.109853</td>\n",
              "      <td>0.003471</td>\n",
              "      <td>unstable</td>\n",
              "    </tr>\n",
              "    <tr>\n",
              "      <th>3</th>\n",
              "      <td>0.716415</td>\n",
              "      <td>7.669600</td>\n",
              "      <td>4.486641</td>\n",
              "      <td>2.340563</td>\n",
              "      <td>3.963791</td>\n",
              "      <td>-1.027473</td>\n",
              "      <td>-1.938944</td>\n",
              "      <td>-0.997374</td>\n",
              "      <td>0.446209</td>\n",
              "      <td>0.976744</td>\n",
              "      <td>0.929381</td>\n",
              "      <td>0.362718</td>\n",
              "      <td>0.028871</td>\n",
              "      <td>unstable</td>\n",
              "    </tr>\n",
              "    <tr>\n",
              "      <th>4</th>\n",
              "      <td>3.134112</td>\n",
              "      <td>7.608772</td>\n",
              "      <td>4.943759</td>\n",
              "      <td>9.857573</td>\n",
              "      <td>3.525811</td>\n",
              "      <td>-1.125531</td>\n",
              "      <td>-1.845975</td>\n",
              "      <td>-0.554305</td>\n",
              "      <td>0.797110</td>\n",
              "      <td>0.455450</td>\n",
              "      <td>0.656947</td>\n",
              "      <td>0.820923</td>\n",
              "      <td>0.049860</td>\n",
              "      <td>unstable</td>\n",
              "    </tr>\n",
              "  </tbody>\n",
              "</table>\n",
              "</div>"
            ],
            "text/plain": [
              "       tau1      tau2      tau3  ...        g4      stab     stabf\n",
              "0  2.959060  3.079885  8.381025  ...  0.958034  0.055347  unstable\n",
              "1  9.304097  4.902524  3.047541  ...  0.781760 -0.005957    stable\n",
              "2  8.971707  8.848428  3.046479  ...  0.109853  0.003471  unstable\n",
              "3  0.716415  7.669600  4.486641  ...  0.362718  0.028871  unstable\n",
              "4  3.134112  7.608772  4.943759  ...  0.820923  0.049860  unstable\n",
              "\n",
              "[5 rows x 14 columns]"
            ]
          },
          "metadata": {
            "tags": []
          },
          "execution_count": 2
        }
      ]
    },
    {
      "cell_type": "code",
      "metadata": {
        "id": "SRj0Pd_dv_hE",
        "colab_type": "code",
        "colab": {}
      },
      "source": [
        "rgsr_df = df.drop(columns='stabf')\n",
        "df = df.drop(columns='stab')"
      ],
      "execution_count": 3,
      "outputs": []
    },
    {
      "cell_type": "code",
      "metadata": {
        "id": "wN4KxjN-w9hc",
        "colab_type": "code",
        "colab": {
          "base_uri": "https://localhost:8080/",
          "height": 260
        },
        "outputId": "110595e8-5121-4dac-a27d-32958afdd87f"
      },
      "source": [
        "df.isnull().sum()"
      ],
      "execution_count": 4,
      "outputs": [
        {
          "output_type": "execute_result",
          "data": {
            "text/plain": [
              "tau1     0\n",
              "tau2     0\n",
              "tau3     0\n",
              "tau4     0\n",
              "p1       0\n",
              "p2       0\n",
              "p3       0\n",
              "p4       0\n",
              "g1       0\n",
              "g2       0\n",
              "g3       0\n",
              "g4       0\n",
              "stabf    0\n",
              "dtype: int64"
            ]
          },
          "metadata": {
            "tags": []
          },
          "execution_count": 4
        }
      ]
    },
    {
      "cell_type": "code",
      "metadata": {
        "id": "_uB6snIzxACl",
        "colab_type": "code",
        "colab": {
          "base_uri": "https://localhost:8080/",
          "height": 260
        },
        "outputId": "a80be69e-905d-43fe-c910-24629d7444f7"
      },
      "source": [
        "df.dtypes"
      ],
      "execution_count": 5,
      "outputs": [
        {
          "output_type": "execute_result",
          "data": {
            "text/plain": [
              "tau1     float64\n",
              "tau2     float64\n",
              "tau3     float64\n",
              "tau4     float64\n",
              "p1       float64\n",
              "p2       float64\n",
              "p3       float64\n",
              "p4       float64\n",
              "g1       float64\n",
              "g2       float64\n",
              "g3       float64\n",
              "g4       float64\n",
              "stabf     object\n",
              "dtype: object"
            ]
          },
          "metadata": {
            "tags": []
          },
          "execution_count": 5
        }
      ]
    },
    {
      "cell_type": "markdown",
      "metadata": {
        "id": "hPn19U76xdVB",
        "colab_type": "text"
      },
      "source": [
        "# Data Preprocessing"
      ]
    },
    {
      "cell_type": "code",
      "metadata": {
        "id": "-cEgoz9bxBw0",
        "colab_type": "code",
        "colab": {}
      },
      "source": [
        "from sklearn.preprocessing import StandardScaler\n",
        "from sklearn.preprocessing import LabelEncoder\n",
        "from sklearn.model_selection import train_test_split, cross_val_score\n",
        "from sklearn.model_selection import KFold, StratifiedKFold, LeaveOneOut\n",
        "from sklearn.metrics import confusion_matrix, classification_report\n",
        "from sklearn.metrics import precision_score, recall_score, accuracy_score\n",
        "from sklearn.metrics import f1_score, plot_roc_curve\n",
        "from sklearn.metrics import roc_auc_score, roc_curve"
      ],
      "execution_count": 6,
      "outputs": []
    },
    {
      "cell_type": "code",
      "metadata": {
        "id": "K2d8W_a7xfw_",
        "colab_type": "code",
        "colab": {
          "base_uri": "https://localhost:8080/",
          "height": 69
        },
        "outputId": "7a0be4c6-5250-4d60-8754-4617f31d7bfe"
      },
      "source": [
        "df.stabf.value_counts()"
      ],
      "execution_count": 7,
      "outputs": [
        {
          "output_type": "execute_result",
          "data": {
            "text/plain": [
              "unstable    6380\n",
              "stable      3620\n",
              "Name: stabf, dtype: int64"
            ]
          },
          "metadata": {
            "tags": []
          },
          "execution_count": 7
        }
      ]
    },
    {
      "cell_type": "code",
      "metadata": {
        "id": "RKukDV2Dxt2p",
        "colab_type": "code",
        "colab": {
          "base_uri": "https://localhost:8080/",
          "height": 202
        },
        "outputId": "2ddd0bb4-5063-4b6b-fb7b-4139424ad35a"
      },
      "source": [
        "features = df[df.columns[:-1]]\n",
        "labels = df[df.columns[-1]]\n",
        "features.head()"
      ],
      "execution_count": 8,
      "outputs": [
        {
          "output_type": "execute_result",
          "data": {
            "text/html": [
              "<div>\n",
              "<style scoped>\n",
              "    .dataframe tbody tr th:only-of-type {\n",
              "        vertical-align: middle;\n",
              "    }\n",
              "\n",
              "    .dataframe tbody tr th {\n",
              "        vertical-align: top;\n",
              "    }\n",
              "\n",
              "    .dataframe thead th {\n",
              "        text-align: right;\n",
              "    }\n",
              "</style>\n",
              "<table border=\"1\" class=\"dataframe\">\n",
              "  <thead>\n",
              "    <tr style=\"text-align: right;\">\n",
              "      <th></th>\n",
              "      <th>tau1</th>\n",
              "      <th>tau2</th>\n",
              "      <th>tau3</th>\n",
              "      <th>tau4</th>\n",
              "      <th>p1</th>\n",
              "      <th>p2</th>\n",
              "      <th>p3</th>\n",
              "      <th>p4</th>\n",
              "      <th>g1</th>\n",
              "      <th>g2</th>\n",
              "      <th>g3</th>\n",
              "      <th>g4</th>\n",
              "    </tr>\n",
              "  </thead>\n",
              "  <tbody>\n",
              "    <tr>\n",
              "      <th>0</th>\n",
              "      <td>2.959060</td>\n",
              "      <td>3.079885</td>\n",
              "      <td>8.381025</td>\n",
              "      <td>9.780754</td>\n",
              "      <td>3.763085</td>\n",
              "      <td>-0.782604</td>\n",
              "      <td>-1.257395</td>\n",
              "      <td>-1.723086</td>\n",
              "      <td>0.650456</td>\n",
              "      <td>0.859578</td>\n",
              "      <td>0.887445</td>\n",
              "      <td>0.958034</td>\n",
              "    </tr>\n",
              "    <tr>\n",
              "      <th>1</th>\n",
              "      <td>9.304097</td>\n",
              "      <td>4.902524</td>\n",
              "      <td>3.047541</td>\n",
              "      <td>1.369357</td>\n",
              "      <td>5.067812</td>\n",
              "      <td>-1.940058</td>\n",
              "      <td>-1.872742</td>\n",
              "      <td>-1.255012</td>\n",
              "      <td>0.413441</td>\n",
              "      <td>0.862414</td>\n",
              "      <td>0.562139</td>\n",
              "      <td>0.781760</td>\n",
              "    </tr>\n",
              "    <tr>\n",
              "      <th>2</th>\n",
              "      <td>8.971707</td>\n",
              "      <td>8.848428</td>\n",
              "      <td>3.046479</td>\n",
              "      <td>1.214518</td>\n",
              "      <td>3.405158</td>\n",
              "      <td>-1.207456</td>\n",
              "      <td>-1.277210</td>\n",
              "      <td>-0.920492</td>\n",
              "      <td>0.163041</td>\n",
              "      <td>0.766689</td>\n",
              "      <td>0.839444</td>\n",
              "      <td>0.109853</td>\n",
              "    </tr>\n",
              "    <tr>\n",
              "      <th>3</th>\n",
              "      <td>0.716415</td>\n",
              "      <td>7.669600</td>\n",
              "      <td>4.486641</td>\n",
              "      <td>2.340563</td>\n",
              "      <td>3.963791</td>\n",
              "      <td>-1.027473</td>\n",
              "      <td>-1.938944</td>\n",
              "      <td>-0.997374</td>\n",
              "      <td>0.446209</td>\n",
              "      <td>0.976744</td>\n",
              "      <td>0.929381</td>\n",
              "      <td>0.362718</td>\n",
              "    </tr>\n",
              "    <tr>\n",
              "      <th>4</th>\n",
              "      <td>3.134112</td>\n",
              "      <td>7.608772</td>\n",
              "      <td>4.943759</td>\n",
              "      <td>9.857573</td>\n",
              "      <td>3.525811</td>\n",
              "      <td>-1.125531</td>\n",
              "      <td>-1.845975</td>\n",
              "      <td>-0.554305</td>\n",
              "      <td>0.797110</td>\n",
              "      <td>0.455450</td>\n",
              "      <td>0.656947</td>\n",
              "      <td>0.820923</td>\n",
              "    </tr>\n",
              "  </tbody>\n",
              "</table>\n",
              "</div>"
            ],
            "text/plain": [
              "       tau1      tau2      tau3  ...        g2        g3        g4\n",
              "0  2.959060  3.079885  8.381025  ...  0.859578  0.887445  0.958034\n",
              "1  9.304097  4.902524  3.047541  ...  0.862414  0.562139  0.781760\n",
              "2  8.971707  8.848428  3.046479  ...  0.766689  0.839444  0.109853\n",
              "3  0.716415  7.669600  4.486641  ...  0.976744  0.929381  0.362718\n",
              "4  3.134112  7.608772  4.943759  ...  0.455450  0.656947  0.820923\n",
              "\n",
              "[5 rows x 12 columns]"
            ]
          },
          "metadata": {
            "tags": []
          },
          "execution_count": 8
        }
      ]
    },
    {
      "cell_type": "markdown",
      "metadata": {
        "id": "nqMAO1jMcUVz",
        "colab_type": "text"
      },
      "source": [
        "## Train model"
      ]
    },
    {
      "cell_type": "code",
      "metadata": {
        "id": "QyUF_JKH1pHl",
        "colab_type": "code",
        "colab": {}
      },
      "source": [
        "X_train, X_test, y_train, y_test = train_test_split(features, \n",
        "                                                    labels, \n",
        "                                                    test_size=0.2, \n",
        "                                                    random_state=1)"
      ],
      "execution_count": 9,
      "outputs": []
    },
    {
      "cell_type": "code",
      "metadata": {
        "id": "F7y6MspjznHS",
        "colab_type": "code",
        "colab": {}
      },
      "source": [
        "# tranform training set and test set with standard scaler\n",
        "scaler = StandardScaler()\n",
        "X_sc = scaler.fit_transform(X_train, y_train)\n",
        "X_test = scaler.transform(X_test)"
      ],
      "execution_count": 10,
      "outputs": []
    },
    {
      "cell_type": "code",
      "metadata": {
        "id": "7UJ5JOLy2uD8",
        "colab_type": "code",
        "colab": {
          "base_uri": "https://localhost:8080/",
          "height": 35
        },
        "outputId": "332d4a4c-50c9-4672-9a32-0dad5606c126"
      },
      "source": [
        "X_sc.shape  # this show that 80% of the data set has been used for training data"
      ],
      "execution_count": 11,
      "outputs": [
        {
          "output_type": "execute_result",
          "data": {
            "text/plain": [
              "(8000, 12)"
            ]
          },
          "metadata": {
            "tags": []
          },
          "execution_count": 11
        }
      ]
    },
    {
      "cell_type": "code",
      "metadata": {
        "id": "KxvEGqSq22er",
        "colab_type": "code",
        "colab": {
          "base_uri": "https://localhost:8080/",
          "height": 35
        },
        "outputId": "ba5fc30c-e836-4077-a904-ae83267add2a"
      },
      "source": [
        "# original data set size\n",
        "df.shape"
      ],
      "execution_count": 12,
      "outputs": [
        {
          "output_type": "execute_result",
          "data": {
            "text/plain": [
              "(10000, 13)"
            ]
          },
          "metadata": {
            "tags": []
          },
          "execution_count": 12
        }
      ]
    },
    {
      "cell_type": "code",
      "metadata": {
        "id": "VT9OO1Yr4l9A",
        "colab_type": "code",
        "colab": {}
      },
      "source": [
        "# True positive label\n",
        "pos_label = 'stable'"
      ],
      "execution_count": 13,
      "outputs": []
    },
    {
      "cell_type": "code",
      "metadata": {
        "id": "hkibEjxG27L7",
        "colab_type": "code",
        "colab": {}
      },
      "source": [
        "from sklearn.ensemble import RandomForestClassifier\n",
        "\n",
        "rforest_clf = RandomForestClassifier() #random forest\n",
        "rforest_clf.fit(X_sc, y_train) \n",
        "\n",
        "randomforest_pred = rforest_clf.predict(X_test) #random forest predictions"
      ],
      "execution_count": 14,
      "outputs": []
    },
    {
      "cell_type": "code",
      "metadata": {
        "id": "IUWzxKcZCsG3",
        "colab_type": "code",
        "colab": {
          "base_uri": "https://localhost:8080/",
          "height": 225
        },
        "outputId": "6d24a81d-b8ab-4fe7-8f41-6e7b02a48dbc"
      },
      "source": [
        "# Random Forest\n",
        "print(confusion_matrix(y_test, randomforest_pred))\n",
        "print(classification_report(y_test, randomforest_pred))\n",
        "print(round(accuracy_score(y_test, randomforest_pred),4))"
      ],
      "execution_count": 15,
      "outputs": [
        {
          "output_type": "stream",
          "text": [
            "[[ 623   89]\n",
            " [  68 1220]]\n",
            "              precision    recall  f1-score   support\n",
            "\n",
            "      stable       0.90      0.88      0.89       712\n",
            "    unstable       0.93      0.95      0.94      1288\n",
            "\n",
            "    accuracy                           0.92      2000\n",
            "   macro avg       0.92      0.91      0.91      2000\n",
            "weighted avg       0.92      0.92      0.92      2000\n",
            "\n",
            "0.9215\n"
          ],
          "name": "stdout"
        }
      ]
    },
    {
      "cell_type": "code",
      "metadata": {
        "id": "n2t4YJ4un25K",
        "colab_type": "code",
        "colab": {
          "base_uri": "https://localhost:8080/",
          "height": 297
        },
        "outputId": "30bfda3f-9a98-496a-df2d-6f638c66bd1b"
      },
      "source": [
        "plot_roc_curve(rforest_clf, X_test, \n",
        "               y_test, response_method='predict_proba')"
      ],
      "execution_count": 16,
      "outputs": [
        {
          "output_type": "execute_result",
          "data": {
            "text/plain": [
              "<sklearn.metrics._plot.roc_curve.RocCurveDisplay at 0x7f57786e5b70>"
            ]
          },
          "metadata": {
            "tags": []
          },
          "execution_count": 16
        },
        {
          "output_type": "display_data",
          "data": {
            "image/png": "[encoded data removed]",
            "text/plain": [
              "<Figure size 432x288 with 1 Axes>"
            ]
          },
          "metadata": {
            "tags": [],
            "needs_background": "light"
          }
        }
      ]
    },
    {
      "cell_type": "code",
      "metadata": {
        "id": "ZUbzWw5RsC5i",
        "colab_type": "code",
        "colab": {
          "base_uri": "https://localhost:8080/",
          "height": 69
        },
        "outputId": "24cfa18e-c6a1-4cc9-b07c-7c818c4580b2"
      },
      "source": [
        "# calculate the percentage of positive predicted value.\n",
        "precision = precision_score(y_true=y_test, y_pred=randomforest_pred, \n",
        "                            pos_label=pos_label)\n",
        "recall = recall_score(y_true=y_test, y_pred=randomforest_pred, \n",
        "                      pos_label=pos_label)\n",
        "f1 = f1_score(y_true=y_test, y_pred=randomforest_pred, \n",
        "              pos_label=pos_label)\n",
        "\n",
        "print('Precision: {}'.format(round(precision*100), 2)) #prints 91.0\n",
        "print('Recall: {}'.format(round(recall*100), 2)) #prints 88.0 \n",
        "print('F1: {}'.format(round(f1*100), 2)) #prints 89.0"
      ],
      "execution_count": 17,
      "outputs": [
        {
          "output_type": "stream",
          "text": [
            "Precision: 90.0\n",
            "Recall: 88.0\n",
            "F1: 89.0\n"
          ],
          "name": "stdout"
        }
      ]
    },
    {
      "cell_type": "code",
      "metadata": {
        "id": "MXC3sQUkCHy_",
        "colab_type": "code",
        "colab": {}
      },
      "source": [
        "from sklearn.ensemble import ExtraTreesClassifier\n",
        "\n",
        "xTree_clf = ExtraTreesClassifier()      #Extra Trees\n",
        "xTree_clf.fit(X_sc, y_train)\n",
        "\n",
        "xTree_pred = xTree_clf.predict(X_test)  #extra tree predictions"
      ],
      "execution_count": 18,
      "outputs": []
    },
    {
      "cell_type": "code",
      "metadata": {
        "id": "e2gJ_kpiC2yO",
        "colab_type": "code",
        "colab": {
          "base_uri": "https://localhost:8080/",
          "height": 225
        },
        "outputId": "c9a422da-a84d-4c5d-a305-9b5c51eb10d9"
      },
      "source": [
        "# Extra Tree\n",
        "print(confusion_matrix(y_test, xTree_pred))\n",
        "print(classification_report(y_test, xTree_pred))\n",
        "print(accuracy_score(y_test, xTree_pred))"
      ],
      "execution_count": 19,
      "outputs": [
        {
          "output_type": "stream",
          "text": [
            "[[ 604  108]\n",
            " [  37 1251]]\n",
            "              precision    recall  f1-score   support\n",
            "\n",
            "      stable       0.94      0.85      0.89       712\n",
            "    unstable       0.92      0.97      0.95      1288\n",
            "\n",
            "    accuracy                           0.93      2000\n",
            "   macro avg       0.93      0.91      0.92      2000\n",
            "weighted avg       0.93      0.93      0.93      2000\n",
            "\n",
            "0.9275\n"
          ],
          "name": "stdout"
        }
      ]
    },
    {
      "cell_type": "code",
      "metadata": {
        "id": "eODHzA34sSKS",
        "colab_type": "code",
        "colab": {
          "base_uri": "https://localhost:8080/",
          "height": 69
        },
        "outputId": "627a78dd-e9a9-4589-9c8f-274ad0083085"
      },
      "source": [
        "# calculate the percentage of positive predicted value.\n",
        "precision = precision_score(y_true=y_test, y_pred=xTree_pred, \n",
        "                            pos_label=pos_label)\n",
        "recall = recall_score(y_true=y_test, y_pred=xTree_pred, \n",
        "                      pos_label=pos_label)\n",
        "f1 = f1_score(y_true=y_test, y_pred=xTree_pred, \n",
        "              pos_label=pos_label)\n",
        "\n",
        "print('Precision: {}'.format(round(precision*100), 2)) #prints 95.0\n",
        "print('Recall: {}'.format(round(recall*100), 2)) #prints 83.0 \n",
        "print('F1: {}'.format(round(f1*100), 2)) #prints 88.0"
      ],
      "execution_count": 20,
      "outputs": [
        {
          "output_type": "stream",
          "text": [
            "Precision: 94.0\n",
            "Recall: 85.0\n",
            "F1: 89.0\n"
          ],
          "name": "stdout"
        }
      ]
    },
    {
      "cell_type": "code",
      "metadata": {
        "id": "w5qAkxl6oCZk",
        "colab_type": "code",
        "colab": {
          "base_uri": "https://localhost:8080/",
          "height": 297
        },
        "outputId": "74873dc2-ef0a-4782-aaf2-c365322a2dd3"
      },
      "source": [
        "plot_roc_curve(xTree_clf, X_test, \n",
        "               y_test, response_method='predict_proba')"
      ],
      "execution_count": 21,
      "outputs": [
        {
          "output_type": "execute_result",
          "data": {
            "text/plain": [
              "<sklearn.metrics._plot.roc_curve.RocCurveDisplay at 0x7f57786e5c50>"
            ]
          },
          "metadata": {
            "tags": []
          },
          "execution_count": 21
        },
        {
          "output_type": "display_data",
          "data": {
            "image/png": "[encoded data removed]",
            "text/plain": [
              "<Figure size 432x288 with 1 Axes>"
            ]
          },
          "metadata": {
            "tags": [],
            "needs_background": "light"
          }
        }
      ]
    },
    {
      "cell_type": "code",
      "metadata": {
        "id": "q8k_lo2QDNH6",
        "colab_type": "code",
        "colab": {}
      },
      "source": [
        "import xgboost as xgb\n",
        "import lightgbm as lgb\n",
        "\n",
        "#LEncoder = LabelEncoder()\n",
        "#LEn_train = LEncoder.fit_transform(y_train)\n",
        "#LEn_test = LEncoder.fit_transform(y_test)\n",
        "\n",
        "d = {'stable':1, 'unstable':0}\n",
        "LEn_train = y_train.map(d) # mapping 1 to 'stable' while 'unstable' to 0.\n",
        "LEn_test = y_test.map(d)"
      ],
      "execution_count": 22,
      "outputs": []
    },
    {
      "cell_type": "code",
      "metadata": {
        "id": "anxyDiHdXEPO",
        "colab_type": "code",
        "colab": {
          "base_uri": "https://localhost:8080/",
          "height": 35
        },
        "outputId": "acb3bc89-18ba-4c86-85b3-1cc4ed64675c"
      },
      "source": [
        "from xgboost import XGBClassifier\n",
        "\n",
        "model = XGBClassifier()\n",
        "model.fit(X_sc, y_train)\n",
        "# make predictions for test data\n",
        "y_pred = model.predict(X_test)\n",
        "# evaluate predictions\n",
        "accuracy = accuracy_score(y_test, y_pred)\n",
        "print(accuracy)"
      ],
      "execution_count": 23,
      "outputs": [
        {
          "output_type": "stream",
          "text": [
            "0.9195\n"
          ],
          "name": "stdout"
        }
      ]
    },
    {
      "cell_type": "code",
      "metadata": {
        "id": "IBUGCb4iEHl0",
        "colab_type": "code",
        "colab": {}
      },
      "source": [
        "# converting the dataset into XGB format\n",
        "dtrain = xgb.DMatrix(X_sc, label = LEn_train)\n",
        "dtest = xgb.DMatrix(X_test, label=LEn_test)\n",
        "\n",
        "#Specifying the parameter\n",
        "xgb_params = { \n",
        "                'max_depth': 4,\n",
        "                'eta': 0.3,\n",
        "                'objectives': 'multi:softmax',\n",
        "                'num_class': 2,\n",
        "            }\n",
        "epochs = 10\n",
        "\n",
        "#train the model \n",
        "xgb_model = xgb.train(xgb_params, dtrain, epochs)\n",
        "\n",
        "# predictions\n",
        "xgb_pred = xgb_model.predict(dtest)"
      ],
      "execution_count": 24,
      "outputs": []
    },
    {
      "cell_type": "code",
      "metadata": {
        "id": "QuHKbLeAEPrB",
        "colab_type": "code",
        "colab": {
          "base_uri": "https://localhost:8080/",
          "height": 225
        },
        "outputId": "33ed4cb5-c0a2-478b-fb4c-76bae5ac3eca"
      },
      "source": [
        "print(confusion_matrix(LEn_test, xgb_pred))\n",
        "print(classification_report(LEn_test, xgb_pred))\n",
        "print(accuracy_score(LEn_test, xgb_pred))"
      ],
      "execution_count": 25,
      "outputs": [
        {
          "output_type": "stream",
          "text": [
            "[[1216   72]\n",
            " [ 156  556]]\n",
            "              precision    recall  f1-score   support\n",
            "\n",
            "           0       0.89      0.94      0.91      1288\n",
            "           1       0.89      0.78      0.83       712\n",
            "\n",
            "    accuracy                           0.89      2000\n",
            "   macro avg       0.89      0.86      0.87      2000\n",
            "weighted avg       0.89      0.89      0.88      2000\n",
            "\n",
            "0.886\n"
          ],
          "name": "stdout"
        }
      ]
    },
    {
      "cell_type": "code",
      "metadata": {
        "id": "GXhw3ZuCscZx",
        "colab_type": "code",
        "colab": {
          "base_uri": "https://localhost:8080/",
          "height": 69
        },
        "outputId": "e39b9eb0-7468-4992-cae4-f4fe26af2663"
      },
      "source": [
        "# calculate the percentage of positive predicted value.\n",
        "precision = precision_score(y_true=LEn_test, y_pred=xgb_pred, \n",
        "                            pos_label=1)\n",
        "recall = recall_score(y_true=LEn_test, y_pred=xgb_pred, \n",
        "                      pos_label=1)\n",
        "f1 = f1_score(y_true=LEn_test, y_pred=xgb_pred, \n",
        "              pos_label=1)\n",
        "\n",
        "print('Precision: {}'.format(round(precision*100), 2)) #prints 89.0\n",
        "print('Recall: {}'.format(round(recall*100), 2)) #prints 78.0 \n",
        "print('F1: {}'.format(round(f1*100), 2)) #prints 83.0"
      ],
      "execution_count": 26,
      "outputs": [
        {
          "output_type": "stream",
          "text": [
            "Precision: 89.0\n",
            "Recall: 78.0\n",
            "F1: 83.0\n"
          ],
          "name": "stdout"
        }
      ]
    },
    {
      "cell_type": "code",
      "metadata": {
        "id": "Rq8RZhMAEJmp",
        "colab_type": "code",
        "colab": {}
      },
      "source": [
        "#converting the dataset into proper LGB format \n",
        "l_train=lgb.Dataset(X_sc, label=LEn_train)\n",
        "\n",
        "#Specifying the parameter\n",
        "lgb_params = {\n",
        "            'learning_rate': 0.03,\n",
        "            'boosting_type': 'gbdt', #GradientBoostingDecisionTree\n",
        "            'objective': 'binary', #Binary target feature\n",
        "            'metric': 'binary_logloss', #metric for binary classification\n",
        "            'max_depth': 10\n",
        "       }\n",
        "\n",
        "# Train model  \n",
        "lgb_model = lgb.train(lgb_params, l_train, epochs)\n",
        "\n",
        "# prediction\n",
        "lgb_pred = lgb_model.predict(X_test)"
      ],
      "execution_count": 27,
      "outputs": []
    },
    {
      "cell_type": "code",
      "metadata": {
        "id": "d_tTTLQtFMKW",
        "colab_type": "code",
        "colab": {
          "base_uri": "https://localhost:8080/",
          "height": 225
        },
        "outputId": "0cf96e35-b084-4bd6-8d70-d79ddd7b8bca"
      },
      "source": [
        "#rounding the values\n",
        "lgb_pred=lgb_pred.round(0)\n",
        "#converting from float to integer\n",
        "lgb_pred=lgb_pred.astype(int)\n",
        "\n",
        "print(confusion_matrix(LEn_test, lgb_pred))\n",
        "print(classification_report(LEn_test, lgb_pred))\n",
        "print(accuracy_score(LEn_test, lgb_pred))"
      ],
      "execution_count": 28,
      "outputs": [
        {
          "output_type": "stream",
          "text": [
            "[[1286    2]\n",
            " [ 611  101]]\n",
            "              precision    recall  f1-score   support\n",
            "\n",
            "           0       0.68      1.00      0.81      1288\n",
            "           1       0.98      0.14      0.25       712\n",
            "\n",
            "    accuracy                           0.69      2000\n",
            "   macro avg       0.83      0.57      0.53      2000\n",
            "weighted avg       0.79      0.69      0.61      2000\n",
            "\n",
            "0.6935\n"
          ],
          "name": "stdout"
        }
      ]
    },
    {
      "cell_type": "code",
      "metadata": {
        "id": "GG1kJKhIsjst",
        "colab_type": "code",
        "colab": {
          "base_uri": "https://localhost:8080/",
          "height": 69
        },
        "outputId": "927ae3d6-5813-4b01-e380-d48fd198932b"
      },
      "source": [
        "# calculate the percentage of positive predicted value.\n",
        "precision = precision_score(y_true=LEn_test, y_pred=lgb_pred, \n",
        "                            pos_label=1)\n",
        "recall = recall_score(y_true=LEn_test, y_pred=lgb_pred, \n",
        "                      pos_label=1)\n",
        "f1 = f1_score(y_true=LEn_test, y_pred=lgb_pred, \n",
        "              pos_label=1)\n",
        "\n",
        "print('Precision: {}'.format(round(precision*100), 2)) #prints 41.0\n",
        "print('Recall: {}'.format(round(recall*100), 2)) #prints 81.0 \n",
        "print('F1: {}'.format(round(f1*100), 2)) #prints 45.0"
      ],
      "execution_count": 29,
      "outputs": [
        {
          "output_type": "stream",
          "text": [
            "Precision: 98.0\n",
            "Recall: 14.0\n",
            "F1: 25.0\n"
          ],
          "name": "stdout"
        }
      ]
    },
    {
      "cell_type": "code",
      "metadata": {
        "id": "zWl-7rtwXm6k",
        "colab_type": "code",
        "colab": {
          "base_uri": "https://localhost:8080/",
          "height": 35
        },
        "outputId": "591e0000-6a89-4b36-968a-22328b9da758"
      },
      "source": [
        "model = lgb.LGBMClassifier()\n",
        "model.fit(X_sc, y_train)\n",
        "# make predictions for test data\n",
        "y_pred = model.predict(X_test)\n",
        "# evaluate predictions\n",
        "accuracy = accuracy_score(y_test, y_pred)\n",
        "print(accuracy)"
      ],
      "execution_count": 30,
      "outputs": [
        {
          "output_type": "stream",
          "text": [
            "0.9375\n"
          ],
          "name": "stdout"
        }
      ]
    },
    {
      "cell_type": "code",
      "metadata": {
        "id": "GR7inpQdE4Ku",
        "colab_type": "code",
        "colab": {
          "base_uri": "https://localhost:8080/",
          "height": 277
        },
        "outputId": "ea9e3595-2961-4ad9-dc89-9d5bcebb78d7"
      },
      "source": [
        "from sklearn.model_selection import RandomizedSearchCV\n",
        "\n",
        "hyperparameter_grid = {\n",
        "    'max_features'      : ['auto', 'sqrt', 'log2', None],\n",
        "    'min_samples_leaf'  : [1, 2, 4, 6, 8],\n",
        "    'min_samples_split' : [2, 3, 5, 7, 9],\n",
        "    'n_estimators'      : [50, 100, 300, 500, 1000]\n",
        "}# Create a based model\n",
        "\n",
        "random_search = RandomizedSearchCV(estimator = ExtraTreesClassifier(), \n",
        "                                    param_distributions = hyperparameter_grid,\n",
        "                                    n_iter=10, scoring = 'accuracy', \n",
        "                                    cv = 5, n_jobs = -1, verbose = 1, random_state=1)\n",
        "random_search.fit(X_sc, y_train)\n",
        "\n",
        "print(\"Best Estimator              : {}\".format(random_search.best_estimator_))\n",
        "print(\"Best Cross-Validation-Score : {}\".format(random_search.best_score_))\n",
        "print(\"Best Parameters             : {}\".format(random_search.best_params_))\n",
        "print(\"Best Index                  : {}\".format(random_search.best_index_))"
      ],
      "execution_count": 31,
      "outputs": [
        {
          "output_type": "stream",
          "text": [
            "Fitting 5 folds for each of 10 candidates, totalling 50 fits\n"
          ],
          "name": "stdout"
        },
        {
          "output_type": "stream",
          "text": [
            "[Parallel(n_jobs=-1)]: Using backend LokyBackend with 2 concurrent workers.\n",
            "[Parallel(n_jobs=-1)]: Done  46 tasks      | elapsed:  1.4min\n",
            "[Parallel(n_jobs=-1)]: Done  50 out of  50 | elapsed:  1.4min finished\n"
          ],
          "name": "stderr"
        },
        {
          "output_type": "stream",
          "text": [
            "Best Estimator              : ExtraTreesClassifier(bootstrap=False, ccp_alpha=0.0, class_weight=None,\n",
            "                     criterion='gini', max_depth=None, max_features=None,\n",
            "                     max_leaf_nodes=None, max_samples=None,\n",
            "                     min_impurity_decrease=0.0, min_impurity_split=None,\n",
            "                     min_samples_leaf=8, min_samples_split=2,\n",
            "                     min_weight_fraction_leaf=0.0, n_estimators=1000,\n",
            "                     n_jobs=None, oob_score=False, random_state=None, verbose=0,\n",
            "                     warm_start=False)\n",
            "Best Cross-Validation-Score : 0.92425\n",
            "Best Parameters             : {'n_estimators': 1000, 'min_samples_split': 2, 'min_samples_leaf': 8, 'max_features': None}\n",
            "Best Index                  : 4\n"
          ],
          "name": "stdout"
        }
      ]
    },
    {
      "cell_type": "code",
      "metadata": {
        "id": "w3l965kzgPvs",
        "colab_type": "code",
        "colab": {}
      },
      "source": [
        "# Building the model \n",
        "extra_tree_forest = ExtraTreesClassifier(random_state=1) \n",
        "  \n",
        "# Training the model \n",
        "extra_tree_forest.fit(X_sc, y_train)\n",
        "\n",
        "# Computing the importance of each feature \n",
        "feature_importance = extra_tree_forest.feature_importances_"
      ],
      "execution_count": 33,
      "outputs": []
    },
    {
      "cell_type": "code",
      "metadata": {
        "id": "qJR-ejrffnVR",
        "colab_type": "code",
        "colab": {
          "base_uri": "https://localhost:8080/",
          "height": 295
        },
        "outputId": "f228d4a7-a8bc-4232-8858-4fa5dfb345b8"
      },
      "source": [
        "# Plotting a Bar Graph to compare the models \n",
        "plt.bar(X_train.columns, feature_importance) \n",
        "plt.xlabel('Feature Labels') \n",
        "plt.ylabel('Feature Importances') \n",
        "plt.title('Comparison of different Feature Importances') \n",
        "plt.show() "
      ],
      "execution_count": 34,
      "outputs": [
        {
          "output_type": "display_data",
          "data": {
            "image/png": "[encoded data removed]",
            "text/plain": [
              "<Figure size 432x288 with 1 Axes>"
            ]
          },
          "metadata": {
            "tags": [],
            "needs_background": "light"
          }
        }
      ]
    },
    {
      "cell_type": "markdown",
      "metadata": {
        "id": "4aaqE715gfEz",
        "colab_type": "text"
      },
      "source": [
        "We can see that 'tau2' feature the highest value indicating the most important while 'p1' has the lowest value which indicating that it is least important."
      ]
    },
    {
      "cell_type": "code",
      "metadata": {
        "id": "oFtHmeR6OTpr",
        "colab_type": "code",
        "colab": {
          "base_uri": "https://localhost:8080/",
          "height": 447
        },
        "outputId": "b08378a1-c212-4298-fb95-c20dbe0a8530"
      },
      "source": [
        "rgsr_df.corr(method='pearson')"
      ],
      "execution_count": 35,
      "outputs": [
        {
          "output_type": "execute_result",
          "data": {
            "text/html": [
              "<div>\n",
              "<style scoped>\n",
              "    .dataframe tbody tr th:only-of-type {\n",
              "        vertical-align: middle;\n",
              "    }\n",
              "\n",
              "    .dataframe tbody tr th {\n",
              "        vertical-align: top;\n",
              "    }\n",
              "\n",
              "    .dataframe thead th {\n",
              "        text-align: right;\n",
              "    }\n",
              "</style>\n",
              "<table border=\"1\" class=\"dataframe\">\n",
              "  <thead>\n",
              "    <tr style=\"text-align: right;\">\n",
              "      <th></th>\n",
              "      <th>tau1</th>\n",
              "      <th>tau2</th>\n",
              "      <th>tau3</th>\n",
              "      <th>tau4</th>\n",
              "      <th>p1</th>\n",
              "      <th>p2</th>\n",
              "      <th>p3</th>\n",
              "      <th>p4</th>\n",
              "      <th>g1</th>\n",
              "      <th>g2</th>\n",
              "      <th>g3</th>\n",
              "      <th>g4</th>\n",
              "      <th>stab</th>\n",
              "    </tr>\n",
              "  </thead>\n",
              "  <tbody>\n",
              "    <tr>\n",
              "      <th>tau1</th>\n",
              "      <td>1.000000</td>\n",
              "      <td>0.015586</td>\n",
              "      <td>-0.005970</td>\n",
              "      <td>-0.017265</td>\n",
              "      <td>0.027183</td>\n",
              "      <td>-0.015485</td>\n",
              "      <td>-0.015924</td>\n",
              "      <td>-0.015807</td>\n",
              "      <td>0.010521</td>\n",
              "      <td>0.015350</td>\n",
              "      <td>-0.001279</td>\n",
              "      <td>0.005494</td>\n",
              "      <td>0.275761</td>\n",
              "    </tr>\n",
              "    <tr>\n",
              "      <th>tau2</th>\n",
              "      <td>0.015586</td>\n",
              "      <td>1.000000</td>\n",
              "      <td>0.014273</td>\n",
              "      <td>-0.001965</td>\n",
              "      <td>-0.004769</td>\n",
              "      <td>0.006573</td>\n",
              "      <td>0.007673</td>\n",
              "      <td>-0.005963</td>\n",
              "      <td>-0.001742</td>\n",
              "      <td>0.015383</td>\n",
              "      <td>0.016508</td>\n",
              "      <td>-0.011764</td>\n",
              "      <td>0.290975</td>\n",
              "    </tr>\n",
              "    <tr>\n",
              "      <th>tau3</th>\n",
              "      <td>-0.005970</td>\n",
              "      <td>0.014273</td>\n",
              "      <td>1.000000</td>\n",
              "      <td>0.004354</td>\n",
              "      <td>0.016953</td>\n",
              "      <td>-0.003134</td>\n",
              "      <td>-0.008780</td>\n",
              "      <td>-0.017531</td>\n",
              "      <td>-0.011605</td>\n",
              "      <td>0.007671</td>\n",
              "      <td>0.014702</td>\n",
              "      <td>-0.011497</td>\n",
              "      <td>0.280700</td>\n",
              "    </tr>\n",
              "    <tr>\n",
              "      <th>tau4</th>\n",
              "      <td>-0.017265</td>\n",
              "      <td>-0.001965</td>\n",
              "      <td>0.004354</td>\n",
              "      <td>1.000000</td>\n",
              "      <td>-0.003173</td>\n",
              "      <td>0.010553</td>\n",
              "      <td>0.006169</td>\n",
              "      <td>-0.011211</td>\n",
              "      <td>-0.004149</td>\n",
              "      <td>0.008431</td>\n",
              "      <td>0.003260</td>\n",
              "      <td>-0.000491</td>\n",
              "      <td>0.278576</td>\n",
              "    </tr>\n",
              "    <tr>\n",
              "      <th>p1</th>\n",
              "      <td>0.027183</td>\n",
              "      <td>-0.004769</td>\n",
              "      <td>0.016953</td>\n",
              "      <td>-0.003173</td>\n",
              "      <td>1.000000</td>\n",
              "      <td>-0.573157</td>\n",
              "      <td>-0.584554</td>\n",
              "      <td>-0.579239</td>\n",
              "      <td>0.000721</td>\n",
              "      <td>0.015405</td>\n",
              "      <td>0.001069</td>\n",
              "      <td>-0.015451</td>\n",
              "      <td>0.010278</td>\n",
              "    </tr>\n",
              "    <tr>\n",
              "      <th>p2</th>\n",
              "      <td>-0.015485</td>\n",
              "      <td>0.006573</td>\n",
              "      <td>-0.003134</td>\n",
              "      <td>0.010553</td>\n",
              "      <td>-0.573157</td>\n",
              "      <td>1.000000</td>\n",
              "      <td>0.002388</td>\n",
              "      <td>-0.006844</td>\n",
              "      <td>0.015603</td>\n",
              "      <td>-0.018032</td>\n",
              "      <td>0.007555</td>\n",
              "      <td>0.019817</td>\n",
              "      <td>0.006255</td>\n",
              "    </tr>\n",
              "    <tr>\n",
              "      <th>p3</th>\n",
              "      <td>-0.015924</td>\n",
              "      <td>0.007673</td>\n",
              "      <td>-0.008780</td>\n",
              "      <td>0.006169</td>\n",
              "      <td>-0.584554</td>\n",
              "      <td>0.002388</td>\n",
              "      <td>1.000000</td>\n",
              "      <td>0.012953</td>\n",
              "      <td>-0.003219</td>\n",
              "      <td>-0.011575</td>\n",
              "      <td>-0.005897</td>\n",
              "      <td>-0.010485</td>\n",
              "      <td>-0.003321</td>\n",
              "    </tr>\n",
              "    <tr>\n",
              "      <th>p4</th>\n",
              "      <td>-0.015807</td>\n",
              "      <td>-0.005963</td>\n",
              "      <td>-0.017531</td>\n",
              "      <td>-0.011211</td>\n",
              "      <td>-0.579239</td>\n",
              "      <td>-0.006844</td>\n",
              "      <td>0.012953</td>\n",
              "      <td>1.000000</td>\n",
              "      <td>-0.013636</td>\n",
              "      <td>0.002850</td>\n",
              "      <td>-0.003515</td>\n",
              "      <td>0.017505</td>\n",
              "      <td>-0.020786</td>\n",
              "    </tr>\n",
              "    <tr>\n",
              "      <th>g1</th>\n",
              "      <td>0.010521</td>\n",
              "      <td>-0.001742</td>\n",
              "      <td>-0.011605</td>\n",
              "      <td>-0.004149</td>\n",
              "      <td>0.000721</td>\n",
              "      <td>0.015603</td>\n",
              "      <td>-0.003219</td>\n",
              "      <td>-0.013636</td>\n",
              "      <td>1.000000</td>\n",
              "      <td>0.007559</td>\n",
              "      <td>-0.005836</td>\n",
              "      <td>0.012431</td>\n",
              "      <td>0.282774</td>\n",
              "    </tr>\n",
              "    <tr>\n",
              "      <th>g2</th>\n",
              "      <td>0.015350</td>\n",
              "      <td>0.015383</td>\n",
              "      <td>0.007671</td>\n",
              "      <td>0.008431</td>\n",
              "      <td>0.015405</td>\n",
              "      <td>-0.018032</td>\n",
              "      <td>-0.011575</td>\n",
              "      <td>0.002850</td>\n",
              "      <td>0.007559</td>\n",
              "      <td>1.000000</td>\n",
              "      <td>-0.012809</td>\n",
              "      <td>-0.014909</td>\n",
              "      <td>0.293601</td>\n",
              "    </tr>\n",
              "    <tr>\n",
              "      <th>g3</th>\n",
              "      <td>-0.001279</td>\n",
              "      <td>0.016508</td>\n",
              "      <td>0.014702</td>\n",
              "      <td>0.003260</td>\n",
              "      <td>0.001069</td>\n",
              "      <td>0.007555</td>\n",
              "      <td>-0.005897</td>\n",
              "      <td>-0.003515</td>\n",
              "      <td>-0.005836</td>\n",
              "      <td>-0.012809</td>\n",
              "      <td>1.000000</td>\n",
              "      <td>0.006900</td>\n",
              "      <td>0.308235</td>\n",
              "    </tr>\n",
              "    <tr>\n",
              "      <th>g4</th>\n",
              "      <td>0.005494</td>\n",
              "      <td>-0.011764</td>\n",
              "      <td>-0.011497</td>\n",
              "      <td>-0.000491</td>\n",
              "      <td>-0.015451</td>\n",
              "      <td>0.019817</td>\n",
              "      <td>-0.010485</td>\n",
              "      <td>0.017505</td>\n",
              "      <td>0.012431</td>\n",
              "      <td>-0.014909</td>\n",
              "      <td>0.006900</td>\n",
              "      <td>1.000000</td>\n",
              "      <td>0.279214</td>\n",
              "    </tr>\n",
              "    <tr>\n",
              "      <th>stab</th>\n",
              "      <td>0.275761</td>\n",
              "      <td>0.290975</td>\n",
              "      <td>0.280700</td>\n",
              "      <td>0.278576</td>\n",
              "      <td>0.010278</td>\n",
              "      <td>0.006255</td>\n",
              "      <td>-0.003321</td>\n",
              "      <td>-0.020786</td>\n",
              "      <td>0.282774</td>\n",
              "      <td>0.293601</td>\n",
              "      <td>0.308235</td>\n",
              "      <td>0.279214</td>\n",
              "      <td>1.000000</td>\n",
              "    </tr>\n",
              "  </tbody>\n",
              "</table>\n",
              "</div>"
            ],
            "text/plain": [
              "          tau1      tau2      tau3  ...        g3        g4      stab\n",
              "tau1  1.000000  0.015586 -0.005970  ... -0.001279  0.005494  0.275761\n",
              "tau2  0.015586  1.000000  0.014273  ...  0.016508 -0.011764  0.290975\n",
              "tau3 -0.005970  0.014273  1.000000  ...  0.014702 -0.011497  0.280700\n",
              "tau4 -0.017265 -0.001965  0.004354  ...  0.003260 -0.000491  0.278576\n",
              "p1    0.027183 -0.004769  0.016953  ...  0.001069 -0.015451  0.010278\n",
              "p2   -0.015485  0.006573 -0.003134  ...  0.007555  0.019817  0.006255\n",
              "p3   -0.015924  0.007673 -0.008780  ... -0.005897 -0.010485 -0.003321\n",
              "p4   -0.015807 -0.005963 -0.017531  ... -0.003515  0.017505 -0.020786\n",
              "g1    0.010521 -0.001742 -0.011605  ... -0.005836  0.012431  0.282774\n",
              "g2    0.015350  0.015383  0.007671  ... -0.012809 -0.014909  0.293601\n",
              "g3   -0.001279  0.016508  0.014702  ...  1.000000  0.006900  0.308235\n",
              "g4    0.005494 -0.011764 -0.011497  ...  0.006900  1.000000  0.279214\n",
              "stab  0.275761  0.290975  0.280700  ...  0.308235  0.279214  1.000000\n",
              "\n",
              "[13 rows x 13 columns]"
            ]
          },
          "metadata": {
            "tags": []
          },
          "execution_count": 35
        }
      ]
    },
    {
      "cell_type": "code",
      "metadata": {
        "id": "fepuFkMCgcxV",
        "colab_type": "code",
        "colab": {}
      },
      "source": [
        ""
      ],
      "execution_count": null,
      "outputs": []
    }
  ]
}